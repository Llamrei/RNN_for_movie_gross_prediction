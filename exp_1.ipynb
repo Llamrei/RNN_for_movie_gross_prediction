{
 "cells": [
  {
   "cell_type": "code",
   "execution_count": 1,
   "metadata": {},
   "outputs": [],
   "source": [
    "\"\"\"\n",
    "Follows https://www.tensorflow.org/tutorials/text/text_classification_rnn\n",
    "\"\"\"\n",
    "import pickle as pkl\n",
    "import numpy as np\n",
    "import random\n",
    "import re\n",
    "\n",
    "import tensorflow_datasets as tfds\n",
    "import tensorflow as tf\n",
    "\n",
    "import matplotlib.pyplot as plt"
   ]
  },
  {
   "cell_type": "code",
   "execution_count": 2,
   "metadata": {},
   "outputs": [
    {
     "data": {
      "text/plain": [
       "datetime.datetime(2020, 12, 16, 15, 38, 11, 490947)"
      ]
     },
     "execution_count": 2,
     "metadata": {},
     "output_type": "execute_result"
    }
   ],
   "source": [
    "from datetime import datetime\n",
    "datetime.now()"
   ]
  },
  {
   "cell_type": "code",
   "execution_count": 3,
   "metadata": {},
   "outputs": [],
   "source": [
    "def plot_graphs(history, metric):\n",
    "    plt.plot(history.history[metric])\n",
    "    plt.plot(history.history[\"val_\" + metric], \"\")\n",
    "    plt.xlabel(\"Epochs\")\n",
    "    plt.ylabel(metric)\n",
    "    plt.legend([metric, \"val_\" + metric])\n"
   ]
  },
  {
   "cell_type": "code",
   "execution_count": 4,
   "metadata": {},
   "outputs": [],
   "source": [
    "def split_data_into_input_and_output(data):\n",
    "    \"\"\"Take given data of format from scraper [link] and return the inputs and outputs seperated.\n",
    "\n",
    "    Args:\n",
    "        data (list): A numpy array/list of named tuples which contains entries for 'gross',\n",
    "        'title', 'synopsis' and 'year'.\n",
    "    \"\"\"\n",
    "    data_in, data_out = list(zip(*[((x[\"synopsis\"]), x[\"gross\"]) for x in data]))\n",
    "    return np.array(data_in), np.array(data_out)"
   ]
  },
  {
   "cell_type": "code",
   "execution_count": 5,
   "metadata": {},
   "outputs": [],
   "source": [
    "def add_signal(data):\n",
    "    \"\"\"\n",
    "    If the given data has no signal we cant fit a NN to it. As such, here we append how much the film grossed\n",
    "    into the synopsis of each title.\n",
    "\n",
    "    Args:\n",
    "        data (list): A numpy array/list of named tuples which contains entries for 'gross',\n",
    "        'title', 'synopsis' and 'year'.\n",
    "    \"\"\"\n",
    "    for row in data:\n",
    "        row[\"synopsis\"] = row[\"synopsis\"] + f' The film grossed ${row[\"gross\"]}'"
   ]
  },
  {
   "cell_type": "code",
   "execution_count": 6,
   "metadata": {},
   "outputs": [],
   "source": [
    "real_data = pkl.load(open(\"complete10000_films_and_synopsis.pickle\", \"rb\"))\n",
    "# Small sample size to really overfit the network\n",
    "data = real_data[:1000]\n",
    "# No extra signal added to inputs"
   ]
  },
  {
   "cell_type": "code",
   "execution_count": 7,
   "metadata": {},
   "outputs": [],
   "source": [
    "# Fraction of overall data\n",
    "training_fraction = 0.85\n",
    "# Fraction of training data\n",
    "validation_fraction = 0.2\n",
    "\n",
    "train_end = int(len(data) * training_fraction)\n",
    "train_data_in, train_data_out = split_data_into_input_and_output(data[:train_end])\n",
    "test_data_in, test_data_out = split_data_into_input_and_output(data[train_end:])\n",
    "\n",
    "train_dataset = tf.data.Dataset.from_tensor_slices((train_data_in, train_data_out))\n",
    "test_dataset = tf.data.Dataset.from_tensor_slices((test_data_in, test_data_out))\n",
    "\n",
    "\n",
    "# How much it loads into memory for sampling\n",
    "BUFFER_SIZE = 10000\n",
    "# Batch for gradient averaging\n",
    "BATCH_SIZE = 64\n",
    "# prefetch parrallelising loading + execution (not huge so not necessary)\n",
    "\n",
    "train_dataset = train_dataset.shuffle(BUFFER_SIZE).batch(BATCH_SIZE).prefetch(5)\n",
    "test_dataset = test_dataset.batch(BATCH_SIZE).prefetch(5)"
   ]
  },
  {
   "cell_type": "code",
   "execution_count": 8,
   "metadata": {},
   "outputs": [],
   "source": [
    "sample, label = next(iter(train_dataset.take(1)))"
   ]
  },
  {
   "cell_type": "code",
   "execution_count": 9,
   "metadata": {},
   "outputs": [],
   "source": [
    "VOCAB_SIZE = 10000\n",
    "# Bigrams\n",
    "encoder = tf.keras.layers.experimental.preprocessing.TextVectorization(\n",
    "    max_tokens=VOCAB_SIZE, ngrams=2\n",
    ")\n"
   ]
  },
  {
   "cell_type": "code",
   "execution_count": 10,
   "metadata": {},
   "outputs": [],
   "source": [
    "encoder.adapt(train_dataset.map(lambda text, label: text))"
   ]
  },
  {
   "cell_type": "code",
   "execution_count": 11,
   "metadata": {},
   "outputs": [
    {
     "name": "stdout",
     "output_type": "stream",
     "text": [
      "[[  18 1743 3843   11 3452   15    2  283 1122 1197 2031   16   11  165\n",
      "     4 8666    7   96   36   22    2 1019  947    4  801 4819 3182    1\n",
      "     1 3451   67 1348    1    1    1    1  209  451  211 5858 8665 1181\n",
      "     1 1153   82 4077 5702 3922 1026    0    0    0    0    0    0    0\n",
      "     0    0    0    0    0    0    0    0    0    0    0    0    0    0\n",
      "     0    0    0    0    0    0    0    0    0    0    0]\n",
      " [   3   48  256  217 2081    8    3  492  761   25   70  342 3396   14\n",
      "     3    1    6    2  918 4838 7459    1  240    1   12  339   15 3091\n",
      "     3  577   74 2411 2277    1 7629    1   31 1037 1378 4852 1653 8324\n",
      "  9305    1  107 6784    1   26 1346    1 4837 7458    1 8255    1    1\n",
      "  2711    1    1 1491  928    0    0    0    0    0    0    0    0    0\n",
      "     0    0    0    0    0    0    0    0    0    0    0]\n",
      " [  94  321 1247    9    2   84  733 1588 1525 5046 7765  260 1144  948\n",
      "  2533 1074    5 1549    1 6072 4421    1   47  142    1    1 8651 7431\n",
      "  5045 7764 5231 1143    1 7025 2620    1 8059    0    0    0    0    0\n",
      "     0    0    0    0    0    0    0    0    0    0    0    0    0    0\n",
      "     0    0    0    0    0    0    0    0    0    0    0    0    0    0\n",
      "     0    0    0    0    0    0    0    0    0    0    0]]\n"
     ]
    }
   ],
   "source": [
    "encoded_sample = encoder(sample).numpy()[:3]\n",
    "print(encoded_sample)"
   ]
  },
  {
   "cell_type": "code",
   "execution_count": 12,
   "metadata": {},
   "outputs": [
    {
     "name": "stdout",
     "output_type": "stream",
     "text": [
      "Original:  b'When Jason Bourne is framed for a CIA operation gone awry, he is forced to resume his former life as a trained assassin to survive.'\n",
      "Round-trip:  when jason bourne is framed for a cia operation gone awry he is forced to resume his former life as a trained assassin to survive when jason jason bourne [UNK] [UNK] framed for for a a cia [UNK] [UNK] [UNK] [UNK] he is is forced forced to to resume resume his his former [UNK] life as as a a trained trained assassin assassin to to survive                                \n",
      "\n",
      "Original:  b'The two best special agents in the Wild West must save President Grant from the clutches of a diabolical, wheelchair-bound, steampunk-savvy, Confederate scientist bent on revenge for losing the Civil War.'\n",
      "Round-trip:  the two best special agents in the wild west must save president grant from the [UNK] of a diabolical wheelchairbound steampunksavvy [UNK] scientist [UNK] on revenge for losing the civil war the two two best [UNK] special agents [UNK] in the the wild wild west west must must save save president president grant [UNK] from the the clutches [UNK] of a a diabolical [UNK] wheelchairbound steampunksavvy steampunksavvy confederate [UNK] scientist bent [UNK] [UNK] revenge for [UNK] [UNK] the civil civil war                    \n",
      "\n",
      "Original:  b'Three women, detectives with a mysterious boss, retrieve stolen voice-ID software, using martial arts, tech skills, and sex appeal.'\n",
      "Round-trip:  three women detectives with a mysterious boss retrieve stolen voiceid software using martial arts tech skills and sex [UNK] three women women detectives [UNK] with a a mysterious [UNK] [UNK] retrieve stolen stolen voiceid voiceid software software using using martial martial arts [UNK] tech skills skills and [UNK] sex appeal                                            \n",
      "\n"
     ]
    }
   ],
   "source": [
    "vocab = np.array(encoder.get_vocabulary())\n",
    "\n",
    "for n in range(3):\n",
    "  print(\"Original: \", sample[n].numpy())\n",
    "  print(\"Round-trip: \", \" \".join(vocab[encoded_sample[n]]))\n",
    "  print()"
   ]
  },
  {
   "cell_type": "code",
   "execution_count": 13,
   "metadata": {},
   "outputs": [],
   "source": [
    "model = tf.keras.Sequential(\n",
    "    [\n",
    "        encoder,\n",
    "        tf.keras.layers.Embedding(\n",
    "            input_dim=len(encoder.get_vocabulary()), output_dim=64, mask_zero=True\n",
    "        ),\n",
    "        tf.keras.layers.Bidirectional(tf.keras.layers.LSTM(64)),\n",
    "        tf.keras.layers.Dense(64, activation=\"relu\"),\n",
    "        tf.keras.layers.Dense(1),\n",
    "    ]\n",
    ")\n",
    "\n",
    "model.compile(\n",
    "    loss=tf.keras.losses.MeanSquaredError(),\n",
    "    optimizer=tf.keras.optimizers.Adam(),\n",
    ")"
   ]
  },
  {
   "cell_type": "code",
   "execution_count": 14,
   "metadata": {},
   "outputs": [
    {
     "name": "stdout",
     "output_type": "stream",
     "text": [
      "Epoch 1/10\n",
      "14/14 [==============================] - 1s 101ms/step - loss: 41367767785406464.0000\n",
      "Epoch 2/10\n",
      "14/14 [==============================] - 1s 98ms/step - loss: 41367763490439168.0000\n",
      "Epoch 3/10\n",
      "14/14 [==============================] - 1s 97ms/step - loss: 41367754900504576.0000\n",
      "Epoch 4/10\n",
      "14/14 [==============================] - 1s 99ms/step - loss: 41367742015602688.0000\n",
      "Epoch 5/10\n",
      "14/14 [==============================] - 1s 98ms/step - loss: 41367729130700800.0000\n",
      "Epoch 6/10\n",
      "14/14 [==============================] - 1s 98ms/step - loss: 41367724835733504.0000\n",
      "Epoch 7/10\n",
      "14/14 [==============================] - 1s 99ms/step - loss: 41367716245798912.0000\n",
      "Epoch 8/10\n",
      "14/14 [==============================] - 1s 97ms/step - loss: 41367703360897024.0000\n",
      "Epoch 9/10\n",
      "14/14 [==============================] - 1s 98ms/step - loss: 41367690475995136.0000\n",
      "Epoch 10/10\n",
      "14/14 [==============================] - 1s 98ms/step - loss: 41367673296125952.0000\n"
     ]
    }
   ],
   "source": [
    "history = model.fit(\n",
    "    train_dataset, epochs=10\n",
    ")"
   ]
  },
  {
   "cell_type": "code",
   "execution_count": 15,
   "metadata": {},
   "outputs": [
    {
     "name": "stdout",
     "output_type": "stream",
     "text": [
      "3/3 [==============================] - 0s 19ms/step - loss: 7084215694786560.0000\n"
     ]
    }
   ],
   "source": [
    "res = model.evaluate(test_dataset)"
   ]
  },
  {
   "cell_type": "code",
   "execution_count": 16,
   "metadata": {},
   "outputs": [
    {
     "name": "stdout",
     "output_type": "stream",
     "text": [
      "289\n"
     ]
    }
   ],
   "source": [
    "sample_text = \"As a new threat to the galaxy rises, Rey, a desert scavenger, and Finn, an ex-stormtrooper, must join Han Solo and Chewbacca to search for the one hope of restoring peace.\"\n",
    "pred1 = model.predict(np.array([sample_text]))\n",
    "print(int(pred1[0]))"
   ]
  },
  {
   "cell_type": "code",
   "execution_count": 17,
   "metadata": {},
   "outputs": [
    {
     "name": "stdout",
     "output_type": "stream",
     "text": [
      "289\n"
     ]
    }
   ],
   "source": [
    "non_existant_film = \"Este is a friend of mine we meet up every tuesday night for dinner and a glass of wine. She thinks he did it but just cant prove it\"\n",
    "pred2 = model.predict(np.array([non_existant_film]))\n",
    "print(int(pred2[0]))"
   ]
  },
  {
   "cell_type": "code",
   "execution_count": 20,
   "metadata": {},
   "outputs": [
    {
     "data": {
      "image/png": "[encoded data removed]",
      "text/plain": [
       "<Figure size 432x288 with 1 Axes>"
      ]
     },
     "metadata": {
      "needs_background": "light"
     },
     "output_type": "display_data"
    }
   ],
   "source": [
    "test_predictions = model.predict(test_data_in)\n",
    "train_predictions = model.predict(train_data_in)\n",
    "plt.scatter(test_data_out, test_predictions, label='test')\n",
    "plt.scatter(train_data_out, train_predictions, label='train')\n",
    "plt.legend()\n",
    "plt.xlabel('Truth')\n",
    "plt.ylabel('Prediction')\n",
    "plt.show()"
   ]
  },
  {
   "cell_type": "code",
   "execution_count": null,
   "metadata": {},
   "outputs": [],
   "source": []
  }
 ],
 "metadata": {
  "kernelspec": {
   "display_name": "Python3.8 | Tensorflow 2",
   "language": "python",
   "name": "tf2"
  },
  "language_info": {
   "codemirror_mode": {
    "name": "ipython",
    "version": 3
   },
   "file_extension": ".py",
   "mimetype": "text/x-python",
   "name": "python",
   "nbconvert_exporter": "python",
   "pygments_lexer": "ipython3",
   "version": "3.8.5"
  }
 },
 "nbformat": 4,
 "nbformat_minor": 2
}
