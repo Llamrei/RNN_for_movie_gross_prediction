{
 "cells": [
  {
   "cell_type": "code",
   "execution_count": 1,
   "metadata": {},
   "outputs": [],
   "source": [
    "\"\"\"\n",
    "Follows https://www.tensorflow.org/tutorials/text/text_classification_rnn\n",
    "\"\"\"\n",
    "import pickle as pkl\n",
    "import numpy as np\n",
    "import random\n",
    "import re\n",
    "\n",
    "import tensorflow_datasets as tfds\n",
    "import tensorflow as tf\n",
    "\n",
    "import matplotlib.pyplot as plt"
   ]
  },
  {
   "cell_type": "code",
   "execution_count": 2,
   "metadata": {},
   "outputs": [
    {
     "data": {
      "text/plain": [
       "datetime.datetime(2020, 12, 16, 16, 35, 1, 478828)"
      ]
     },
     "execution_count": 2,
     "metadata": {},
     "output_type": "execute_result"
    }
   ],
   "source": [
    "from datetime import datetime\n",
    "datetime.now()"
   ]
  },
  {
   "cell_type": "code",
   "execution_count": 3,
   "metadata": {},
   "outputs": [],
   "source": [
    "def plot_graphs(history, metric):\n",
    "    plt.plot(history.history[metric])\n",
    "    plt.plot(history.history[\"val_\" + metric], \"\")\n",
    "    plt.xlabel(\"Epochs\")\n",
    "    plt.ylabel(metric)\n",
    "    plt.legend([metric, \"val_\" + metric])\n"
   ]
  },
  {
   "cell_type": "code",
   "execution_count": 4,
   "metadata": {},
   "outputs": [],
   "source": [
    "def split_data_into_input_and_output(data):\n",
    "    \"\"\"Take given data of format from scraper [link] and return the inputs and outputs seperated.\n",
    "\n",
    "    Args:\n",
    "        data (list): A numpy array/list of named tuples which contains entries for 'gross',\n",
    "        'title', 'synopsis' and 'year'.\n",
    "    \"\"\"\n",
    "    data_in, data_out = list(zip(*[((x[\"synopsis\"]), x[\"gross\"]) for x in data]))\n",
    "    return np.array(data_in), np.array(data_out)"
   ]
  },
  {
   "cell_type": "code",
   "execution_count": 5,
   "metadata": {},
   "outputs": [],
   "source": [
    "def add_signal(data):\n",
    "    \"\"\"\n",
    "    If the given data has no signal we cant fit a NN to it. As such, here we append how much the film grossed\n",
    "    into the synopsis of each title.\n",
    "\n",
    "    Args:\n",
    "        data (list): A numpy array/list of named tuples which contains entries for 'gross',\n",
    "        'title', 'synopsis' and 'year'.\n",
    "    \"\"\"\n",
    "    for row in data:\n",
    "        row[\"synopsis\"] = row[\"synopsis\"] + f' The film grossed ${row[\"gross\"]}'"
   ]
  },
  {
   "cell_type": "code",
   "execution_count": 6,
   "metadata": {},
   "outputs": [],
   "source": [
    "real_data = pkl.load(open(\"complete10000_films_and_synopsis.pickle\", \"rb\"))\n",
    "np.random.shuffle(real_data[1000:])\n",
    "data = real_data"
   ]
  },
  {
   "cell_type": "code",
   "execution_count": 7,
   "metadata": {},
   "outputs": [],
   "source": [
    "# Fraction of overall data\n",
    "training_fraction = 0.85\n",
    "\n",
    "train_end = int(len(data) * training_fraction)\n",
    "train_data_in, train_data_out = split_data_into_input_and_output(data[:train_end])\n",
    "test_data_in, test_data_out = split_data_into_input_and_output(data[train_end:])\n",
    "\n",
    "train_dataset = tf.data.Dataset.from_tensor_slices((train_data_in, train_data_out))\n",
    "test_dataset = tf.data.Dataset.from_tensor_slices((test_data_in, test_data_out))\n",
    "\n",
    "\n",
    "# How much it loads into memory for sampling\n",
    "BUFFER_SIZE = 10000\n",
    "# Batch for gradient averaging\n",
    "BATCH_SIZE = 64\n",
    "# prefetch parrallelising loading + execution (not huge so not necessary)\n",
    "\n",
    "train_dataset = train_dataset.shuffle(BUFFER_SIZE).batch(BATCH_SIZE).prefetch(5)\n",
    "test_dataset = test_dataset.batch(BATCH_SIZE).prefetch(5)"
   ]
  },
  {
   "cell_type": "code",
   "execution_count": 8,
   "metadata": {},
   "outputs": [],
   "source": [
    "sample, label = next(iter(train_dataset.take(1)))"
   ]
  },
  {
   "cell_type": "code",
   "execution_count": 9,
   "metadata": {},
   "outputs": [],
   "source": [
    "VOCAB_SIZE = 10000\n",
    "encoder = tf.keras.layers.experimental.preprocessing.TextVectorization(\n",
    "    max_tokens=VOCAB_SIZE, ngrams=1\n",
    ")\n"
   ]
  },
  {
   "cell_type": "code",
   "execution_count": 10,
   "metadata": {},
   "outputs": [],
   "source": [
    "encoder.adapt(train_dataset.map(lambda text, label: text))"
   ]
  },
  {
   "cell_type": "code",
   "execution_count": 11,
   "metadata": {},
   "outputs": [
    {
     "name": "stdout",
     "output_type": "stream",
     "text": [
      "[[   2   24   33  252 6087    1 2913   41   25    6   94 5266    7  734\n",
      "  4109    0    0    0    0    0    0    0    0    0    0    0    0    0\n",
      "     0    0    0    0    0    0    0    0    0    0    0    0    0    0\n",
      "     0    0    0    0    0    0    0    0    0    0    0    0    0    0\n",
      "     0    0    0    0    0    0    0    0    0    0    0    0    0    0\n",
      "     0    0    0    0    0    0    0    0    0    0    0    0    0    0\n",
      "     0    0    0    0    0    0    0    0    0    0    0    0    0    0\n",
      "     0    0    0    0    0    0    0    0    0    0    0    0    0    0\n",
      "     0    0]\n",
      " [   7 4446  164  281    3  105 2168   10   11  352 3818    7 6210  613\n",
      "  1385  363   20 6829 1022  500    4   48 9738   34  303  623   23   69\n",
      "    57    5    1    0    0    0    0    0    0    0    0    0    0    0\n",
      "     0    0    0    0    0    0    0    0    0    0    0    0    0    0\n",
      "     0    0    0    0    0    0    0    0    0    0    0    0    0    0\n",
      "     0    0    0    0    0    0    0    0    0    0    0    0    0    0\n",
      "     0    0    0    0    0    0    0    0    0    0    0    0    0    0\n",
      "     0    0    0    0    0    0    0    0    0    0    0    0    0    0\n",
      "     0    0]\n",
      " [   2    1    1 3276    9 8518    4 2187   13    2  137  622 2042  275\n",
      "     0    0    0    0    0    0    0    0    0    0    0    0    0    0\n",
      "     0    0    0    0    0    0    0    0    0    0    0    0    0    0\n",
      "     0    0    0    0    0    0    0    0    0    0    0    0    0    0\n",
      "     0    0    0    0    0    0    0    0    0    0    0    0    0    0\n",
      "     0    0    0    0    0    0    0    0    0    0    0    0    0    0\n",
      "     0    0    0    0    0    0    0    0    0    0    0    0    0    0\n",
      "     0    0    0    0    0    0    0    0    0    0    0    0    0    0\n",
      "     0    0]]\n"
     ]
    }
   ],
   "source": [
    "encoded_sample = encoder(sample).numpy()[:3]\n",
    "print(encoded_sample)"
   ]
  },
  {
   "cell_type": "code",
   "execution_count": 12,
   "metadata": {},
   "outputs": [
    {
     "name": "stdout",
     "output_type": "stream",
     "text": [
      "Original:  b'A young man named Brandon Teena navigates love, life, and being transgender in rural Nebraska.'\n",
      "Round-trip:  a young man named brandon [UNK] navigates love life and being transgender in rural nebraska                                                                                                   \n",
      "\n",
      "Original:  b'In 1988, Earth makes the first contact with an alien civilization. In 1991, these aliens, known as Newcomers, slowly begin to be integrated into human society after three years of quarantine.'\n",
      "Round-trip:  in 1988 earth makes the first contact with an alien civilization in 1991 these aliens known as newcomers slowly begin to be integrated into human society after three years of [UNK]                                                                                   \n",
      "\n",
      "Original:  b'A dissolute matinee idol is slated to appear on a live TV variety show.'\n",
      "Round-trip:  a [UNK] [UNK] idol is slated to appear on a live tv variety show                                                                                                    \n",
      "\n"
     ]
    }
   ],
   "source": [
    "vocab = np.array(encoder.get_vocabulary())\n",
    "\n",
    "for n in range(3):\n",
    "  print(\"Original: \", sample[n].numpy())\n",
    "  print(\"Round-trip: \", \" \".join(vocab[encoded_sample[n]]))\n",
    "  print()"
   ]
  },
  {
   "cell_type": "code",
   "execution_count": 13,
   "metadata": {},
   "outputs": [],
   "source": [
    "model = tf.keras.Sequential(\n",
    "    [\n",
    "        encoder,\n",
    "        tf.keras.layers.Embedding(\n",
    "            input_dim=len(encoder.get_vocabulary()), output_dim=64, mask_zero=True\n",
    "        ),\n",
    "        tf.keras.layers.Bidirectional(tf.keras.layers.LSTM(64)),\n",
    "        tf.keras.layers.Dense(64, activation=\"relu\"),\n",
    "        tf.keras.layers.Dense(1),\n",
    "    ]\n",
    ")\n",
    "\n",
    "model.compile(\n",
    "    loss=tf.keras.losses.MeanSquaredError(),\n",
    "    optimizer=tf.keras.optimizers.Adam(0.1),\n",
    ")"
   ]
  },
  {
   "cell_type": "code",
   "execution_count": 14,
   "metadata": {},
   "outputs": [
    {
     "name": "stdout",
     "output_type": "stream",
     "text": [
      "Epoch 1/100\n",
      "133/133 [==============================] - 19s 141ms/step - loss: 4761868895780864.0000\n",
      "Epoch 2/100\n",
      "133/133 [==============================] - 18s 138ms/step - loss: 4499191648747520.0000\n",
      "Epoch 3/100\n",
      "133/133 [==============================] - 18s 137ms/step - loss: 4085426310610944.0000\n",
      "Epoch 4/100\n",
      "133/133 [==============================] - 19s 140ms/step - loss: 3844127263293440.0000\n",
      "Epoch 5/100\n",
      "133/133 [==============================] - 18s 138ms/step - loss: 3668220972105728.0000\n",
      "Epoch 6/100\n",
      "133/133 [==============================] - 19s 141ms/step - loss: 3539681459306496.0000\n",
      "Epoch 7/100\n",
      "133/133 [==============================] - 18s 138ms/step - loss: 3438817910456320.0000\n",
      "Epoch 8/100\n",
      "133/133 [==============================] - 18s 137ms/step - loss: 3343318775758848.0000\n",
      "Epoch 9/100\n",
      "133/133 [==============================] - 18s 137ms/step - loss: 3285579114479616.0000\n",
      "Epoch 10/100\n",
      "133/133 [==============================] - 18s 136ms/step - loss: 3214992937582592.0000\n",
      "Epoch 11/100\n",
      "133/133 [==============================] - 19s 140ms/step - loss: 3141811795132416.0000\n",
      "Epoch 12/100\n",
      "133/133 [==============================] - 18s 137ms/step - loss: 3089684313931776.0000\n",
      "Epoch 13/100\n",
      "133/133 [==============================] - 19s 140ms/step - loss: 3018951034404864.0000\n",
      "Epoch 14/100\n",
      "133/133 [==============================] - 18s 139ms/step - loss: 2968852388380672.0000\n",
      "Epoch 15/100\n",
      "133/133 [==============================] - 18s 138ms/step - loss: 2922941067034624.0000\n",
      "Epoch 16/100\n",
      "133/133 [==============================] - 18s 138ms/step - loss: 2875787157962752.0000\n",
      "Epoch 17/100\n",
      "133/133 [==============================] - 19s 143ms/step - loss: 2856823266738176.0000\n",
      "Epoch 18/100\n",
      "133/133 [==============================] - 18s 139ms/step - loss: 2823011942006784.0000\n",
      "Epoch 19/100\n",
      "133/133 [==============================] - 18s 137ms/step - loss: 2802748286304256.0000\n",
      "Epoch 20/100\n",
      "133/133 [==============================] - 19s 139ms/step - loss: 2796101555978240.0000\n",
      "Epoch 21/100\n",
      "133/133 [==============================] - 18s 138ms/step - loss: 2744578859859968.0000\n",
      "Epoch 22/100\n",
      "133/133 [==============================] - 18s 136ms/step - loss: 2724076565037056.0000\n",
      "Epoch 23/100\n",
      "133/133 [==============================] - 19s 141ms/step - loss: 2691407701606400.0000\n",
      "Epoch 24/100\n",
      "133/133 [==============================] - 19s 142ms/step - loss: 2674013889363968.0000\n",
      "Epoch 25/100\n",
      "133/133 [==============================] - 20s 153ms/step - loss: 2645847762272256.0000\n",
      "Epoch 26/100\n",
      "133/133 [==============================] - 20s 152ms/step - loss: 2603698026971136.0000\n",
      "Epoch 27/100\n",
      "133/133 [==============================] - 20s 153ms/step - loss: 2593974489448448.0000\n",
      "Epoch 28/100\n",
      "133/133 [==============================] - 20s 150ms/step - loss: 2573604264869888.0000\n",
      "Epoch 29/100\n",
      "133/133 [==============================] - 20s 150ms/step - loss: 2540323100164096.0000\n",
      "Epoch 30/100\n",
      "133/133 [==============================] - 18s 135ms/step - loss: 2547436371312640.0000\n",
      "Epoch 31/100\n",
      "133/133 [==============================] - 18s 137ms/step - loss: 2504182829416448.0000\n",
      "Epoch 32/100\n",
      "133/133 [==============================] - 19s 141ms/step - loss: 2508369348788224.0000\n",
      "Epoch 33/100\n",
      "133/133 [==============================] - 18s 135ms/step - loss: 2478384303046656.0000\n",
      "Epoch 34/100\n",
      "133/133 [==============================] - 18s 135ms/step - loss: 2470438613549056.0000\n",
      "Epoch 35/100\n",
      "133/133 [==============================] - 18s 137ms/step - loss: 2449769351872512.0000\n",
      "Epoch 36/100\n",
      "133/133 [==============================] - 18s 138ms/step - loss: 2428175330050048.0000\n",
      "Epoch 37/100\n",
      "133/133 [==============================] - 18s 137ms/step - loss: 2395483918041088.0000\n",
      "Epoch 38/100\n",
      "133/133 [==============================] - 19s 141ms/step - loss: 2390122725113856.0000\n",
      "Epoch 39/100\n",
      "133/133 [==============================] - 19s 140ms/step - loss: 2375730289704960.0000\n",
      "Epoch 40/100\n",
      "133/133 [==============================] - 20s 148ms/step - loss: 2349330467913728.0000\n",
      "Epoch 41/100\n",
      "133/133 [==============================] - 20s 153ms/step - loss: 2331846192922624.0000\n",
      "Epoch 42/100\n",
      "133/133 [==============================] - 20s 154ms/step - loss: 2336150287024128.0000\n",
      "Epoch 43/100\n",
      "133/133 [==============================] - 21s 154ms/step - loss: 2312416834617344.0000\n",
      "Epoch 44/100\n",
      "133/133 [==============================] - 21s 154ms/step - loss: 2283275213078528.0000\n",
      "Epoch 45/100\n",
      "133/133 [==============================] - 18s 138ms/step - loss: 2281510786826240.0000\n",
      "Epoch 46/100\n",
      "133/133 [==============================] - 19s 143ms/step - loss: 2242664552464384.0000\n",
      "Epoch 47/100\n",
      "133/133 [==============================] - 19s 140ms/step - loss: 2230724677599232.0000\n",
      "Epoch 48/100\n",
      "133/133 [==============================] - 18s 138ms/step - loss: 2190646592929792.0000\n",
      "Epoch 49/100\n",
      "133/133 [==============================] - 18s 135ms/step - loss: 2176125711155200.0000\n",
      "Epoch 50/100\n",
      "133/133 [==============================] - 18s 137ms/step - loss: 2161005815660544.0000\n",
      "Epoch 51/100\n",
      "133/133 [==============================] - 18s 136ms/step - loss: 2159380438974464.0000\n",
      "Epoch 52/100\n",
      "133/133 [==============================] - 18s 138ms/step - loss: 2165032884371456.0000\n",
      "Epoch 53/100\n",
      "133/133 [==============================] - 18s 138ms/step - loss: 2153808389996544.0000\n",
      "Epoch 54/100\n",
      "133/133 [==============================] - 18s 138ms/step - loss: 2138654134763520.0000\n",
      "Epoch 55/100\n",
      "133/133 [==============================] - 18s 139ms/step - loss: 2135363116072960.0000\n",
      "Epoch 56/100\n",
      "133/133 [==============================] - 18s 138ms/step - loss: 2121187039641600.0000\n",
      "Epoch 57/100\n",
      "133/133 [==============================] - 18s 138ms/step - loss: 2123006226726912.0000\n",
      "Epoch 58/100\n",
      "133/133 [==============================] - 19s 142ms/step - loss: 2152947114835968.0000\n",
      "Epoch 59/100\n",
      "133/133 [==============================] - 18s 138ms/step - loss: 2146969459884032.0000\n",
      "Epoch 60/100\n",
      "133/133 [==============================] - 19s 143ms/step - loss: 2098665573318656.0000\n",
      "Epoch 61/100\n",
      "133/133 [==============================] - 19s 146ms/step - loss: 2091572032176128.0000\n",
      "Epoch 62/100\n",
      "133/133 [==============================] - 18s 136ms/step - loss: 2084619151212544.0000\n",
      "Epoch 63/100\n",
      "133/133 [==============================] - 18s 139ms/step - loss: 2071715458842624.0000\n",
      "Epoch 64/100\n",
      "133/133 [==============================] - 18s 137ms/step - loss: 2093934532624384.0000\n",
      "Epoch 65/100\n",
      "133/133 [==============================] - 18s 136ms/step - loss: 2122826911842304.0000\n",
      "Epoch 66/100\n",
      "133/133 [==============================] - 19s 141ms/step - loss: 2128713298739200.0000\n",
      "Epoch 67/100\n",
      "133/133 [==============================] - 18s 139ms/step - loss: 2117467732180992.0000\n",
      "Epoch 68/100\n",
      "133/133 [==============================] - 19s 141ms/step - loss: 2106706423185408.0000\n",
      "Epoch 69/100\n",
      "133/133 [==============================] - 19s 141ms/step - loss: 2065922755919872.0000\n",
      "Epoch 70/100\n",
      "133/133 [==============================] - 18s 139ms/step - loss: 2089522795905024.0000\n",
      "Epoch 71/100\n",
      "133/133 [==============================] - 18s 135ms/step - loss: 2097603508436992.0000\n",
      "Epoch 72/100\n",
      "133/133 [==============================] - 18s 136ms/step - loss: 2090321391386624.0000\n",
      "Epoch 73/100\n",
      "133/133 [==============================] - 19s 140ms/step - loss: 2047604451966976.0000\n",
      "Epoch 74/100\n",
      "133/133 [==============================] - 20s 151ms/step - loss: 2070065788747776.0000\n",
      "Epoch 75/100\n",
      "133/133 [==============================] - 21s 161ms/step - loss: 2079370030088192.0000\n",
      "Epoch 76/100\n",
      "133/133 [==============================] - 22s 167ms/step - loss: 2056446850105344.0000\n",
      "Epoch 77/100\n",
      "133/133 [==============================] - 22s 162ms/step - loss: 2044475568291840.0000\n",
      "Epoch 78/100\n",
      "133/133 [==============================] - 22s 162ms/step - loss: 2026064788324352.0000\n",
      "Epoch 79/100\n",
      "133/133 [==============================] - 21s 157ms/step - loss: 2008716744327168.0000\n",
      "Epoch 80/100\n",
      "133/133 [==============================] - 21s 161ms/step - loss: 2019435372085248.0000\n",
      "Epoch 81/100\n",
      "133/133 [==============================] - 21s 160ms/step - loss: 2037583487959040.0000\n",
      "Epoch 82/100\n",
      "133/133 [==============================] - 20s 154ms/step - loss: 2017110721036288.0000\n",
      "Epoch 83/100\n",
      "133/133 [==============================] - 21s 154ms/step - loss: 2008306843385856.0000\n",
      "Epoch 84/100\n",
      "133/133 [==============================] - 21s 154ms/step - loss: 1985021007101952.0000\n",
      "Epoch 85/100\n",
      "133/133 [==============================] - 20s 147ms/step - loss: 1992592900227072.0000\n",
      "Epoch 86/100\n",
      "133/133 [==============================] - 20s 149ms/step - loss: 1969758169726976.0000\n",
      "Epoch 87/100\n",
      "133/133 [==============================] - 19s 139ms/step - loss: 1988076876333056.0000\n",
      "Epoch 88/100\n",
      "133/133 [==============================] - 18s 136ms/step - loss: 2004422045466624.0000\n",
      "Epoch 89/100\n",
      "133/133 [==============================] - 19s 141ms/step - loss: 1985622034087936.0000\n",
      "Epoch 90/100\n",
      "133/133 [==============================] - 19s 142ms/step - loss: 1991800210325504.0000\n",
      "Epoch 91/100\n",
      "133/133 [==============================] - 19s 144ms/step - loss: 1968557860585472.0000\n",
      "Epoch 92/100\n",
      "133/133 [==============================] - 20s 153ms/step - loss: 1979244947177472.0000\n",
      "Epoch 93/100\n",
      "133/133 [==============================] - 20s 152ms/step - loss: 1964108677120000.0000\n",
      "Epoch 94/100\n",
      "133/133 [==============================] - 21s 155ms/step - loss: 1981307739439104.0000\n",
      "Epoch 95/100\n",
      "133/133 [==============================] - 20s 153ms/step - loss: 1997631567953920.0000\n",
      "Epoch 96/100\n",
      "133/133 [==============================] - 21s 155ms/step - loss: 2012183454023680.0000\n",
      "Epoch 97/100\n",
      "133/133 [==============================] - 20s 152ms/step - loss: 2020087133372416.0000\n",
      "Epoch 98/100\n",
      "133/133 [==============================] - 20s 153ms/step - loss: 2036973468385280.0000\n",
      "Epoch 99/100\n",
      "133/133 [==============================] - 20s 153ms/step - loss: 2002628359749632.0000\n",
      "Epoch 100/100\n",
      "133/133 [==============================] - 20s 153ms/step - loss: 2001634477473792.0000\n"
     ]
    }
   ],
   "source": [
    "history = model.fit(\n",
    "    train_dataset, epochs=100\n",
    ")"
   ]
  },
  {
   "cell_type": "code",
   "execution_count": 15,
   "metadata": {},
   "outputs": [
    {
     "name": "stdout",
     "output_type": "stream",
     "text": [
      "24/24 [==============================] - 1s 48ms/step - loss: 2207264895139840.0000\n"
     ]
    }
   ],
   "source": [
    "res = model.evaluate(test_dataset)"
   ]
  },
  {
   "cell_type": "code",
   "execution_count": 16,
   "metadata": {},
   "outputs": [
    {
     "name": "stdout",
     "output_type": "stream",
     "text": [
      "279001472\n"
     ]
    }
   ],
   "source": [
    "sample_text = \"As a new threat to the galaxy rises, Rey, a desert scavenger, and Finn, an ex-stormtrooper, must join Han Solo and Chewbacca to search for the one hope of restoring peace.\"\n",
    "pred1 = model.predict(np.array([sample_text]))\n",
    "print(int(pred1[0]))"
   ]
  },
  {
   "cell_type": "code",
   "execution_count": 17,
   "metadata": {},
   "outputs": [
    {
     "name": "stdout",
     "output_type": "stream",
     "text": [
      "39799620\n"
     ]
    }
   ],
   "source": [
    "non_existant_film = \"Este is a friend of mine we meet up every tuesday night for dinner and a glass of wine. She thinks he did it but just cant prove it\"\n",
    "pred2 = model.predict(np.array([non_existant_film]))\n",
    "print(int(pred2[0]))"
   ]
  },
  {
   "cell_type": "code",
   "execution_count": 18,
   "metadata": {},
   "outputs": [
    {
     "data": {
      "image/png": "[encoded data removed]",
      "text/plain": [
       "<Figure size 432x288 with 1 Axes>"
      ]
     },
     "metadata": {
      "needs_background": "light"
     },
     "output_type": "display_data"
    }
   ],
   "source": [
    "test_predictions = model.predict(test_data_in)\n",
    "train_predictions = model.predict(train_data_in)\n",
    "plt.scatter(train_data_out, train_predictions, label='train', s=2)\n",
    "plt.scatter(test_data_out, test_predictions, label='test', s=2)\n",
    "plt.scatter(real_data['gross'], real_data['gross'], label='truths', s=1)\n",
    "plt.legend()\n",
    "plt.xlabel('Truth')\n",
    "plt.ylabel('Prediction')\n",
    "plt.show()"
   ]
  },
  {
   "cell_type": "code",
   "execution_count": null,
   "metadata": {},
   "outputs": [],
   "source": []
  }
 ],
 "metadata": {
  "kernelspec": {
   "display_name": "Python3.8 | Tensorflow 2",
   "language": "python",
   "name": "tf2"
  },
  "language_info": {
   "codemirror_mode": {
    "name": "ipython",
    "version": 3
   },
   "file_extension": ".py",
   "mimetype": "text/x-python",
   "name": "python",
   "nbconvert_exporter": "python",
   "pygments_lexer": "ipython3",
   "version": "3.8.5"
  }
 },
 "nbformat": 4,
 "nbformat_minor": 2
}
