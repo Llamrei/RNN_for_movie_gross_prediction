{
 "cells": [
  {
   "cell_type": "code",
   "execution_count": 21,
   "metadata": {},
   "outputs": [],
   "source": [
    "\"\"\"\n",
    "Follows https://www.tensorflow.org/tutorials/text/text_classification_rnn\n",
    "\"\"\"\n",
    "import pickle as pkl\n",
    "import numpy as np\n",
    "import random\n",
    "import re\n",
    "\n",
    "import tensorflow_datasets as tfds\n",
    "import tensorflow as tf\n",
    "\n",
    "import matplotlib.pyplot as plt"
   ]
  },
  {
   "cell_type": "code",
   "execution_count": 22,
   "metadata": {},
   "outputs": [
    {
     "data": {
      "text/plain": [
       "datetime.datetime(2020, 12, 21, 0, 7, 33, 2391)"
      ]
     },
     "execution_count": 22,
     "metadata": {},
     "output_type": "execute_result"
    }
   ],
   "source": [
    "from datetime import datetime\n",
    "datetime.now()"
   ]
  },
  {
   "cell_type": "code",
   "execution_count": 23,
   "metadata": {},
   "outputs": [],
   "source": [
    "def plot_graphs(history, metric):\n",
    "    fig, ax1 = plt.subplots()\n",
    "\n",
    "    color = 'tab:red'\n",
    "    ax1.set_xlabel('Epochs')\n",
    "    ax1.set_ylabel(metric, color=color)\n",
    "    ax1.plot(history.history[metric], color=color)\n",
    "    ax1.tick_params(axis='y', labelcolor=color)\n",
    "\n",
    "    ax2 = ax1.twinx()  # instantiate a second axes that shares the same x-axis\n",
    "\n",
    "    color = 'tab:blue'\n",
    "    ax2.set_ylabel(\"val_\" + metric, color=color)  # we already handled the x-label with ax1\n",
    "    ax2.plot(history.history[\"val_\" + metric], color=color)\n",
    "    ax2.tick_params(axis='y', labelcolor=color)\n",
    "\n",
    "    fig.tight_layout()  # otherwise the right y-label is slightly clipped\n",
    "    plt.legend([metric, \"val_\" + metric])"
   ]
  },
  {
   "cell_type": "code",
   "execution_count": 24,
   "metadata": {},
   "outputs": [],
   "source": [
    "def split_data_into_input_and_output(data):\n",
    "    \"\"\"Take given data of format from scraper [link] and return the inputs and outputs seperated.\n",
    "\n",
    "    Args:\n",
    "        data (list): A numpy array/list of named tuples which contains entries for 'gross',\n",
    "        'title', 'synopsis' and 'year'.\n",
    "    \"\"\"\n",
    "    data_in, data_out = list(zip(*[((x[\"synopsis\"]), x[\"gross\"]) for x in data]))\n",
    "    return np.array(data_in), np.array(data_out)"
   ]
  },
  {
   "cell_type": "code",
   "execution_count": 25,
   "metadata": {},
   "outputs": [],
   "source": [
    "def add_signal(data):\n",
    "    \"\"\"\n",
    "    If the given data has no signal we cant fit a NN to it. As such, here we append how much the film grossed\n",
    "    into the synopsis of each title.\n",
    "\n",
    "    Args:\n",
    "        data (list): A numpy array/list of named tuples which contains entries for 'gross',\n",
    "        'title', 'synopsis' and 'year'.\n",
    "    \"\"\"\n",
    "    for row in data:\n",
    "        row[\"synopsis\"] = row[\"synopsis\"] + f' The film grossed ${row[\"gross\"]}'"
   ]
  },
  {
   "cell_type": "code",
   "execution_count": 26,
   "metadata": {},
   "outputs": [],
   "source": [
    "real_data = pkl.load(open(\"complete10000_films_and_synopsis.pickle\", \"rb\"))\n",
    "np.random.shuffle(real_data[500:])\n",
    "data = real_data"
   ]
  },
  {
   "cell_type": "code",
   "execution_count": 27,
   "metadata": {},
   "outputs": [],
   "source": [
    "# Fraction of overall data\n",
    "training_fraction = 0.85\n",
    "\n",
    "train_end = int(len(data) * training_fraction)\n",
    "train_data_in, train_data_out = split_data_into_input_and_output(data[:train_end])\n",
    "test_data_in, test_data_out = split_data_into_input_and_output(data[train_end:])\n",
    "\n",
    "train_dataset = tf.data.Dataset.from_tensor_slices((train_data_in, train_data_out))\n",
    "test_dataset = tf.data.Dataset.from_tensor_slices((test_data_in, test_data_out))\n",
    "\n",
    "\n",
    "# How much it loads into memory for sampling\n",
    "BUFFER_SIZE = 10000\n",
    "# Batch for gradient averaging\n",
    "BATCH_SIZE = 64\n",
    "# prefetch parrallelising loading + execution (not huge so not necessary)\n",
    "\n",
    "train_dataset = train_dataset.shuffle(BUFFER_SIZE).batch(BATCH_SIZE).prefetch(5)\n",
    "test_dataset = test_dataset.batch(BATCH_SIZE).prefetch(5)"
   ]
  },
  {
   "cell_type": "code",
   "execution_count": 28,
   "metadata": {},
   "outputs": [],
   "source": [
    "sample, label = next(iter(train_dataset.take(1)))"
   ]
  },
  {
   "cell_type": "code",
   "execution_count": 29,
   "metadata": {},
   "outputs": [],
   "source": [
    "VOCAB_SIZE = 10000\n",
    "encoder = tf.keras.layers.experimental.preprocessing.TextVectorization(\n",
    "    max_tokens=VOCAB_SIZE, ngrams=(1,2)\n",
    ")\n"
   ]
  },
  {
   "cell_type": "code",
   "execution_count": 30,
   "metadata": {},
   "outputs": [],
   "source": [
    "encoder.adapt(train_dataset.map(lambda text, label: text))"
   ]
  },
  {
   "cell_type": "code",
   "execution_count": 31,
   "metadata": {},
   "outputs": [
    {
     "name": "stdout",
     "output_type": "stream",
     "text": [
      "[[   3  221 1075 ...    0    0    0]\n",
      " [  63  848  387 ...    0    0    0]\n",
      " [   2    1 1159 ...    0    0    0]]\n"
     ]
    }
   ],
   "source": [
    "encoded_sample = encoder(sample).numpy()[:3]\n",
    "print(encoded_sample)"
   ]
  },
  {
   "cell_type": "code",
   "execution_count": 32,
   "metadata": {},
   "outputs": [
    {
     "name": "stdout",
     "output_type": "stream",
     "text": [
      "Original:  b'The four members of the China Everest Climbing Commando confront the most difficult mount. The first four failures have cost them too much physical strength until the wind and snow stop the gap.'\n",
      "Round-trip:  the four members of the china [UNK] climbing [UNK] confront the most difficult mount the first four [UNK] have cost them too much physical strength until the wind and snow stop the [UNK] the four [UNK] members of of the [UNK] [UNK] [UNK] [UNK] [UNK] confront the the most [UNK] [UNK] [UNK] the first [UNK] [UNK] [UNK] [UNK] [UNK] [UNK] too much [UNK] [UNK] [UNK] until the [UNK] [UNK] [UNK] [UNK] stop the [UNK]                                                                                                                                                                                                                                                                                                        \n",
      "\n",
      "Original:  b'Friends since childhood, a magazine editor and a hip-hop record executive stumble into romantic territory.'\n",
      "Round-trip:  friends since childhood a magazine editor and a hiphop record executive stumble into romantic territory [UNK] since childhood [UNK] [UNK] [UNK] [UNK] and a [UNK] [UNK] [UNK] [UNK] [UNK] [UNK] [UNK]                                                                                                                                                                                                                                                                                                                                            \n",
      "\n",
      "Original:  b'A substance-addicted actress tries to look on the bright side even as she is forced to move back in with her mother to avoid unemployment.'\n",
      "Round-trip:  a [UNK] actress tries to look on the bright side even as she is forced to move back in with her mother to avoid [UNK] [UNK] [UNK] [UNK] tries to to look [UNK] on the [UNK] [UNK] [UNK] even as as she she is is forced forced to to move [UNK] back in in with with her her mother mother to to avoid [UNK]                                                                                                                                                                                                                                                                                                                        \n",
      "\n"
     ]
    }
   ],
   "source": [
    "vocab = np.array(encoder.get_vocabulary())\n",
    "\n",
    "for n in range(3):\n",
    "  print(\"Original: \", sample[n].numpy())\n",
    "  print(\"Round-trip: \", \" \".join(vocab[encoded_sample[n]]))\n",
    "  print()"
   ]
  },
  {
   "cell_type": "code",
   "execution_count": 33,
   "metadata": {},
   "outputs": [],
   "source": [
    "model = tf.keras.Sequential(\n",
    "    [\n",
    "        encoder,\n",
    "        tf.keras.layers.Embedding(\n",
    "            input_dim=len(encoder.get_vocabulary()), output_dim=64, mask_zero=True\n",
    "        ),\n",
    "        tf.keras.layers.Bidirectional(tf.keras.layers.LSTM(64)),\n",
    "        tf.keras.layers.Dense(64, activation=\"relu\"),\n",
    "        tf.keras.layers.Dense(64, activation=\"relu\"),\n",
    "        tf.keras.layers.Dense(1),\n",
    "    ]\n",
    ")\n",
    "\n",
    "model.compile(\n",
    "    loss=tf.keras.losses.MeanSquaredError(),\n",
    "    optimizer=tf.keras.optimizers.Adam(0.1),\n",
    ")"
   ]
  },
  {
   "cell_type": "code",
   "execution_count": 34,
   "metadata": {},
   "outputs": [
    {
     "name": "stdout",
     "output_type": "stream",
     "text": [
      "Epoch 1/100\n",
      "133/133 [==============================] - 51s 384ms/step - loss: 4016014538833920.0000 - val_loss: 888538472120320.0000\n",
      "Epoch 2/100\n",
      "133/133 [==============================] - 47s 352ms/step - loss: 3627779023175680.0000 - val_loss: 915872919060480.0000\n",
      "Epoch 3/100\n",
      "133/133 [==============================] - 47s 353ms/step - loss: 3582606436204544.0000 - val_loss: 901379015049216.0000\n",
      "Epoch 4/100\n",
      "133/133 [==============================] - 46s 350ms/step - loss: 3543307753881600.0000 - val_loss: 937185956069376.0000\n",
      "Epoch 5/100\n",
      "133/133 [==============================] - 48s 360ms/step - loss: 3513780927463424.0000 - val_loss: 1045659113226240.0000\n",
      "Epoch 6/100\n",
      "133/133 [==============================] - 47s 357ms/step - loss: 3482355725500416.0000 - val_loss: 962425264275456.0000\n",
      "Epoch 7/100\n",
      "133/133 [==============================] - 48s 360ms/step - loss: 3491176783020032.0000 - val_loss: 960176916004864.0000\n",
      "Epoch 8/100\n",
      "133/133 [==============================] - 46s 342ms/step - loss: 3456254135500800.0000 - val_loss: 973129195192320.0000\n",
      "Epoch 9/100\n",
      "133/133 [==============================] - 47s 353ms/step - loss: 3406786849669120.0000 - val_loss: 1143979303239680.0000\n",
      "Epoch 10/100\n",
      "133/133 [==============================] - 46s 348ms/step - loss: 3413137227251712.0000 - val_loss: 918290515886080.0000\n",
      "Epoch 11/100\n",
      "133/133 [==============================] - 47s 356ms/step - loss: 3373654666641408.0000 - val_loss: 1139345973051392.0000\n",
      "Epoch 12/100\n",
      "133/133 [==============================] - 47s 355ms/step - loss: 3393264682008576.0000 - val_loss: 995271093780480.0000\n",
      "Epoch 13/100\n",
      "133/133 [==============================] - 46s 343ms/step - loss: 3401191849459712.0000 - val_loss: 1133575684489216.0000\n",
      "Epoch 14/100\n",
      "133/133 [==============================] - 45s 335ms/step - loss: 3403453955047424.0000 - val_loss: 1206502215909376.0000\n",
      "Epoch 15/100\n",
      "133/133 [==============================] - 45s 338ms/step - loss: 3364769721483264.0000 - val_loss: 1151679240077312.0000\n",
      "Epoch 16/100\n",
      "133/133 [==============================] - 45s 337ms/step - loss: 3354333487824896.0000 - val_loss: 1145882510622720.0000\n",
      "Epoch 17/100\n",
      "133/133 [==============================] - 44s 330ms/step - loss: 3332020058980352.0000 - val_loss: 1024219576008704.0000\n",
      "Epoch 18/100\n",
      "133/133 [==============================] - 46s 346ms/step - loss: 3353835808489472.0000 - val_loss: 1023505470586880.0000\n",
      "Epoch 19/100\n",
      "133/133 [==============================] - 46s 343ms/step - loss: 3318071615815680.0000 - val_loss: 1064983177723904.0000\n",
      "Epoch 20/100\n",
      "133/133 [==============================] - 44s 334ms/step - loss: 3301740539543552.0000 - val_loss: 1190106446692352.0000\n",
      "Epoch 21/100\n",
      "133/133 [==============================] - 45s 336ms/step - loss: 3251426071412736.0000 - val_loss: 1239328248299520.0000\n",
      "Epoch 22/100\n",
      "133/133 [==============================] - 44s 334ms/step - loss: 3234872193712128.0000 - val_loss: 1109130274144256.0000\n",
      "Epoch 23/100\n",
      "133/133 [==============================] - 49s 370ms/step - loss: 3240314722582528.0000 - val_loss: 1013690732118016.0000\n",
      "Epoch 24/100\n",
      "133/133 [==============================] - 47s 356ms/step - loss: 3211545152585728.0000 - val_loss: 1211398344409088.0000\n",
      "Epoch 25/100\n",
      "133/133 [==============================] - 45s 339ms/step - loss: 3196714898948096.0000 - val_loss: 1004436017119232.0000\n",
      "Epoch 26/100\n",
      "133/133 [==============================] - 46s 346ms/step - loss: 3159463305412608.0000 - val_loss: 1089295846735872.0000\n",
      "Epoch 27/100\n",
      "133/133 [==============================] - 45s 336ms/step - loss: 3163761762369536.0000 - val_loss: 1241812215791616.0000\n",
      "Epoch 28/100\n",
      "133/133 [==============================] - 47s 352ms/step - loss: 3141722674561024.0000 - val_loss: 1112558731788288.0000\n",
      "Epoch 29/100\n",
      "133/133 [==============================] - 44s 332ms/step - loss: 3117020170158080.0000 - val_loss: 1403171050094592.0000\n",
      "Epoch 30/100\n",
      "133/133 [==============================] - 43s 320ms/step - loss: 3147811327574016.0000 - val_loss: 1657567600181248.0000\n",
      "Epoch 31/100\n",
      "133/133 [==============================] - 42s 312ms/step - loss: 3116950645374976.0000 - val_loss: 1428551488241664.0000\n",
      "Epoch 32/100\n",
      "133/133 [==============================] - 43s 322ms/step - loss: 3101967383527424.0000 - val_loss: 1211990513025024.0000\n",
      "Epoch 33/100\n",
      "133/133 [==============================] - 42s 316ms/step - loss: 3091708048834560.0000 - val_loss: 1246973692739584.0000\n",
      "Epoch 34/100\n",
      "133/133 [==============================] - 42s 313ms/step - loss: 3105373024157696.0000 - val_loss: 1234121271541760.0000\n",
      "Epoch 35/100\n",
      "133/133 [==============================] - 43s 325ms/step - loss: 3090734165000192.0000 - val_loss: 1310028778700800.0000\n",
      "Epoch 36/100\n",
      "133/133 [==============================] - 42s 316ms/step - loss: 3056342751248384.0000 - val_loss: 1515899177664512.0000\n",
      "Epoch 37/100\n",
      "133/133 [==============================] - 41s 312ms/step - loss: 3044532128055296.0000 - val_loss: 1314436891541504.0000\n",
      "Epoch 38/100\n",
      "133/133 [==============================] - 42s 316ms/step - loss: 3042646100541440.0000 - val_loss: 1242650405502976.0000\n",
      "Epoch 39/100\n",
      "133/133 [==============================] - 43s 326ms/step - loss: 3071333260853248.0000 - val_loss: 1437141691269120.0000\n",
      "Epoch 40/100\n",
      "133/133 [==============================] - 43s 323ms/step - loss: 3001508366909440.0000 - val_loss: 1395535671984128.0000\n",
      "Epoch 41/100\n",
      "133/133 [==============================] - 42s 318ms/step - loss: 3008028395700224.0000 - val_loss: 1258973428711424.0000\n",
      "Epoch 42/100\n",
      "133/133 [==============================] - 42s 319ms/step - loss: 3056664068489216.0000 - val_loss: 1217211851079680.0000\n",
      "Epoch 43/100\n",
      "133/133 [==============================] - 44s 328ms/step - loss: 3139451979038720.0000 - val_loss: 1185886238670848.0000\n",
      "Epoch 44/100\n",
      "133/133 [==============================] - 43s 321ms/step - loss: 3074993109860352.0000 - val_loss: 1278720480378880.0000\n",
      "Epoch 45/100\n",
      "133/133 [==============================] - 42s 319ms/step - loss: 3053760670597120.0000 - val_loss: 1447714155921408.0000\n",
      "Epoch 46/100\n",
      "133/133 [==============================] - 43s 326ms/step - loss: 3057211945254912.0000 - val_loss: 1451225962774528.0000\n",
      "Epoch 47/100\n",
      "133/133 [==============================] - 45s 342ms/step - loss: 3013854787272704.0000 - val_loss: 1505761578450944.0000\n",
      "Epoch 48/100\n",
      "133/133 [==============================] - 45s 338ms/step - loss: 3023728380215296.0000 - val_loss: 1531465078669312.0000\n",
      "Epoch 49/100\n",
      "133/133 [==============================] - 44s 332ms/step - loss: 3023132990373888.0000 - val_loss: 1344876532727808.0000\n",
      "Epoch 50/100\n",
      "133/133 [==============================] - 44s 330ms/step - loss: 3012554485923840.0000 - val_loss: 1377311454658560.0000\n",
      "Epoch 51/100\n",
      "133/133 [==============================] - 44s 328ms/step - loss: 2963851704270848.0000 - val_loss: 1555883041488896.0000\n",
      "Epoch 52/100\n",
      "133/133 [==============================] - 44s 329ms/step - loss: 2987722864066560.0000 - val_loss: 1618265293979648.0000\n",
      "Epoch 53/100\n",
      "133/133 [==============================] - 42s 319ms/step - loss: 2998530343960576.0000 - val_loss: 1391769254100992.0000\n",
      "Epoch 54/100\n",
      "133/133 [==============================] - 42s 316ms/step - loss: 2970542994882560.0000 - val_loss: 1304511222120448.0000\n",
      "Epoch 55/100\n",
      "133/133 [==============================] - 44s 330ms/step - loss: 2994205848764416.0000 - val_loss: 1585362489049088.0000\n",
      "Epoch 56/100\n",
      "133/133 [==============================] - 43s 322ms/step - loss: 2973189768478720.0000 - val_loss: 1519352197152768.0000\n",
      "Epoch 57/100\n",
      "133/133 [==============================] - 42s 315ms/step - loss: 2994936798511104.0000 - val_loss: 1603908426268672.0000\n",
      "Epoch 58/100\n",
      "133/133 [==============================] - 42s 315ms/step - loss: 2995859142737920.0000 - val_loss: 1302524128657408.0000\n",
      "Epoch 59/100\n",
      "133/133 [==============================] - 42s 316ms/step - loss: 2965968586276864.0000 - val_loss: 1483854158233600.0000\n",
      "Epoch 60/100\n",
      "133/133 [==============================] - 43s 323ms/step - loss: 2939307039916032.0000 - val_loss: 1544001014464512.0000\n",
      "Epoch 61/100\n",
      "133/133 [==============================] - 43s 322ms/step - loss: 2985899382013952.0000 - val_loss: 1645438344101888.0000\n",
      "Epoch 62/100\n",
      "133/133 [==============================] - 42s 319ms/step - loss: 2986867091832832.0000 - val_loss: 1482348906414080.0000\n",
      "Epoch 63/100\n",
      "133/133 [==============================] - 42s 318ms/step - loss: 2954441430925312.0000 - val_loss: 1429379611623424.0000\n",
      "Epoch 64/100\n",
      "133/133 [==============================] - 43s 322ms/step - loss: 2915661634338816.0000 - val_loss: 1412239068233728.0000\n",
      "Epoch 65/100\n",
      "133/133 [==============================] - 44s 329ms/step - loss: 2897063352205312.0000 - val_loss: 1423967818612736.0000\n",
      "Epoch 66/100\n",
      "133/133 [==============================] - 43s 322ms/step - loss: 2895650307964928.0000 - val_loss: 1374098953338880.0000\n",
      "Epoch 67/100\n",
      "133/133 [==============================] - 43s 325ms/step - loss: 2889834116939776.0000 - val_loss: 1352028727017472.0000\n",
      "Epoch 68/100\n",
      "133/133 [==============================] - 41s 308ms/step - loss: 2849463840276480.0000 - val_loss: 1327049599877120.0000\n",
      "Epoch 69/100\n",
      "133/133 [==============================] - 41s 310ms/step - loss: 2830186684874752.0000 - val_loss: 1505281750073344.0000\n",
      "Epoch 70/100\n",
      "133/133 [==============================] - 43s 325ms/step - loss: 2887857626677248.0000 - val_loss: 1261848372445184.0000\n",
      "Epoch 71/100\n",
      "133/133 [==============================] - 42s 318ms/step - loss: 2854166829465600.0000 - val_loss: 1490964073938944.0000\n",
      "Epoch 72/100\n",
      "133/133 [==============================] - 41s 311ms/step - loss: 2832230820872192.0000 - val_loss: 1420579357851648.0000\n",
      "Epoch 73/100\n",
      "133/133 [==============================] - 43s 324ms/step - loss: 2888975660351488.0000 - val_loss: 1358882152644608.0000\n",
      "Epoch 74/100\n",
      "133/133 [==============================] - 42s 319ms/step - loss: 2866486943154176.0000 - val_loss: 1309924625743872.0000\n",
      "Epoch 75/100\n",
      "133/133 [==============================] - 43s 325ms/step - loss: 2886803480641536.0000 - val_loss: 1291271314341888.0000\n",
      "Epoch 76/100\n",
      "133/133 [==============================] - 42s 315ms/step - loss: 2844654282211328.0000 - val_loss: 1569611501797376.0000\n",
      "Epoch 77/100\n",
      "133/133 [==============================] - 42s 319ms/step - loss: 2822728474165248.0000 - val_loss: 1653413158846464.0000\n",
      "Epoch 78/100\n",
      "133/133 [==============================] - 42s 318ms/step - loss: 2837160638021632.0000 - val_loss: 1450217048113152.0000\n",
      "Epoch 79/100\n",
      "133/133 [==============================] - 42s 315ms/step - loss: 2804132607950848.0000 - val_loss: 1690400880328704.0000\n",
      "Epoch 80/100\n",
      "133/133 [==============================] - 42s 319ms/step - loss: 2838694746652672.0000 - val_loss: 1494618017366016.0000\n",
      "Epoch 81/100\n",
      "133/133 [==============================] - 42s 317ms/step - loss: 2821730968010752.0000 - val_loss: 1410882663874560.0000\n",
      "Epoch 82/100\n",
      "133/133 [==============================] - 41s 308ms/step - loss: 2855374520582144.0000 - val_loss: 1662742498902016.0000\n",
      "Epoch 83/100\n",
      "133/133 [==============================] - 42s 313ms/step - loss: 2844092983672832.0000 - val_loss: 1475470918942720.0000\n",
      "Epoch 84/100\n",
      "133/133 [==============================] - 42s 315ms/step - loss: 2781236674166784.0000 - val_loss: 1554624616071168.0000\n",
      "Epoch 85/100\n",
      "133/133 [==============================] - 41s 310ms/step - loss: 2781272107646976.0000 - val_loss: 1686480380493824.0000\n",
      "Epoch 86/100\n",
      "133/133 [==============================] - 42s 313ms/step - loss: 2853319378731008.0000 - val_loss: 1396469022064640.0000\n",
      "Epoch 87/100\n",
      "133/133 [==============================] - 44s 328ms/step - loss: 2806701535264768.0000 - val_loss: 1590904473255936.0000\n",
      "Epoch 88/100\n",
      "133/133 [==============================] - 41s 311ms/step - loss: 2761072876453888.0000 - val_loss: 1642707952861184.0000\n",
      "Epoch 89/100\n",
      "133/133 [==============================] - 42s 318ms/step - loss: 2755730205573120.0000 - val_loss: 1498203107098624.0000\n",
      "Epoch 90/100\n",
      "133/133 [==============================] - 42s 318ms/step - loss: 2754791486783488.0000 - val_loss: 1549529442680832.0000\n",
      "Epoch 91/100\n",
      "133/133 [==============================] - 41s 308ms/step - loss: 2756635906801664.0000 - val_loss: 1564226686550016.0000\n",
      "Epoch 92/100\n",
      "133/133 [==============================] - 42s 318ms/step - loss: 2729811956989952.0000 - val_loss: 1441156546166784.0000\n",
      "Epoch 93/100\n",
      "133/133 [==============================] - 43s 322ms/step - loss: 2736844160630784.0000 - val_loss: 1471122264555520.0000\n",
      "Epoch 94/100\n",
      "133/133 [==============================] - 42s 316ms/step - loss: 2742371515105280.0000 - val_loss: 1392307735625728.0000\n",
      "Epoch 95/100\n",
      "133/133 [==============================] - 43s 322ms/step - loss: 2733719571922944.0000 - val_loss: 1481681978523648.0000\n",
      "Epoch 96/100\n",
      "133/133 [==============================] - 43s 326ms/step - loss: 2746296578342912.0000 - val_loss: 1537103162769408.0000\n",
      "Epoch 97/100\n",
      "133/133 [==============================] - 42s 314ms/step - loss: 2731827638829056.0000 - val_loss: 1641155322183680.0000\n",
      "Epoch 98/100\n",
      "133/133 [==============================] - 42s 317ms/step - loss: 2696019959611392.0000 - val_loss: 1522431017615360.0000\n",
      "Epoch 99/100\n",
      "133/133 [==============================] - 43s 326ms/step - loss: 2736672093503488.0000 - val_loss: 1350313290235904.0000\n",
      "Epoch 100/100\n",
      "133/133 [==============================] - 43s 323ms/step - loss: 2671518244929536.0000 - val_loss: 1592734666194944.0000\n"
     ]
    }
   ],
   "source": [
    "history = model.fit(\n",
    "    train_dataset, epochs=100, validation_data=test_dataset, validation_steps=len(test_data_in) // BATCH_SIZE\n",
    ")"
   ]
  },
  {
   "cell_type": "code",
   "execution_count": 35,
   "metadata": {},
   "outputs": [
    {
     "name": "stdout",
     "output_type": "stream",
     "text": [
      "24/24 [==============================] - 3s 106ms/step - loss: 1583728522428416.0000\n"
     ]
    }
   ],
   "source": [
    "res = model.evaluate(test_dataset)"
   ]
  },
  {
   "cell_type": "code",
   "execution_count": 36,
   "metadata": {},
   "outputs": [
    {
     "name": "stdout",
     "output_type": "stream",
     "text": [
      "39408544\n"
     ]
    }
   ],
   "source": [
    "sample_text = \"As a new threat to the galaxy rises, Rey, a desert scavenger, and Finn, an ex-stormtrooper, must join Han Solo and Chewbacca to search for the one hope of restoring peace.\"\n",
    "pred1 = model.predict(np.array([sample_text]))\n",
    "print(int(pred1[0]))"
   ]
  },
  {
   "cell_type": "code",
   "execution_count": 37,
   "metadata": {},
   "outputs": [
    {
     "name": "stdout",
     "output_type": "stream",
     "text": [
      "8087432\n"
     ]
    }
   ],
   "source": [
    "non_existant_film = \"Este is a friend of mine we meet up every tuesday night for dinner and a glass of wine. She thinks he did it but just cant prove it\"\n",
    "pred2 = model.predict(np.array([non_existant_film]))\n",
    "print(int(pred2[0]))"
   ]
  },
  {
   "cell_type": "code",
   "execution_count": 38,
   "metadata": {},
   "outputs": [
    {
     "data": {
      "image/png": "[encoded data removed]",
      "text/plain": [
       "<Figure size 432x288 with 1 Axes>"
      ]
     },
     "metadata": {
      "needs_background": "light"
     },
     "output_type": "display_data"
    },
    {
     "data": {
      "text/plain": [
       "<Figure size 432x288 with 0 Axes>"
      ]
     },
     "metadata": {},
     "output_type": "display_data"
    }
   ],
   "source": [
    "test_predictions = model.predict(test_data_in)\n",
    "train_predictions = model.predict(train_data_in)\n",
    "plt.scatter(train_data_out, train_predictions, label='train', s=2)\n",
    "plt.scatter(test_data_out, test_predictions, label='test', s=2)\n",
    "plt.scatter(real_data['gross'], real_data['gross'], label='truths', s=1)\n",
    "plt.legend()\n",
    "plt.xlabel('Truth')\n",
    "plt.ylabel('Prediction')\n",
    "plt.show()\n",
    "plt.savefig(\"exp_15.pdf\", dpi=300)"
   ]
  },
  {
   "cell_type": "code",
   "execution_count": 39,
   "metadata": {},
   "outputs": [
    {
     "data": {
      "image/png": "[encoded data removed]",
      "text/plain": [
       "<Figure size 432x288 with 2 Axes>"
      ]
     },
     "metadata": {
      "needs_background": "light"
     },
     "output_type": "display_data"
    }
   ],
   "source": [
    "plot_graphs(history,'loss')\n",
    "plt.savefig(\"exp_15_2.pdf\", dpi=300)"
   ]
  },
  {
   "cell_type": "code",
   "execution_count": 40,
   "metadata": {},
   "outputs": [
    {
     "ename": "TypeError",
     "evalue": "cannot pickle '_thread.RLock' object",
     "output_type": "error",
     "traceback": [
      "\u001b[0;31m---------------------------------------------------------------------------\u001b[0m",
      "\u001b[0;31mTypeError\u001b[0m                                 Traceback (most recent call last)",
      "\u001b[0;32m<ipython-input-40-4115af279688>\u001b[0m in \u001b[0;36m<module>\u001b[0;34m\u001b[0m\n\u001b[1;32m      1\u001b[0m \u001b[0;32mimport\u001b[0m \u001b[0mpickle\u001b[0m \u001b[0;32mas\u001b[0m \u001b[0mpkl\u001b[0m\u001b[0;34m\u001b[0m\u001b[0;34m\u001b[0m\u001b[0m\n\u001b[0;32m----> 2\u001b[0;31m \u001b[0mpkl\u001b[0m\u001b[0;34m.\u001b[0m\u001b[0mdump\u001b[0m\u001b[0;34m(\u001b[0m\u001b[0mhistory\u001b[0m\u001b[0;34m,\u001b[0m \u001b[0mopen\u001b[0m\u001b[0;34m(\u001b[0m\u001b[0;34m'exp_15.pkl'\u001b[0m\u001b[0;34m,\u001b[0m\u001b[0;34m'wb'\u001b[0m\u001b[0;34m)\u001b[0m\u001b[0;34m)\u001b[0m\u001b[0;34m\u001b[0m\u001b[0;34m\u001b[0m\u001b[0m\n\u001b[0m",
      "\u001b[0;31mTypeError\u001b[0m: cannot pickle '_thread.RLock' object"
     ]
    }
   ],
   "source": [
    "import pickle as pkl\n",
    "pkl.dump(history, open('exp_15.pkl','wb'))"
   ]
  }
 ],
 "metadata": {
  "kernelspec": {
   "display_name": "Python3.8 | Tensorflow 2",
   "language": "python",
   "name": "tf2"
  },
  "language_info": {
   "codemirror_mode": {
    "name": "ipython",
    "version": 3
   },
   "file_extension": ".py",
   "mimetype": "text/x-python",
   "name": "python",
   "nbconvert_exporter": "python",
   "pygments_lexer": "ipython3",
   "version": "3.8.5"
  }
 },
 "nbformat": 4,
 "nbformat_minor": 2
}
