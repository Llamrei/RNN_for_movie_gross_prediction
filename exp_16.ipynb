{
 "cells": [
  {
   "cell_type": "code",
   "execution_count": 22,
   "metadata": {},
   "outputs": [],
   "source": [
    "\"\"\"\n",
    "Follows https://www.tensorflow.org/tutorials/text/text_classification_rnn\n",
    "\"\"\"\n",
    "import pickle as pkl\n",
    "import numpy as np\n",
    "import random\n",
    "import re\n",
    "\n",
    "import tensorflow_datasets as tfds\n",
    "import tensorflow as tf\n",
    "\n",
    "import matplotlib.pyplot as plt"
   ]
  },
  {
   "cell_type": "code",
   "execution_count": 23,
   "metadata": {},
   "outputs": [
    {
     "data": {
      "text/plain": [
       "datetime.datetime(2020, 12, 20, 22, 58, 39, 161602)"
      ]
     },
     "execution_count": 23,
     "metadata": {},
     "output_type": "execute_result"
    }
   ],
   "source": [
    "from datetime import datetime\n",
    "datetime.now()"
   ]
  },
  {
   "cell_type": "code",
   "execution_count": 24,
   "metadata": {},
   "outputs": [],
   "source": [
    "def plot_graphs(history, metric):\n",
    "    fig, ax1 = plt.subplots()\n",
    "\n",
    "    color = 'tab:red'\n",
    "    ax1.set_xlabel('Epochs')\n",
    "    ax1.set_ylabel(metric, color=color)\n",
    "    ax1.plot(history.history[metric], color=color)\n",
    "    ax1.tick_params(axis='y', labelcolor=color)\n",
    "\n",
    "    ax2 = ax1.twinx()  # instantiate a second axes that shares the same x-axis\n",
    "\n",
    "    color = 'tab:blue'\n",
    "    ax2.set_ylabel(\"val_\" + metric, color=color)  # we already handled the x-label with ax1\n",
    "    ax2.plot(history.history[\"val_\" + metric], color=color)\n",
    "    ax2.tick_params(axis='y', labelcolor=color)\n",
    "\n",
    "    fig.tight_layout()  # otherwise the right y-label is slightly clipped\n",
    "    plt.legend([metric, \"val_\" + metric])"
   ]
  },
  {
   "cell_type": "code",
   "execution_count": 25,
   "metadata": {},
   "outputs": [],
   "source": [
    "def split_data_into_input_and_output(data):\n",
    "    \"\"\"Take given data of format from scraper [link] and return the inputs and outputs seperated.\n",
    "\n",
    "    Args:\n",
    "        data (list): A numpy array/list of named tuples which contains entries for 'gross',\n",
    "        'title', 'synopsis' and 'year'.\n",
    "    \"\"\"\n",
    "    data_in, data_out = list(zip(*[((x[\"synopsis\"]), x[\"gross\"]) for x in data]))\n",
    "    return np.array(data_in), np.array(data_out)"
   ]
  },
  {
   "cell_type": "code",
   "execution_count": 26,
   "metadata": {},
   "outputs": [],
   "source": [
    "def add_signal(data):\n",
    "    \"\"\"\n",
    "    If the given data has no signal we cant fit a NN to it. As such, here we append how much the film grossed\n",
    "    into the synopsis of each title.\n",
    "\n",
    "    Args:\n",
    "        data (list): A numpy array/list of named tuples which contains entries for 'gross',\n",
    "        'title', 'synopsis' and 'year'.\n",
    "    \"\"\"\n",
    "    for row in data:\n",
    "        row[\"synopsis\"] = row[\"synopsis\"] + f' The film grossed ${row[\"gross\"]}'"
   ]
  },
  {
   "cell_type": "code",
   "execution_count": 27,
   "metadata": {},
   "outputs": [],
   "source": [
    "def standardize(batch):\n",
    "    '''\n",
    "    Designed to seperate digits in number\n",
    "    '''\n",
    "    DEFAULT_REGEX = r'[!\"#$%&()\\*\\+,-\\./:;<=>?@\\[\\\\\\]^_`{|}~\\']'\n",
    "    # Remove any pennies/cents\n",
    "    batch = tf.strings.regex_replace(batch, r'([\\.|,][0-9].*)', '')\n",
    "    # Normal punc strip\n",
    "    batch = tf.strings.regex_replace(batch, DEFAULT_REGEX, \"\")\n",
    "    # Spread out the values so we can get them frequent enough to appear in our vocab\n",
    "    batch = tf.strings.regex_replace(batch, r'([0-9])', r'\\1 ')\n",
    "    return batch"
   ]
  },
  {
   "cell_type": "code",
   "execution_count": 28,
   "metadata": {},
   "outputs": [],
   "source": [
    "real_data = pkl.load(open(\"complete10000_films_and_synopsis.pickle\", \"rb\"))\n",
    "add_signal(real_data)\n",
    "np.random.shuffle(real_data[500:])\n",
    "data = real_data"
   ]
  },
  {
   "cell_type": "code",
   "execution_count": 29,
   "metadata": {},
   "outputs": [],
   "source": [
    "# Fraction of overall data\n",
    "training_fraction = 0.85\n",
    "\n",
    "train_end = int(len(data) * training_fraction)\n",
    "train_data_in, train_data_out = split_data_into_input_and_output(data[:train_end])\n",
    "test_data_in, test_data_out = split_data_into_input_and_output(data[train_end:])\n",
    "\n",
    "train_dataset = tf.data.Dataset.from_tensor_slices((train_data_in, train_data_out))\n",
    "test_dataset = tf.data.Dataset.from_tensor_slices((test_data_in, test_data_out))\n",
    "\n",
    "\n",
    "# How much it loads into memory for sampling\n",
    "BUFFER_SIZE = 10000\n",
    "# Batch for gradient averaging\n",
    "BATCH_SIZE = 64\n",
    "# prefetch parrallelising loading + execution (not huge so not necessary)\n",
    "\n",
    "train_dataset = train_dataset.shuffle(BUFFER_SIZE).batch(BATCH_SIZE).prefetch(5)\n",
    "test_dataset = test_dataset.batch(BATCH_SIZE).prefetch(5)"
   ]
  },
  {
   "cell_type": "code",
   "execution_count": 30,
   "metadata": {},
   "outputs": [],
   "source": [
    "sample, label = next(iter(train_dataset.take(1)))"
   ]
  },
  {
   "cell_type": "code",
   "execution_count": 31,
   "metadata": {},
   "outputs": [],
   "source": [
    "VOCAB_SIZE = 10000\n",
    "encoder = tf.keras.layers.experimental.preprocessing.TextVectorization(\n",
    "    max_tokens=VOCAB_SIZE, ngrams=1, standardize=standardize\n",
    ")\n"
   ]
  },
  {
   "cell_type": "code",
   "execution_count": 32,
   "metadata": {},
   "outputs": [],
   "source": [
    "encoder.adapt(train_dataset.map(lambda text, label: text))"
   ]
  },
  {
   "cell_type": "code",
   "execution_count": 33,
   "metadata": {},
   "outputs": [
    {
     "name": "stdout",
     "output_type": "stream",
     "text": [
      "[[  55 1722 4979 6408   58  927    2  204   11   21 1722 4628    3 9007\n",
      "   813 5906   30 6801   27    2 2668 6055    4    6    7   14   17    9\n",
      "     9    9    9    9    0    0    0    0    0    0    0    0    0    0\n",
      "     0    0    0    0    0    0    0    0    0    0    0    0    0    0\n",
      "     0    0    0    0    0    0    0    0    0    0    0    0    0    0\n",
      "     0    0    0    0    0    0    0    0    0    0    0    0    0    0\n",
      "     0    0    0    0    0    0    0    0    0    0    0    0    0    0\n",
      "     0    0    0    0    0    0    0    0    0    0    0    0    0    0\n",
      "     0    0    0    0    0    0    0    0    0    0    0    0    0    0\n",
      "     0    0    0    0    0    0    0    0    0    0    0    0    0    0\n",
      "     0    0    0    0    0]\n",
      " [  55 2479  161    8  207    8   85    3 3155  115   21  870   13   21\n",
      "    49    4    6    7   15   19    5    9   10   18   17   14    0    0\n",
      "     0    0    0    0    0    0    0    0    0    0    0    0    0    0\n",
      "     0    0    0    0    0    0    0    0    0    0    0    0    0    0\n",
      "     0    0    0    0    0    0    0    0    0    0    0    0    0    0\n",
      "     0    0    0    0    0    0    0    0    0    0    0    0    0    0\n",
      "     0    0    0    0    0    0    0    0    0    0    0    0    0    0\n",
      "     0    0    0    0    0    0    0    0    0    0    0    0    0    0\n",
      "     0    0    0    0    0    0    0    0    0    0    0    0    0    0\n",
      "     0    0    0    0    0    0    0    0    0    0    0    0    0    0\n",
      "     0    0    0    0    0]\n",
      " [  19   16  280 5067    1  105    3  234   33 6082    8  662 2007    8\n",
      "   106   21   19  280 1548 1044   91    8   21  265   76    4    6    7\n",
      "     5    9   10    9    9   12    9    5   17    0    0    0    0    0\n",
      "     0    0    0    0    0    0    0    0    0    0    0    0    0    0\n",
      "     0    0    0    0    0    0    0    0    0    0    0    0    0    0\n",
      "     0    0    0    0    0    0    0    0    0    0    0    0    0    0\n",
      "     0    0    0    0    0    0    0    0    0    0    0    0    0    0\n",
      "     0    0    0    0    0    0    0    0    0    0    0    0    0    0\n",
      "     0    0    0    0    0    0    0    0    0    0    0    0    0    0\n",
      "     0    0    0    0    0    0    0    0    0    0    0    0    0    0\n",
      "     0    0    0    0    0]]\n"
     ]
    }
   ],
   "source": [
    "encoded_sample = encoder(sample).numpy()[:3]\n",
    "print(encoded_sample)"
   ]
  },
  {
   "cell_type": "code",
   "execution_count": 34,
   "metadata": {},
   "outputs": [
    {
     "name": "stdout",
     "output_type": "stream",
     "text": [
      "Original:  b'An immortal Scottish swordsman must confront the last of his immortal opponent, a murderously brutal barbarian who lusts for the fabled \"Prize\". The film grossed $5900000.0'\n",
      "Round-trip:  An immortal Scottish swordsman must confront the last of his immortal opponent a murderously brutal barbarian who lusts for the fabled Prize The film grossed 5 9 0 0 0 0 0                                                                                                                 \n",
      "\n",
      "Original:  b'An angel comes to Earth to help a preacher save his church and his family. The film grossed $48102795.0'\n",
      "Round-trip:  An angel comes to Earth to help a preacher save his church and his family The film grossed 4 8 1 0 2 7 9 5                                                                                                                       \n",
      "\n",
      "Original:  b'86-year-old Irving Zisman takes a trip from Nebraska to North Carolina to take his 8 year-old grandson, Billy, back to his real father. The film grossed $102003019.0'\n",
      "Round-trip:  8 6 yearold Irving [UNK] takes a trip from Nebraska to North Carolina to take his 8 yearold grandson Billy back to his real father The film grossed 1 0 2 0 0 3 0 1 9                                                                                                            \n",
      "\n"
     ]
    }
   ],
   "source": [
    "vocab = np.array(encoder.get_vocabulary())\n",
    "\n",
    "for n in range(3):\n",
    "  print(\"Original: \", sample[n].numpy())\n",
    "  print(\"Round-trip: \", \" \".join(vocab[encoded_sample[n]]))\n",
    "  print()"
   ]
  },
  {
   "cell_type": "code",
   "execution_count": 35,
   "metadata": {},
   "outputs": [],
   "source": [
    "model = tf.keras.Sequential(\n",
    "    [\n",
    "        encoder,\n",
    "        tf.keras.layers.Embedding(\n",
    "            input_dim=len(encoder.get_vocabulary()), output_dim=64, mask_zero=True\n",
    "        ),\n",
    "        tf.keras.layers.Bidirectional(tf.keras.layers.LSTM(64)),\n",
    "        tf.keras.layers.Dense(64, activation=\"relu\"),\n",
    "        tf.keras.layers.Dense(64, activation=\"relu\"),\n",
    "        tf.keras.layers.Dense(1),\n",
    "    ]\n",
    ")\n",
    "\n",
    "model.compile(\n",
    "    loss=tf.keras.losses.MeanSquaredError(),\n",
    "    optimizer=tf.keras.optimizers.Adam(0.1),\n",
    ")"
   ]
  },
  {
   "cell_type": "code",
   "execution_count": 36,
   "metadata": {},
   "outputs": [
    {
     "name": "stdout",
     "output_type": "stream",
     "text": [
      "Epoch 1/100\n",
      "133/133 [==============================] - 35s 265ms/step - loss: 3980733261545472.0000 - val_loss: 856315547090944.0000\n",
      "Epoch 2/100\n",
      "133/133 [==============================] - 31s 235ms/step - loss: 3658590850121728.0000 - val_loss: 948311867523072.0000\n",
      "Epoch 3/100\n",
      "133/133 [==============================] - 30s 225ms/step - loss: 3598969456295936.0000 - val_loss: 919121592057856.0000\n",
      "Epoch 4/100\n",
      "133/133 [==============================] - 32s 238ms/step - loss: 3577093308809216.0000 - val_loss: 892355825631232.0000\n",
      "Epoch 5/100\n",
      "133/133 [==============================] - 29s 218ms/step - loss: 3578194162614272.0000 - val_loss: 1020964594778112.0000\n",
      "Epoch 6/100\n",
      "133/133 [==============================] - 30s 229ms/step - loss: 3558280815181824.0000 - val_loss: 1000523905892352.0000\n",
      "Epoch 7/100\n",
      "133/133 [==============================] - 29s 219ms/step - loss: 3505875234848768.0000 - val_loss: 934361343983616.0000\n",
      "Epoch 8/100\n",
      "133/133 [==============================] - 29s 216ms/step - loss: 3478674938527744.0000 - val_loss: 949873759223808.0000\n",
      "Epoch 9/100\n",
      "133/133 [==============================] - 30s 229ms/step - loss: 3500560749690880.0000 - val_loss: 927679717048320.0000\n",
      "Epoch 10/100\n",
      "133/133 [==============================] - 30s 229ms/step - loss: 3465589246918656.0000 - val_loss: 985138326405120.0000\n",
      "Epoch 11/100\n",
      "133/133 [==============================] - 30s 228ms/step - loss: 3467146977869824.0000 - val_loss: 978050825060352.0000\n",
      "Epoch 12/100\n",
      "133/133 [==============================] - 31s 230ms/step - loss: 3484192629325824.0000 - val_loss: 912090395049984.0000\n",
      "Epoch 13/100\n",
      "133/133 [==============================] - 29s 220ms/step - loss: 3482421492187136.0000 - val_loss: 929354150313984.0000\n",
      "Epoch 14/100\n",
      "133/133 [==============================] - 29s 221ms/step - loss: 3472036261265408.0000 - val_loss: 966401598685184.0000\n",
      "Epoch 15/100\n",
      "133/133 [==============================] - 30s 226ms/step - loss: 3449096035631104.0000 - val_loss: 1101958349848576.0000\n",
      "Epoch 16/100\n",
      "133/133 [==============================] - 30s 223ms/step - loss: 3471018085580800.0000 - val_loss: 965892376625152.0000\n",
      "Epoch 17/100\n",
      "133/133 [==============================] - 30s 227ms/step - loss: 3427596771524608.0000 - val_loss: 1013420014960640.0000\n",
      "Epoch 18/100\n",
      "133/133 [==============================] - 30s 227ms/step - loss: 3414335254691840.0000 - val_loss: 976375922032640.0000\n",
      "Epoch 19/100\n",
      "133/133 [==============================] - 31s 232ms/step - loss: 3417501450895360.0000 - val_loss: 980435806978048.0000\n",
      "Epoch 20/100\n",
      "133/133 [==============================] - 30s 229ms/step - loss: 3415187000393728.0000 - val_loss: 1026467991388160.0000\n",
      "Epoch 21/100\n",
      "133/133 [==============================] - 32s 238ms/step - loss: 3376516993908736.0000 - val_loss: 1004653248512000.0000\n",
      "Epoch 22/100\n",
      "133/133 [==============================] - 31s 231ms/step - loss: 3361159264600064.0000 - val_loss: 1030318026915840.0000\n",
      "Epoch 23/100\n",
      "133/133 [==============================] - 30s 229ms/step - loss: 3326997094727680.0000 - val_loss: 948666604978176.0000\n",
      "Epoch 24/100\n",
      "133/133 [==============================] - 29s 221ms/step - loss: 3337777462640640.0000 - val_loss: 1064063048089600.0000\n",
      "Epoch 25/100\n",
      "133/133 [==============================] - 32s 239ms/step - loss: 3361214830739456.0000 - val_loss: 1078973094166528.0000\n",
      "Epoch 26/100\n",
      "133/133 [==============================] - 32s 239ms/step - loss: 3365000844410880.0000 - val_loss: 1038953595535360.0000\n",
      "Epoch 27/100\n",
      "133/133 [==============================] - 32s 237ms/step - loss: 3402580466073600.0000 - val_loss: 998288106979328.0000\n",
      "Epoch 28/100\n",
      "133/133 [==============================] - 31s 235ms/step - loss: 3330340726767616.0000 - val_loss: 915116669272064.0000\n",
      "Epoch 29/100\n",
      "133/133 [==============================] - 29s 217ms/step - loss: 3352508395159552.0000 - val_loss: 1015093777137664.0000\n",
      "Epoch 30/100\n",
      "133/133 [==============================] - 30s 228ms/step - loss: 3343761157390336.0000 - val_loss: 1079475135578112.0000\n",
      "Epoch 31/100\n",
      "133/133 [==============================] - 31s 236ms/step - loss: 3351179908087808.0000 - val_loss: 1036739539894272.0000\n",
      "Epoch 32/100\n",
      "133/133 [==============================] - 30s 225ms/step - loss: 3315505372856320.0000 - val_loss: 1142468280057856.0000\n",
      "Epoch 33/100\n",
      "133/133 [==============================] - 30s 225ms/step - loss: 3364788243529728.0000 - val_loss: 1068461631471616.0000\n",
      "Epoch 34/100\n",
      "133/133 [==============================] - 31s 232ms/step - loss: 3269445606703104.0000 - val_loss: 1034206717149184.0000\n",
      "Epoch 35/100\n",
      "133/133 [==============================] - 31s 233ms/step - loss: 3265964267274240.0000 - val_loss: 1170995587055616.0000\n",
      "Epoch 36/100\n",
      "133/133 [==============================] - 30s 223ms/step - loss: 3241325918945280.0000 - val_loss: 1092690951274496.0000\n",
      "Epoch 37/100\n",
      "133/133 [==============================] - 31s 230ms/step - loss: 3215294927470592.0000 - val_loss: 1131954468552704.0000\n",
      "Epoch 38/100\n",
      "133/133 [==============================] - 30s 228ms/step - loss: 3217940090454016.0000 - val_loss: 1205453304365056.0000\n",
      "Epoch 39/100\n",
      "133/133 [==============================] - 30s 224ms/step - loss: 3200271937175552.0000 - val_loss: 1092946703155200.0000\n",
      "Epoch 40/100\n",
      "133/133 [==============================] - 31s 230ms/step - loss: 3208217089802240.0000 - val_loss: 1145366980329472.0000\n",
      "Epoch 41/100\n",
      "133/133 [==============================] - 31s 234ms/step - loss: 3165136420339712.0000 - val_loss: 1131066618281984.0000\n",
      "Epoch 42/100\n",
      "133/133 [==============================] - 30s 224ms/step - loss: 3132467020038144.0000 - val_loss: 1347660342624256.0000\n",
      "Epoch 43/100\n",
      "133/133 [==============================] - 31s 233ms/step - loss: 3099931837464576.0000 - val_loss: 1182923113889792.0000\n",
      "Epoch 44/100\n",
      "133/133 [==============================] - 30s 225ms/step - loss: 3116070445514752.0000 - val_loss: 1154922745692160.0000\n",
      "Epoch 45/100\n",
      "133/133 [==============================] - 30s 229ms/step - loss: 3057393139187712.0000 - val_loss: 1199132991553536.0000\n",
      "Epoch 46/100\n",
      "133/133 [==============================] - 31s 230ms/step - loss: 3038206446534656.0000 - val_loss: 1176106463920128.0000\n",
      "Epoch 47/100\n",
      "133/133 [==============================] - 30s 228ms/step - loss: 3020744451686400.0000 - val_loss: 1411909563711488.0000\n",
      "Epoch 48/100\n",
      "133/133 [==============================] - 30s 228ms/step - loss: 3015893286125568.0000 - val_loss: 1214915519971328.0000\n",
      "Epoch 49/100\n",
      "133/133 [==============================] - 30s 225ms/step - loss: 3039311863742464.0000 - val_loss: 1247565190266880.0000\n",
      "Epoch 50/100\n",
      "133/133 [==============================] - 28s 213ms/step - loss: 3011868364898304.0000 - val_loss: 1145558374809600.0000\n",
      "Epoch 51/100\n",
      "133/133 [==============================] - 29s 215ms/step - loss: 3017848569987072.0000 - val_loss: 1184595064127488.0000\n",
      "Epoch 52/100\n",
      "133/133 [==============================] - 29s 217ms/step - loss: 2999145329590272.0000 - val_loss: 1351612920496128.0000\n",
      "Epoch 53/100\n",
      "133/133 [==============================] - 28s 212ms/step - loss: 3016889450102784.0000 - val_loss: 1325431336730624.0000\n",
      "Epoch 54/100\n",
      "133/133 [==============================] - 28s 213ms/step - loss: 3014971478769664.0000 - val_loss: 1418743259332608.0000\n",
      "Epoch 55/100\n",
      "133/133 [==============================] - 28s 213ms/step - loss: 3014513796317184.0000 - val_loss: 1254188298272768.0000\n",
      "Epoch 56/100\n",
      "133/133 [==============================] - 29s 215ms/step - loss: 2988920891506688.0000 - val_loss: 1230465985937408.0000\n",
      "Epoch 57/100\n",
      "133/133 [==============================] - 29s 214ms/step - loss: 3010780664430592.0000 - val_loss: 1497996143362048.0000\n",
      "Epoch 58/100\n",
      "133/133 [==============================] - 28s 207ms/step - loss: 3017291566415872.0000 - val_loss: 1293993249865728.0000\n",
      "Epoch 59/100\n",
      "133/133 [==============================] - 29s 220ms/step - loss: 3004231376175104.0000 - val_loss: 1417324309512192.0000\n",
      "Epoch 60/100\n",
      "133/133 [==============================] - 29s 215ms/step - loss: 2997046969630720.0000 - val_loss: 1300404562296832.0000\n",
      "Epoch 61/100\n",
      "133/133 [==============================] - 28s 210ms/step - loss: 2978436607901696.0000 - val_loss: 1176923849883648.0000\n",
      "Epoch 62/100\n",
      "133/133 [==============================] - 29s 216ms/step - loss: 2958382331854848.0000 - val_loss: 1204992132251648.0000\n",
      "Epoch 63/100\n",
      "133/133 [==============================] - 29s 215ms/step - loss: 2915339780227072.0000 - val_loss: 1221418234675200.0000\n",
      "Epoch 64/100\n",
      "133/133 [==============================] - 29s 216ms/step - loss: 2920752781197312.0000 - val_loss: 1497890648227840.0000\n",
      "Epoch 65/100\n",
      "133/133 [==============================] - 28s 214ms/step - loss: 2933920614055936.0000 - val_loss: 1484478673321984.0000\n",
      "Epoch 66/100\n",
      "133/133 [==============================] - 28s 208ms/step - loss: 2933766263668736.0000 - val_loss: 1229280306528256.0000\n",
      "Epoch 67/100\n",
      "133/133 [==============================] - 27s 204ms/step - loss: 2942176078069760.0000 - val_loss: 1271823836643328.0000\n",
      "Epoch 68/100\n",
      "133/133 [==============================] - 28s 213ms/step - loss: 2900300146933760.0000 - val_loss: 1230424512659456.0000\n",
      "Epoch 69/100\n",
      "133/133 [==============================] - 29s 218ms/step - loss: 2883308182568960.0000 - val_loss: 1292714154917888.0000\n",
      "Epoch 70/100\n",
      "133/133 [==============================] - 28s 212ms/step - loss: 2911732813004800.0000 - val_loss: 1237943523999744.0000\n",
      "Epoch 71/100\n",
      "133/133 [==============================] - 28s 212ms/step - loss: 2916954687930368.0000 - val_loss: 1276968133722112.0000\n",
      "Epoch 72/100\n",
      "133/133 [==============================] - 29s 222ms/step - loss: 2888513414496256.0000 - val_loss: 1291475996377088.0000\n",
      "Epoch 73/100\n",
      "133/133 [==============================] - 30s 227ms/step - loss: 2892919514071040.0000 - val_loss: 1376191541936128.0000\n",
      "Epoch 74/100\n",
      "133/133 [==============================] - 31s 235ms/step - loss: 2919828826357760.0000 - val_loss: 1353646184857600.0000\n",
      "Epoch 75/100\n",
      "133/133 [==============================] - 30s 229ms/step - loss: 2914216914714624.0000 - val_loss: 1367313710317568.0000\n",
      "Epoch 76/100\n",
      "133/133 [==============================] - 30s 225ms/step - loss: 2879601088921600.0000 - val_loss: 1195881701310464.0000\n",
      "Epoch 77/100\n",
      "133/133 [==============================] - 30s 222ms/step - loss: 2898942668832768.0000 - val_loss: 1246318173356032.0000\n",
      "Epoch 78/100\n",
      "133/133 [==============================] - 27s 199ms/step - loss: 2885373793402880.0000 - val_loss: 1244605957799936.0000\n",
      "Epoch 79/100\n",
      "133/133 [==============================] - 25s 186ms/step - loss: 2886497732657152.0000 - val_loss: 1382720965967872.0000\n",
      "Epoch 80/100\n",
      "133/133 [==============================] - 23s 173ms/step - loss: 2912325250056192.0000 - val_loss: 1246554933428224.0000\n",
      "Epoch 81/100\n",
      "133/133 [==============================] - 23s 171ms/step - loss: 2871257041207296.0000 - val_loss: 1286040178393088.0000\n",
      "Epoch 82/100\n",
      "133/133 [==============================] - 23s 171ms/step - loss: 2834945777074176.0000 - val_loss: 1346909528653824.0000\n",
      "Epoch 83/100\n",
      "133/133 [==============================] - 23s 174ms/step - loss: 2858205440901120.0000 - val_loss: 1307262014455808.0000\n",
      "Epoch 84/100\n",
      "133/133 [==============================] - 23s 177ms/step - loss: 2821046457597952.0000 - val_loss: 1342319685009408.0000\n",
      "Epoch 85/100\n",
      "133/133 [==============================] - 23s 169ms/step - loss: 2758835198492672.0000 - val_loss: 1259958184181760.0000\n",
      "Epoch 86/100\n",
      "133/133 [==============================] - 23s 176ms/step - loss: 2760092013297664.0000 - val_loss: 1214078135566336.0000\n",
      "Epoch 87/100\n",
      "133/133 [==============================] - 24s 178ms/step - loss: 2750395856191488.0000 - val_loss: 1199421291233280.0000\n",
      "Epoch 88/100\n",
      "133/133 [==============================] - 23s 175ms/step - loss: 2735430311084032.0000 - val_loss: 1196568224989184.0000\n",
      "Epoch 89/100\n",
      "133/133 [==============================] - 23s 172ms/step - loss: 2729374138761216.0000 - val_loss: 1237506376859648.0000\n",
      "Epoch 90/100\n",
      "133/133 [==============================] - 24s 180ms/step - loss: 2763615497093120.0000 - val_loss: 1127848479817728.0000\n",
      "Epoch 91/100\n",
      "133/133 [==============================] - 23s 175ms/step - loss: 2743295201509376.0000 - val_loss: 1291612898459648.0000\n",
      "Epoch 92/100\n",
      "133/133 [==============================] - 22s 166ms/step - loss: 2657630199742464.0000 - val_loss: 1275433085566976.0000\n",
      "Epoch 93/100\n",
      "133/133 [==============================] - 23s 174ms/step - loss: 2653143837966336.0000 - val_loss: 1260281917341696.0000\n",
      "Epoch 94/100\n",
      "133/133 [==============================] - 23s 173ms/step - loss: 2659732317798400.0000 - val_loss: 1221107252199424.0000\n",
      "Epoch 95/100\n",
      "133/133 [==============================] - 24s 177ms/step - loss: 2623787468062720.0000 - val_loss: 1452949586837504.0000\n",
      "Epoch 96/100\n",
      "133/133 [==============================] - 23s 174ms/step - loss: 2638635706875904.0000 - val_loss: 1414770548801536.0000\n",
      "Epoch 97/100\n",
      "133/133 [==============================] - 23s 176ms/step - loss: 2638078703304704.0000 - val_loss: 1374702933114880.0000\n",
      "Epoch 98/100\n",
      "133/133 [==============================] - 23s 172ms/step - loss: 2592764382412800.0000 - val_loss: 1555457034420224.0000\n",
      "Epoch 99/100\n",
      "133/133 [==============================] - 23s 171ms/step - loss: 2556773361778688.0000 - val_loss: 1356730239811584.0000\n",
      "Epoch 100/100\n",
      "133/133 [==============================] - 23s 172ms/step - loss: 2594588938207232.0000 - val_loss: 1243532752846848.0000\n"
     ]
    }
   ],
   "source": [
    "history = model.fit(\n",
    "    train_dataset, epochs=100, validation_data=test_dataset, validation_steps=len(test_data_in) // BATCH_SIZE\n",
    ")"
   ]
  },
  {
   "cell_type": "code",
   "execution_count": 37,
   "metadata": {},
   "outputs": [
    {
     "name": "stdout",
     "output_type": "stream",
     "text": [
      "24/24 [==============================] - 1s 57ms/step - loss: 1237249618345984.0000\n"
     ]
    }
   ],
   "source": [
    "res = model.evaluate(test_dataset)"
   ]
  },
  {
   "cell_type": "code",
   "execution_count": 38,
   "metadata": {},
   "outputs": [
    {
     "name": "stdout",
     "output_type": "stream",
     "text": [
      "366087424\n"
     ]
    }
   ],
   "source": [
    "sample_text = \"As a new threat to the galaxy rises, Rey, a desert scavenger, and Finn, an ex-stormtrooper, must join Han Solo and Chewbacca to search for the one hope of restoring peace.\"\n",
    "pred1 = model.predict(np.array([sample_text]))\n",
    "print(int(pred1[0]))"
   ]
  },
  {
   "cell_type": "code",
   "execution_count": 39,
   "metadata": {},
   "outputs": [
    {
     "name": "stdout",
     "output_type": "stream",
     "text": [
      "2541329\n"
     ]
    }
   ],
   "source": [
    "non_existant_film = \"Este is a friend of mine we meet up every tuesday night for dinner and a glass of wine. She thinks he did it but just cant prove it\"\n",
    "pred2 = model.predict(np.array([non_existant_film]))\n",
    "print(int(pred2[0]))"
   ]
  },
  {
   "cell_type": "code",
   "execution_count": 40,
   "metadata": {},
   "outputs": [
    {
     "data": {
      "image/png": "[encoded data removed]",
      "text/plain": [
       "<Figure size 432x288 with 1 Axes>"
      ]
     },
     "metadata": {
      "needs_background": "light"
     },
     "output_type": "display_data"
    },
    {
     "data": {
      "text/plain": [
       "<Figure size 432x288 with 0 Axes>"
      ]
     },
     "metadata": {},
     "output_type": "display_data"
    }
   ],
   "source": [
    "test_predictions = model.predict(test_data_in)\n",
    "train_predictions = model.predict(train_data_in)\n",
    "plt.scatter(train_data_out, train_predictions, label='train', s=2)\n",
    "plt.scatter(test_data_out, test_predictions, label='test', s=2)\n",
    "plt.scatter(real_data['gross'], real_data['gross'], label='truths', s=1)\n",
    "plt.legend()\n",
    "plt.xlabel('Truth')\n",
    "plt.ylabel('Prediction')\n",
    "plt.show()\n",
    "plt.savefig(\"exp_16.pdf\", dpi=300)"
   ]
  },
  {
   "cell_type": "code",
   "execution_count": 41,
   "metadata": {},
   "outputs": [
    {
     "data": {
      "image/png": "[encoded data removed]",
      "text/plain": [
       "<Figure size 432x288 with 2 Axes>"
      ]
     },
     "metadata": {
      "needs_background": "light"
     },
     "output_type": "display_data"
    }
   ],
   "source": [
    "plot_graphs(history,'loss')\n",
    "plt.savefig(\"exp_16_2.pdf\", dpi=300)"
   ]
  },
  {
   "cell_type": "code",
   "execution_count": 42,
   "metadata": {},
   "outputs": [
    {
     "ename": "TypeError",
     "evalue": "cannot pickle '_thread.RLock' object",
     "output_type": "error",
     "traceback": [
      "\u001b[0;31m---------------------------------------------------------------------------\u001b[0m",
      "\u001b[0;31mTypeError\u001b[0m                                 Traceback (most recent call last)",
      "\u001b[0;32m<ipython-input-42-8ee0b1aaad64>\u001b[0m in \u001b[0;36m<module>\u001b[0;34m\u001b[0m\n\u001b[1;32m      1\u001b[0m \u001b[0;32mimport\u001b[0m \u001b[0mpickle\u001b[0m \u001b[0;32mas\u001b[0m \u001b[0mpkl\u001b[0m\u001b[0;34m\u001b[0m\u001b[0;34m\u001b[0m\u001b[0m\n\u001b[0;32m----> 2\u001b[0;31m \u001b[0mpkl\u001b[0m\u001b[0;34m.\u001b[0m\u001b[0mdump\u001b[0m\u001b[0;34m(\u001b[0m\u001b[0mhistory\u001b[0m\u001b[0;34m,\u001b[0m \u001b[0mopen\u001b[0m\u001b[0;34m(\u001b[0m\u001b[0;34m'exp_16.pkl'\u001b[0m\u001b[0;34m,\u001b[0m\u001b[0;34m'wb'\u001b[0m\u001b[0;34m)\u001b[0m\u001b[0;34m)\u001b[0m\u001b[0;34m\u001b[0m\u001b[0;34m\u001b[0m\u001b[0m\n\u001b[0m",
      "\u001b[0;31mTypeError\u001b[0m: cannot pickle '_thread.RLock' object"
     ]
    }
   ],
   "source": [
    "import pickle as pkl\n",
    "pkl.dump(history, open('exp_16.pkl','wb'))"
   ]
  }
 ],
 "metadata": {
  "kernelspec": {
   "display_name": "Python3.8 | Tensorflow 2",
   "language": "python",
   "name": "tf2"
  },
  "language_info": {
   "codemirror_mode": {
    "name": "ipython",
    "version": 3
   },
   "file_extension": ".py",
   "mimetype": "text/x-python",
   "name": "python",
   "nbconvert_exporter": "python",
   "pygments_lexer": "ipython3",
   "version": "3.8.5"
  }
 },
 "nbformat": 4,
 "nbformat_minor": 2
}
