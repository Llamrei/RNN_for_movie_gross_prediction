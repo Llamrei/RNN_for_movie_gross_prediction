{
 "cells": [
  {
   "cell_type": "code",
   "execution_count": 2,
   "metadata": {},
   "outputs": [],
   "source": [
    "\"\"\"\n",
    "Follows https://www.tensorflow.org/tutorials/text/text_classification_rnn\n",
    "\"\"\"\n",
    "import pickle as pkl\n",
    "import numpy as np\n",
    "import random\n",
    "import re\n",
    "\n",
    "import tensorflow_datasets as tfds\n",
    "import tensorflow as tf\n",
    "\n",
    "%matplotlib notebook\n",
    "#calling it a second time may prevent some graphics errors\n",
    "%matplotlib notebook  \n",
    "import matplotlib.pyplot as plt"
   ]
  },
  {
   "cell_type": "code",
   "execution_count": 3,
   "metadata": {},
   "outputs": [],
   "source": [
    "from datetime import datetime\n",
    "datetime.now()\n",
    "EXP_NUM = 17"
   ]
  },
  {
   "cell_type": "code",
   "execution_count": 4,
   "metadata": {},
   "outputs": [],
   "source": [
    "def plot_graphs(history, metric):\n",
    "    fig, ax1 = plt.subplots()\n",
    "\n",
    "    color = 'tab:red'\n",
    "    ax1.set_xlabel('Epochs')\n",
    "    ax1.set_ylabel(metric, color=color)\n",
    "    ax1.plot(history.history[metric], color=color)\n",
    "    ax1.tick_params(axis='y', labelcolor=color)\n",
    "\n",
    "    ax2 = ax1.twinx()  # instantiate a second axes that shares the same x-axis\n",
    "\n",
    "    color = 'tab:blue'\n",
    "    ax2.set_ylabel(\"val_\" + metric, color=color)  # we already handled the x-label with ax1\n",
    "    ax2.plot(history.history[\"val_\" + metric], color=color)\n",
    "    ax2.tick_params(axis='y', labelcolor=color)\n",
    "\n",
    "    fig.tight_layout()  # otherwise the right y-label is slightly clipped\n",
    "    plt.legend([metric, \"val_\" + metric])"
   ]
  },
  {
   "cell_type": "code",
   "execution_count": 5,
   "metadata": {},
   "outputs": [],
   "source": [
    "def split_data_into_input_and_output(data):\n",
    "    \"\"\"Take given data of format from scraper [link] and return the inputs and outputs seperated.\n",
    "\n",
    "    Args:\n",
    "        data (list): A numpy array/list of named tuples which contains entries for 'gross',\n",
    "        'title', 'synopsis' and 'year'.\n",
    "    \"\"\"\n",
    "    data_in, data_out = list(zip(*[((x[\"synopsis\"]), x[\"gross\"]) for x in data]))\n",
    "    return np.array(data_in), np.array(data_out)"
   ]
  },
  {
   "cell_type": "code",
   "execution_count": 6,
   "metadata": {},
   "outputs": [],
   "source": [
    "def add_signal(data):\n",
    "    \"\"\"\n",
    "    If the given data has no signal we cant fit a NN to it. As such, here we append how much the film grossed\n",
    "    into the synopsis of each title.\n",
    "\n",
    "    Args:\n",
    "        data (list): A numpy array/list of named tuples which contains entries for 'gross',\n",
    "        'title', 'synopsis' and 'year'.\n",
    "    \"\"\"\n",
    "    for row in data:\n",
    "        row[\"synopsis\"] = row[\"synopsis\"] + f' The film grossed ${row[\"gross\"]}'"
   ]
  },
  {
   "cell_type": "code",
   "execution_count": 7,
   "metadata": {},
   "outputs": [],
   "source": [
    "def clean_copy(data, min_length = 10):\n",
    "    cleaned_data = np.fromiter((x for x in data if len(x[\"synopsis\"].split()) > min_length), dtype=data.dtype)\n",
    "    print(f\"Crushed {len(data)} to {len(cleaned_data)} after removing sub {min_length} word synopses\")\n",
    "    return cleaned_data"
   ]
  },
  {
   "cell_type": "code",
   "execution_count": null,
   "metadata": {},
   "outputs": [],
   "source": [
    "raw_data = pkl.load(open(\"complete10000_films_and_synopsis.pickle\", \"rb\"))\n",
    "plt.figure()\n",
    "word_stats = [(len(x[\"synopsis\"]),len(x[\"synopsis\"].split())) for x in raw_data]\n",
    "plt.hist([a for a,_ in word_stats], label=\"characters\", bins=100)\n",
    "plt.figure()\n",
    "plt.hist([a for _,a in word_stats], label=\"words\", bins=100)\n",
    "plt.figure()\n",
    "plt.scatter([a for a,_ in word_stats],[a for _,a in word_stats])"
   ]
  },
  {
   "cell_type": "code",
   "execution_count": 9,
   "metadata": {},
   "outputs": [
    {
     "name": "stdout",
     "output_type": "stream",
     "text": [
      "Crushed 10000 to 9742 after removing sub 10 word synopses\n"
     ]
    }
   ],
   "source": [
    "real_data = clean_copy(raw_data)\n",
    "np.random.shuffle(real_data[500:])\n",
    "data = real_data"
   ]
  },
  {
   "cell_type": "code",
   "execution_count": 29,
   "metadata": {},
   "outputs": [],
   "source": [
    "# Fraction of overall data\n",
    "training_fraction = 0.85\n",
    "\n",
    "train_end = int(len(data) * training_fraction)\n",
    "train_data_in, train_data_out = split_data_into_input_and_output(data[:train_end])\n",
    "test_data_in, test_data_out = split_data_into_input_and_output(data[train_end:])\n",
    "\n",
    "train_dataset = tf.data.Dataset.from_tensor_slices((train_data_in, train_data_out))\n",
    "test_dataset = tf.data.Dataset.from_tensor_slices((test_data_in, test_data_out))\n",
    "\n",
    "\n",
    "# How much it loads into memory for sampling\n",
    "BUFFER_SIZE = 10000\n",
    "# Batch for gradient averaging\n",
    "BATCH_SIZE = 64\n",
    "# prefetch parrallelising loading + execution (not huge so not necessary)\n",
    "\n",
    "train_dataset = train_dataset.shuffle(BUFFER_SIZE).batch(BATCH_SIZE).prefetch(5)\n",
    "test_dataset = test_dataset.batch(BATCH_SIZE).prefetch(5)"
   ]
  },
  {
   "cell_type": "code",
   "execution_count": 53,
   "metadata": {},
   "outputs": [],
   "source": [
    "sample, label = next(iter(train_dataset.take(1)))"
   ]
  },
  {
   "cell_type": "code",
   "execution_count": 31,
   "metadata": {},
   "outputs": [],
   "source": [
    "VOCAB_SIZE = 10000\n",
    "encoder = tf.keras.layers.experimental.preprocessing.TextVectorization(\n",
    "    max_tokens=VOCAB_SIZE, ngrams=1\n",
    ")\n"
   ]
  },
  {
   "cell_type": "code",
   "execution_count": 32,
   "metadata": {},
   "outputs": [],
   "source": [
    "encoder.adapt(train_dataset.map(lambda text, label: text))"
   ]
  },
  {
   "cell_type": "code",
   "execution_count": 33,
   "metadata": {},
   "outputs": [
    {
     "name": "stdout",
     "output_type": "stream",
     "text": [
      "[[   7 2169    2    1  377   10   11 4382  317   24  131    2   42   17\n",
      "   188 9284    6  209    3 1149  989 1662 5928   16   65    0    0    0\n",
      "     0    0    0    0    0    0    0    0    0    0    0    0    0    0\n",
      "     0    0    0    0]\n",
      " [  10 1528  241 1328  791   37    1   34  575 5847    5   12   99   55\n",
      "  2566  399  174  166   27  826   12 7702    4 2509   31   40    6 3984\n",
      "    72  251   79  682    0    0    0    0    0    0    0    0    0    0\n",
      "     0    0    0    0]\n",
      " [   2   60    5   53  222   16 9826 2741   37    6  101    2  284    6\n",
      "   400 1077  431  336   21 6856 1351    4  459   17   87 1869    3 2028\n",
      "     5  304    5    3 2683    0    0    0    0    0    0    0    0    0\n",
      "     0    0    0    0]]\n"
     ]
    }
   ],
   "source": [
    "encoded_sample = encoder(sample).numpy()[:3]\n",
    "print(encoded_sample)"
   ]
  },
  {
   "cell_type": "code",
   "execution_count": 34,
   "metadata": {},
   "outputs": [
    {
     "name": "stdout",
     "output_type": "stream",
     "text": [
      "Original:  b'In 1968, a Czech doctor with an active sex life meets a woman who wants monogamy, and then the Soviet invasion further disrupts their lives.'\n",
      "Round-trip:  in 1968 a [UNK] doctor with an active sex life meets a woman who wants monogamy and then the soviet invasion further disrupts their lives                     \n",
      "\n",
      "Original:  b\"With 15 year reunion coming up, Kathy has sexual fantasies of her high school sweetheart. She's married, so she sends her BFF to check him out and report back. Things get complicated.\"\n",
      "Round-trip:  with 15 year reunion coming up [UNK] has sexual fantasies of her high school sweetheart shes married so she sends her bff to check him out and report back things get complicated              \n",
      "\n",
      "Original:  b'A group of friends race their high-powered cars up and down a dangerous and deadly mountain road known as Mulholland Drive to see who can claim the title of \"King of the Hill.\"'\n",
      "Round-trip:  a group of friends race their highpowered cars up and down a dangerous and deadly mountain road known as mulholland drive to see who can claim the title of king of the hill             \n",
      "\n"
     ]
    }
   ],
   "source": [
    "vocab = np.array(encoder.get_vocabulary())\n",
    "\n",
    "for n in range(3):\n",
    "  print(\"Original: \", sample[n].numpy())\n",
    "  print(\"Round-trip: \", \" \".join(vocab[encoded_sample[n]]))\n",
    "  print()"
   ]
  },
  {
   "cell_type": "code",
   "execution_count": 35,
   "metadata": {},
   "outputs": [],
   "source": [
    "model = tf.keras.Sequential(\n",
    "    [\n",
    "        encoder,\n",
    "        tf.keras.layers.Embedding(\n",
    "            input_dim=len(encoder.get_vocabulary()), output_dim=64, mask_zero=True\n",
    "        ),\n",
    "        tf.keras.layers.Bidirectional(tf.keras.layers.LSTM(64)),\n",
    "        tf.keras.layers.Dense(64, activation=\"relu\"),\n",
    "        tf.keras.layers.Dense(64, activation=\"relu\"),\n",
    "        tf.keras.layers.Dense(1),\n",
    "    ]\n",
    ")\n",
    "\n",
    "model.compile(\n",
    "    loss=tf.keras.losses.MeanSquaredError(),\n",
    "    optimizer=tf.keras.optimizers.Adam(0.1),\n",
    ")"
   ]
  },
  {
   "cell_type": "code",
   "execution_count": 36,
   "metadata": {},
   "outputs": [
    {
     "name": "stdout",
     "output_type": "stream",
     "text": [
      "Epoch 1/100\n",
      "130/130 [==============================] - 23s 180ms/step - loss: 3950100749484032.0000 - val_loss: 754554417184768.0000\n",
      "Epoch 2/100\n",
      "130/130 [==============================] - 20s 151ms/step - loss: 3626749304766464.0000 - val_loss: 756270457946112.0000\n",
      "Epoch 3/100\n",
      "130/130 [==============================] - 19s 144ms/step - loss: 3523846720192512.0000 - val_loss: 850923685412864.0000\n",
      "Epoch 4/100\n",
      "130/130 [==============================] - 19s 146ms/step - loss: 3435465420046336.0000 - val_loss: 925630346559488.0000\n",
      "Epoch 5/100\n",
      "130/130 [==============================] - 19s 149ms/step - loss: 3373284762583040.0000 - val_loss: 916999811104768.0000\n",
      "Epoch 6/100\n",
      "130/130 [==============================] - 19s 147ms/step - loss: 3299036052324352.0000 - val_loss: 980079794454528.0000\n",
      "Epoch 7/100\n",
      "130/130 [==============================] - 19s 145ms/step - loss: 3298792044494848.0000 - val_loss: 1052780169003008.0000\n",
      "Epoch 8/100\n",
      "130/130 [==============================] - 19s 146ms/step - loss: 3224473809453056.0000 - val_loss: 1025439279611904.0000\n",
      "Epoch 9/100\n",
      "130/130 [==============================] - 19s 146ms/step - loss: 3195403054874624.0000 - val_loss: 1118402370338816.0000\n",
      "Epoch 10/100\n",
      "130/130 [==============================] - 19s 147ms/step - loss: 3162360529289216.0000 - val_loss: 1084637552050176.0000\n",
      "Epoch 11/100\n",
      "130/130 [==============================] - 19s 148ms/step - loss: 3128515381690368.0000 - val_loss: 1051481075613696.0000\n",
      "Epoch 12/100\n",
      "130/130 [==============================] - 19s 148ms/step - loss: 3097342240620544.0000 - val_loss: 1163444363460608.0000\n",
      "Epoch 13/100\n",
      "130/130 [==============================] - 19s 144ms/step - loss: 3056887675224064.0000 - val_loss: 1159783038058496.0000\n",
      "Epoch 14/100\n",
      "130/130 [==============================] - 20s 157ms/step - loss: 3068624747102208.0000 - val_loss: 1086917911248896.0000\n",
      "Epoch 15/100\n",
      "130/130 [==============================] - 20s 156ms/step - loss: 3075841097465856.0000 - val_loss: 1256728905646080.0000\n",
      "Epoch 16/100\n",
      "130/130 [==============================] - 20s 157ms/step - loss: 2995568158703616.0000 - val_loss: 1265004099665920.0000\n",
      "Epoch 17/100\n",
      "130/130 [==============================] - 20s 151ms/step - loss: 3032105177055232.0000 - val_loss: 1139970085486592.0000\n",
      "Epoch 18/100\n",
      "130/130 [==============================] - 20s 151ms/step - loss: 3036842525982720.0000 - val_loss: 1127848345600000.0000\n",
      "Epoch 19/100\n",
      "130/130 [==============================] - 20s 153ms/step - loss: 3003958108880896.0000 - val_loss: 1156774816120832.0000\n",
      "Epoch 20/100\n",
      "130/130 [==============================] - 19s 146ms/step - loss: 2931710316511232.0000 - val_loss: 1206982983811072.0000\n",
      "Epoch 21/100\n",
      "130/130 [==============================] - 19s 146ms/step - loss: 2886435724066816.0000 - val_loss: 1359468952551424.0000\n",
      "Epoch 22/100\n",
      "130/130 [==============================] - 19s 146ms/step - loss: 2914396229599232.0000 - val_loss: 1322349697695744.0000\n",
      "Epoch 23/100\n",
      "130/130 [==============================] - 19s 143ms/step - loss: 2907532871860224.0000 - val_loss: 1260699468693504.0000\n",
      "Epoch 24/100\n",
      "130/130 [==============================] - 18s 142ms/step - loss: 2918332567126016.0000 - val_loss: 1708327134298112.0000\n",
      "Epoch 25/100\n",
      "130/130 [==============================] - 19s 143ms/step - loss: 2856541677944832.0000 - val_loss: 1431807744540672.0000\n",
      "Epoch 26/100\n",
      "130/130 [==============================] - 19s 145ms/step - loss: 2838226863652864.0000 - val_loss: 1435363709026304.0000\n",
      "Epoch 27/100\n",
      "130/130 [==============================] - 18s 142ms/step - loss: 2754698608115712.0000 - val_loss: 1657321444868096.0000\n",
      "Epoch 28/100\n",
      "130/130 [==============================] - 19s 144ms/step - loss: 2774038308978688.0000 - val_loss: 1454073928744960.0000\n",
      "Epoch 29/100\n",
      "130/130 [==============================] - 19s 145ms/step - loss: 2751520869187584.0000 - val_loss: 1753408050561024.0000\n",
      "Epoch 30/100\n",
      "130/130 [==============================] - 19s 145ms/step - loss: 2757595831992320.0000 - val_loss: 1568761903579136.0000\n",
      "Epoch 31/100\n",
      "130/130 [==============================] - 19s 143ms/step - loss: 2783389794959360.0000 - val_loss: 1507004837265408.0000\n",
      "Epoch 32/100\n",
      "130/130 [==============================] - 19s 142ms/step - loss: 2751012183998464.0000 - val_loss: 1389437623730176.0000\n",
      "Epoch 33/100\n",
      "130/130 [==============================] - 19s 144ms/step - loss: 2751544759943168.0000 - val_loss: 1450107392229376.0000\n",
      "Epoch 34/100\n",
      "130/130 [==============================] - 19s 148ms/step - loss: 2745772860768256.0000 - val_loss: 1430267059240960.0000\n",
      "Epoch 35/100\n",
      "130/130 [==============================] - 19s 145ms/step - loss: 2723453794779136.0000 - val_loss: 1394904446009344.0000\n",
      "Epoch 36/100\n",
      "130/130 [==============================] - 19s 143ms/step - loss: 2682642210226176.0000 - val_loss: 1458026238181376.0000\n",
      "Epoch 37/100\n",
      "130/130 [==============================] - 19s 143ms/step - loss: 2691245298155520.0000 - val_loss: 1494048799981568.0000\n",
      "Epoch 38/100\n",
      "130/130 [==============================] - 19s 144ms/step - loss: 2685814312009728.0000 - val_loss: 1656214551265280.0000\n",
      "Epoch 39/100\n",
      "130/130 [==============================] - 18s 142ms/step - loss: 2669398410133504.0000 - val_loss: 1407833371312128.0000\n",
      "Epoch 40/100\n",
      "130/130 [==============================] - 19s 145ms/step - loss: 2673839406317568.0000 - val_loss: 1311368674279424.0000\n",
      "Epoch 41/100\n",
      "130/130 [==============================] - 19s 143ms/step - loss: 2697109002256384.0000 - val_loss: 1441649527881728.0000\n",
      "Epoch 42/100\n",
      "130/130 [==============================] - 19s 144ms/step - loss: 2652673539047424.0000 - val_loss: 1506369182105600.0000\n",
      "Epoch 43/100\n",
      "130/130 [==============================] - 19s 146ms/step - loss: 2646163173933056.0000 - val_loss: 1441987622338560.0000\n",
      "Epoch 44/100\n",
      "130/130 [==============================] - 18s 141ms/step - loss: 2663765292089344.0000 - val_loss: 1386292902363136.0000\n",
      "Epoch 45/100\n",
      "130/130 [==============================] - 19s 147ms/step - loss: 2611417693814784.0000 - val_loss: 1482516007485440.0000\n",
      "Epoch 46/100\n",
      "130/130 [==============================] - 19s 143ms/step - loss: 2649049123520512.0000 - val_loss: 1443621052088320.0000\n",
      "Epoch 47/100\n",
      "130/130 [==============================] - 18s 141ms/step - loss: 2590714340835328.0000 - val_loss: 1821783393042432.0000\n",
      "Epoch 48/100\n",
      "130/130 [==============================] - 19s 146ms/step - loss: 2607336938012672.0000 - val_loss: 1500880750772224.0000\n",
      "Epoch 49/100\n",
      "130/130 [==============================] - 19s 143ms/step - loss: 2578248466694144.0000 - val_loss: 1547107483779072.0000\n",
      "Epoch 50/100\n",
      "130/130 [==============================] - 19s 144ms/step - loss: 2578501332893696.0000 - val_loss: 1523922713444352.0000\n",
      "Epoch 51/100\n",
      "130/130 [==============================] - 19s 145ms/step - loss: 2620903665958912.0000 - val_loss: 1544473997737984.0000\n",
      "Epoch 52/100\n",
      "130/130 [==============================] - 19s 144ms/step - loss: 2620791728373760.0000 - val_loss: 1648939279319040.0000\n",
      "Epoch 53/100\n",
      "130/130 [==============================] - 18s 142ms/step - loss: 2614659320381440.0000 - val_loss: 1767168991559680.0000\n",
      "Epoch 54/100\n",
      "130/130 [==============================] - 19s 144ms/step - loss: 2621893655920640.0000 - val_loss: 1945039559196672.0000\n",
      "Epoch 55/100\n",
      "130/130 [==============================] - 19s 145ms/step - loss: 2588210643337216.0000 - val_loss: 1758912722239488.0000\n",
      "Epoch 56/100\n",
      "130/130 [==============================] - 19s 147ms/step - loss: 2613664767016960.0000 - val_loss: 1927963037663232.0000\n",
      "Epoch 57/100\n",
      "130/130 [==============================] - 19s 145ms/step - loss: 2640604949381120.0000 - val_loss: 1715176399175680.0000\n",
      "Epoch 58/100\n",
      "130/130 [==============================] - 19s 144ms/step - loss: 2641758416535552.0000 - val_loss: 1863372769329152.0000\n",
      "Epoch 59/100\n",
      "130/130 [==============================] - 19s 145ms/step - loss: 2541757350805504.0000 - val_loss: 2200959480496128.0000\n",
      "Epoch 60/100\n",
      "130/130 [==============================] - 19s 147ms/step - loss: 2529807678046208.0000 - val_loss: 1900778713251840.0000\n",
      "Epoch 61/100\n",
      "130/130 [==============================] - 19s 147ms/step - loss: 2478060033015808.0000 - val_loss: 1901458123390976.0000\n",
      "Epoch 62/100\n",
      "130/130 [==============================] - 19s 146ms/step - loss: 2474561245282304.0000 - val_loss: 1792717201866752.0000\n",
      "Epoch 63/100\n",
      "130/130 [==============================] - 19s 148ms/step - loss: 2451831473045504.0000 - val_loss: 1721224921088000.0000\n",
      "Epoch 64/100\n",
      "130/130 [==============================] - 19s 144ms/step - loss: 2426802551128064.0000 - val_loss: 2118098421284864.0000\n",
      "Epoch 65/100\n",
      "130/130 [==============================] - 19s 147ms/step - loss: 2412362602643456.0000 - val_loss: 1551432784281600.0000\n",
      "Epoch 66/100\n",
      "130/130 [==============================] - 18s 142ms/step - loss: 2395554516566016.0000 - val_loss: 1694514519474176.0000\n",
      "Epoch 67/100\n",
      "130/130 [==============================] - 19s 143ms/step - loss: 2360507583430656.0000 - val_loss: 2149559727816704.0000\n",
      "Epoch 68/100\n",
      "130/130 [==============================] - 18s 141ms/step - loss: 2365681139974144.0000 - val_loss: 2017632693780480.0000\n",
      "Epoch 69/100\n",
      "130/130 [==============================] - 19s 144ms/step - loss: 2353196743786496.0000 - val_loss: 1975404172673024.0000\n",
      "Epoch 70/100\n",
      "130/130 [==============================] - 19s 144ms/step - loss: 2388046913732608.0000 - val_loss: 1957779640156160.0000\n",
      "Epoch 71/100\n",
      "130/130 [==============================] - 19s 143ms/step - loss: 2401057980284928.0000 - val_loss: 2160275402784768.0000\n",
      "Epoch 72/100\n",
      "130/130 [==============================] - 19s 144ms/step - loss: 2348866611445760.0000 - val_loss: 2022722498461696.0000\n",
      "Epoch 73/100\n",
      "130/130 [==============================] - 19s 148ms/step - loss: 2373489927389184.0000 - val_loss: 1810707075039232.0000\n",
      "Epoch 74/100\n",
      "130/130 [==============================] - 19s 146ms/step - loss: 2379209213214720.0000 - val_loss: 2051489920974848.0000\n",
      "Epoch 75/100\n",
      "130/130 [==============================] - 19s 145ms/step - loss: 2391705957433344.0000 - val_loss: 1936727857954816.0000\n",
      "Epoch 76/100\n",
      "130/130 [==============================] - 19s 146ms/step - loss: 2354202303004672.0000 - val_loss: 2067208695971840.0000\n",
      "Epoch 77/100\n",
      "130/130 [==============================] - 19s 143ms/step - loss: 2324716815646720.0000 - val_loss: 1993896422801408.0000\n",
      "Epoch 78/100\n",
      "130/130 [==============================] - 19s 148ms/step - loss: 2273607510130688.0000 - val_loss: 1919880580300800.0000\n",
      "Epoch 79/100\n",
      "130/130 [==============================] - 19s 147ms/step - loss: 2232053969977344.0000 - val_loss: 2026826339713024.0000\n",
      "Epoch 80/100\n",
      "130/130 [==============================] - 19s 146ms/step - loss: 2218080159662080.0000 - val_loss: 1832266468687872.0000\n",
      "Epoch 81/100\n",
      "130/130 [==============================] - 18s 139ms/step - loss: 2247013206851584.0000 - val_loss: 1934253419921408.0000\n",
      "Epoch 82/100\n",
      "130/130 [==============================] - 19s 143ms/step - loss: 2190259374784512.0000 - val_loss: 1974961656823808.0000\n",
      "Epoch 83/100\n",
      "130/130 [==============================] - 19s 144ms/step - loss: 2162740848230400.0000 - val_loss: 2003133689495552.0000\n",
      "Epoch 84/100\n",
      "130/130 [==============================] - 18s 141ms/step - loss: 2119952504979456.0000 - val_loss: 2011663360327680.0000\n",
      "Epoch 85/100\n",
      "130/130 [==============================] - 18s 142ms/step - loss: 2124548791074816.0000 - val_loss: 1741699567058944.0000\n",
      "Epoch 86/100\n",
      "130/130 [==============================] - 19s 144ms/step - loss: 2079342247018496.0000 - val_loss: 2140708471308288.0000\n",
      "Epoch 87/100\n",
      "130/130 [==============================] - 18s 142ms/step - loss: 2092631412703232.0000 - val_loss: 1963701997404160.0000\n",
      "Epoch 88/100\n",
      "130/130 [==============================] - 19s 144ms/step - loss: 2058505884270592.0000 - val_loss: 1882854740983808.0000\n",
      "Epoch 89/100\n",
      "130/130 [==============================] - 19s 146ms/step - loss: 2082373957058560.0000 - val_loss: 2037345788362752.0000\n",
      "Epoch 90/100\n",
      "130/130 [==============================] - 18s 139ms/step - loss: 2094189009436672.0000 - val_loss: 1948954824540160.0000\n",
      "Epoch 91/100\n",
      "130/130 [==============================] - 19s 144ms/step - loss: 2055590004129792.0000 - val_loss: 2144695677353984.0000\n",
      "Epoch 92/100\n",
      "130/130 [==============================] - 18s 142ms/step - loss: 2052635335065600.0000 - val_loss: 2154837034663936.0000\n",
      "Epoch 93/100\n",
      "130/130 [==============================] - 18s 142ms/step - loss: 2029550691155968.0000 - val_loss: 2093933458882560.0000\n",
      "Epoch 94/100\n",
      "130/130 [==============================] - 19s 144ms/step - loss: 2028362730045440.0000 - val_loss: 2016849264902144.0000\n",
      "Epoch 95/100\n",
      "130/130 [==============================] - 18s 142ms/step - loss: 2029312991559680.0000 - val_loss: 2022589086040064.0000\n",
      "Epoch 96/100\n",
      "130/130 [==============================] - 19s 143ms/step - loss: 1981219289956352.0000 - val_loss: 2092235873058816.0000\n",
      "Epoch 97/100\n",
      "130/130 [==============================] - 19s 144ms/step - loss: 1993339419230208.0000 - val_loss: 1990539637424128.0000\n",
      "Epoch 98/100\n",
      "130/130 [==============================] - 18s 142ms/step - loss: 1877767083786240.0000 - val_loss: 2498017672298496.0000\n",
      "Epoch 99/100\n",
      "130/130 [==============================] - 19s 145ms/step - loss: 1890401401176064.0000 - val_loss: 2438980662460416.0000\n",
      "Epoch 100/100\n",
      "130/130 [==============================] - 19s 146ms/step - loss: 1870917818908672.0000 - val_loss: 2360574155423744.0000\n"
     ]
    }
   ],
   "source": [
    "history = model.fit(\n",
    "    train_dataset, epochs=100, validation_data=test_dataset, validation_steps=len(test_data_in) // BATCH_SIZE\n",
    ")"
   ]
  },
  {
   "cell_type": "code",
   "execution_count": 37,
   "metadata": {},
   "outputs": [
    {
     "name": "stdout",
     "output_type": "stream",
     "text": [
      "23/23 [==============================] - 1s 45ms/step - loss: 2351133817307136.0000\n"
     ]
    }
   ],
   "source": [
    "res = model.evaluate(test_dataset)"
   ]
  },
  {
   "cell_type": "code",
   "execution_count": 38,
   "metadata": {},
   "outputs": [
    {
     "name": "stdout",
     "output_type": "stream",
     "text": [
      "689549696\n"
     ]
    }
   ],
   "source": [
    "sample_text = \"As a new threat to the galaxy rises, Rey, a desert scavenger, and Finn, an ex-stormtrooper, must join Han Solo and Chewbacca to search for the one hope of restoring peace.\"\n",
    "pred1 = model.predict(np.array([sample_text]))\n",
    "print(int(pred1[0]))"
   ]
  },
  {
   "cell_type": "code",
   "execution_count": 39,
   "metadata": {},
   "outputs": [
    {
     "name": "stdout",
     "output_type": "stream",
     "text": [
      "12689536\n"
     ]
    }
   ],
   "source": [
    "non_existant_film = \"Este is a friend of mine we meet up every tuesday night for dinner and a glass of wine. She thinks he did it but just cant prove it\"\n",
    "pred2 = model.predict(np.array([non_existant_film]))\n",
    "print(int(pred2[0]))"
   ]
  },
  {
   "cell_type": "code",
   "execution_count": 10,
   "metadata": {},
   "outputs": [],
   "source": [
    "def confusion_plot(lab, pred, name, new_plot=False):\n",
    "    \"\"\"\n",
    "    lab = label\n",
    "    pred = prediction\n",
    "    \"\"\"\n",
    "    if new_plot:\n",
    "        plt.figure()\n",
    "    plt.scatter(lab, lab, label='truth', s=2, color='black')\n",
    "    plt.scatter(lab, pred, label=name, s=2)\n",
    "    handles, labels = plt.gca().get_legend_handles_labels()\n",
    "    by_label = dict(zip(labels, handles))\n",
    "    plt.legend(by_label.values(), by_label.keys())\n",
    "    plt.xlabel('Truth')\n",
    "    plt.ylabel('Prediction')\n",
    "\n"
   ]
  },
  {
   "cell_type": "code",
   "execution_count": 48,
   "metadata": {},
   "outputs": [
    {
     "data": {
      "image/png": "[encoded data removed]",
      "text/plain": [
       "<Figure size 432x288 with 1 Axes>"
      ]
     },
     "metadata": {
      "needs_background": "light"
     },
     "output_type": "display_data"
    },
    {
     "data": {
      "text/plain": [
       "<Figure size 432x288 with 0 Axes>"
      ]
     },
     "metadata": {},
     "output_type": "display_data"
    }
   ],
   "source": [
    "test_predictions = model.predict(test_data_in)\n",
    "train_predictions = model.predict(train_data_in)\n",
    "confusion_plot(train_data_out, train_predictions, 'train')\n",
    "confusion_plot(test_data_out, test_predictions, 'test')\n",
    "plt.show()\n",
    "plt.savefig(\"exp_{EXP_NUM}.pdf\", dpi=300)"
   ]
  },
  {
   "cell_type": "code",
   "execution_count": 60,
   "metadata": {},
   "outputs": [
    {
     "name": "stdout",
     "output_type": "stream",
     "text": [
      "Crushed 10000 to 9965 after removing sub 0 word synopses\n",
      "Crushed 10000 to 9742 after removing sub 10 word synopses\n",
      "Crushed 10000 to 4899 after removing sub 25 word synopses\n",
      "Crushed 10000 to 517 after removing sub 50 word synopses\n"
     ]
    },
    {
     "data": {
      "image/png": "[encoded data removed]",
      "text/plain": [
       "<Figure size 432x288 with 1 Axes>"
      ]
     },
     "metadata": {
      "needs_background": "light"
     },
     "output_type": "display_data"
    }
   ],
   "source": [
    "for min_words in [0, 10, 25, 50]:\n",
    "    data_in, data_out = split_data_into_input_and_output(clean_copy(raw_data, min_words))\n",
    "    predictions = model.predict(data_in)\n",
    "    confusion_plot(data_out, predictions, f'{min_words}')"
   ]
  },
  {
   "cell_type": "code",
   "execution_count": 41,
   "metadata": {},
   "outputs": [
    {
     "data": {
      "image/png": "[encoded data removed]",
      "text/plain": [
       "<Figure size 432x288 with 2 Axes>"
      ]
     },
     "metadata": {
      "needs_background": "light"
     },
     "output_type": "display_data"
    }
   ],
   "source": [
    "plot_graphs(history,'loss')\n",
    "plt.savefig(\"exp_14_2.pdf\", dpi=300)"
   ]
  },
  {
   "cell_type": "code",
   "execution_count": null,
   "metadata": {},
   "outputs": [
    {
     "name": "stdout",
     "output_type": "stream",
     "text": [
      "Crushed 10000 to 9965 after removing sub 0 word synopses\n",
      "Epoch 1/100\n",
      "133/133 [==============================] - 29s 219ms/step - loss: 4062345424797696.0000 - val_loss: 1024748192530432.0000\n",
      "Epoch 2/100\n",
      "133/133 [==============================] - 25s 192ms/step - loss: 3576971975983104.0000 - val_loss: 764023142350848.0000\n",
      "Epoch 3/100\n",
      "133/133 [==============================] - 25s 187ms/step - loss: 3559085584678912.0000 - val_loss: 1381948140290048.0000\n",
      "Epoch 4/100\n",
      "133/133 [==============================] - 25s 189ms/step - loss: 3499661222477824.0000 - val_loss: 1409637257576448.0000\n",
      "Epoch 5/100\n",
      "133/133 [==============================] - 25s 185ms/step - loss: 3416871701315584.0000 - val_loss: 1164391806402560.0000\n",
      "Epoch 6/100\n",
      "133/133 [==============================] - 25s 189ms/step - loss: 3403949486899200.0000 - val_loss: 1056816297410560.0000\n",
      "Epoch 7/100\n",
      "133/133 [==============================] - 25s 185ms/step - loss: 3381298097815552.0000 - val_loss: 1165037796327424.0000\n",
      "Epoch 8/100\n",
      "133/133 [==============================] - 25s 187ms/step - loss: 3343913897164800.0000 - val_loss: 1410879442649088.0000\n",
      "Epoch 9/100\n",
      "133/133 [==============================] - 26s 194ms/step - loss: 3320113335894016.0000 - val_loss: 1427133343727616.0000\n",
      "Epoch 10/100\n",
      "133/133 [==============================] - 24s 181ms/step - loss: 3296367535456256.0000 - val_loss: 1004904705425408.0000\n",
      "Epoch 11/100\n",
      "133/133 [==============================] - 24s 184ms/step - loss: 3259208820588544.0000 - val_loss: 1309659143077888.0000\n",
      "Epoch 12/100\n",
      "133/133 [==============================] - 24s 184ms/step - loss: 3289682150424576.0000 - val_loss: 1181744145367040.0000\n",
      "Epoch 13/100\n",
      "133/133 [==============================] - 25s 185ms/step - loss: 3232132809883648.0000 - val_loss: 1137608121909248.0000\n",
      "Epoch 14/100\n",
      "133/133 [==============================] - 25s 185ms/step - loss: 3199580984311808.0000 - val_loss: 1265574525009920.0000\n",
      "Epoch 15/100\n",
      "133/133 [==============================] - 25s 190ms/step - loss: 3224829486432256.0000 - val_loss: 1256182907928576.0000\n",
      "Epoch 16/100\n",
      "133/133 [==============================] - 23s 176ms/step - loss: 3191627778621440.0000 - val_loss: 1273409753317376.0000\n",
      "Epoch 17/100\n",
      "133/133 [==============================] - 24s 180ms/step - loss: 3183583304876032.0000 - val_loss: 1341586587779072.0000\n",
      "Epoch 18/100\n",
      "133/133 [==============================] - 23s 174ms/step - loss: 3184871258193920.0000 - val_loss: 1406127329771520.0000\n",
      "Epoch 19/100\n",
      "133/133 [==============================] - 23s 176ms/step - loss: 3131418242711552.0000 - val_loss: 1309278367383552.0000\n",
      "Epoch 20/100\n",
      "133/133 [==============================] - 23s 176ms/step - loss: 3079140974526464.0000 - val_loss: 1499564477513728.0000\n",
      "Epoch 21/100\n",
      "133/133 [==============================] - 24s 180ms/step - loss: 3080074593042432.0000 - val_loss: 1654560183549952.0000\n",
      "Epoch 22/100\n",
      "133/133 [==============================] - 23s 176ms/step - loss: 3038078134386688.0000 - val_loss: 1510801588355072.0000\n",
      "Epoch 23/100\n",
      "133/133 [==============================] - 24s 181ms/step - loss: 3062621724999680.0000 - val_loss: 1321382122094592.0000\n",
      "Epoch 24/100\n",
      "133/133 [==============================] - 23s 176ms/step - loss: 3048861455089664.0000 - val_loss: 1348995406364672.0000\n",
      "Epoch 25/100\n",
      "133/133 [==============================] - 24s 180ms/step - loss: 3046725514166272.0000 - val_loss: 1759081568141312.0000\n",
      "Epoch 26/100\n",
      "133/133 [==============================] - 24s 178ms/step - loss: 3009507475062784.0000 - val_loss: 1347394859958272.0000\n",
      "Epoch 27/100\n",
      "133/133 [==============================] - 24s 181ms/step - loss: 3011017961373696.0000 - val_loss: 1270130680004608.0000\n",
      "Epoch 28/100\n",
      "133/133 [==============================] - 24s 180ms/step - loss: 2941830333202432.0000 - val_loss: 1420417625489408.0000\n",
      "Epoch 29/100\n",
      "133/133 [==============================] - 24s 182ms/step - loss: 2973400758747136.0000 - val_loss: 1662199990845440.0000\n",
      "Epoch 30/100\n",
      "133/133 [==============================] - 22s 169ms/step - loss: 2958375620968448.0000 - val_loss: 1350548305477632.0000\n",
      "Epoch 31/100\n",
      "133/133 [==============================] - 23s 174ms/step - loss: 2934672770203648.0000 - val_loss: 1639531824545792.0000\n",
      "Epoch 32/100\n",
      "133/133 [==============================] - 23s 175ms/step - loss: 2969671921827840.0000 - val_loss: 1728110022098944.0000\n",
      "Epoch 33/100\n",
      "133/133 [==============================] - 23s 175ms/step - loss: 2913658568966144.0000 - val_loss: 1477533040115712.0000\n",
      "Epoch 34/100\n",
      "133/133 [==============================] - 23s 173ms/step - loss: 2863987540623360.0000 - val_loss: 1509154871050240.0000\n",
      "Epoch 35/100\n",
      "133/133 [==============================] - 23s 171ms/step - loss: 2824704427556864.0000 - val_loss: 1414646800056320.0000\n",
      "Epoch 36/100\n",
      "133/133 [==============================] - 23s 172ms/step - loss: 2826104855330816.0000 - val_loss: 1365787654750208.0000\n",
      "Epoch 37/100\n",
      "133/133 [==============================] - 23s 176ms/step - loss: 2787049643966464.0000 - val_loss: 1506978799026176.0000\n",
      "Epoch 38/100\n",
      "133/133 [==============================] - 23s 176ms/step - loss: 2759198123229184.0000 - val_loss: 1748117187723264.0000\n",
      "Epoch 39/100\n",
      "133/133 [==============================] - 23s 172ms/step - loss: 2733891639050240.0000 - val_loss: 1496577864630272.0000\n",
      "Epoch 40/100\n",
      "133/133 [==============================] - 23s 173ms/step - loss: 2772406221406208.0000 - val_loss: 1447287880417280.0000\n",
      "Epoch 41/100\n",
      "133/133 [==============================] - 23s 169ms/step - loss: 2786123004772352.0000 - val_loss: 1542414426701824.0000\n",
      "Epoch 42/100\n",
      "133/133 [==============================] - 23s 172ms/step - loss: 2735391924813824.0000 - val_loss: 1703810976186368.0000\n",
      "Epoch 43/100\n",
      "133/133 [==============================] - 23s 170ms/step - loss: 2711030601875456.0000 - val_loss: 1647558044680192.0000\n",
      "Epoch 44/100\n",
      "133/133 [==============================] - 23s 172ms/step - loss: 2776958349869056.0000 - val_loss: 1708089837355008.0000\n",
      "Epoch 45/100\n",
      "133/133 [==============================] - 23s 172ms/step - loss: 2732767968231424.0000 - val_loss: 1561926597345280.0000\n",
      "Epoch 46/100\n",
      "133/133 [==============================] - 23s 175ms/step - loss: 2700550881673216.0000 - val_loss: 1813867231444992.0000\n",
      "Epoch 47/100\n",
      " 73/133 [===============>..............] - ETA: 9s - loss: 2644040117911552.0000"
     ]
    }
   ],
   "source": [
    "histories = dict()\n",
    "models = dict()\n",
    "experiment_cutoffs = [0,10,25,50]\n",
    "for min_words in experiment_cutoffs:\n",
    "    data = clean_copy(raw_data, min_words)\n",
    "    \n",
    "    # Fraction of overall data\n",
    "    training_fraction = 0.85\n",
    "    train_end = int(len(data) * training_fraction)\n",
    "    train_data_in, train_data_out = split_data_into_input_and_output(data[:train_end])\n",
    "    test_data_in, test_data_out = split_data_into_input_and_output(data[train_end:])\n",
    "    \n",
    "    # Make dataset objects\n",
    "    train_dataset = tf.data.Dataset.from_tensor_slices((train_data_in, train_data_out))\n",
    "    test_dataset = tf.data.Dataset.from_tensor_slices((test_data_in, test_data_out))\n",
    "\n",
    "    # Shuffle\n",
    "    # How much it loads into memory for sampling\n",
    "    BUFFER_SIZE = 10000\n",
    "    # Batch for gradient averaging\n",
    "    BATCH_SIZE = 64\n",
    "    # prefetch parrallelising loading + execution (not huge so not necessary)\n",
    "    train_dataset = train_dataset.shuffle(BUFFER_SIZE).batch(BATCH_SIZE).prefetch(5)\n",
    "    test_dataset = test_dataset.batch(BATCH_SIZE).prefetch(5)\n",
    "    \n",
    "    # Specify encoding of words\n",
    "    SUBSET_VOCAB_SIZE = 10000\n",
    "    encoder = tf.keras.layers.experimental.preprocessing.TextVectorization(\n",
    "        max_tokens=SUBSET_VOCAB_SIZE, ngrams=1\n",
    "    )\n",
    "    encoder.adapt(train_dataset.map(lambda text, label: text))\n",
    "    \n",
    "    # Specify overall architecture\n",
    "    models[min_words] = tf.keras.Sequential(\n",
    "    [\n",
    "        encoder,\n",
    "        tf.keras.layers.Embedding(\n",
    "            input_dim=len(encoder.get_vocabulary()), output_dim=64, mask_zero=True\n",
    "        ),\n",
    "        tf.keras.layers.Bidirectional(tf.keras.layers.LSTM(64)),\n",
    "        tf.keras.layers.Dense(64, activation=\"relu\"),\n",
    "        tf.keras.layers.Dense(64, activation=\"relu\"),\n",
    "        tf.keras.layers.Dense(1),\n",
    "    ]\n",
    "    )\n",
    "    models[min_words].compile(\n",
    "        loss=tf.keras.losses.MeanSquaredError(),\n",
    "        optimizer=tf.keras.optimizers.Adam(0.1),\n",
    "    )\n",
    "\n",
    "    # Train\n",
    "    histories[min_words] = models[min_words].fit(\n",
    "    train_dataset, epochs=100, validation_data=test_dataset, validation_steps=len(test_data_in) // BATCH_SIZE\n",
    "    )\n",
    "    \n",
    "    # Look at performance\n",
    "    pred = models[min_words].predict(train_data_in)\n",
    "    confusion_plot(train_data_out, pred, f'{min_words}')"
   ]
  },
  {
   "cell_type": "code",
   "execution_count": null,
   "metadata": {},
   "outputs": [],
   "source": [
    "for a in experiment_cutoffs:\n",
    "    plot_graphs(histories[a],'loss')"
   ]
  },
  {
   "cell_type": "code",
   "execution_count": null,
   "metadata": {},
   "outputs": [],
   "source": []
  }
 ],
 "metadata": {
  "kernelspec": {
   "display_name": "Python3.8 | Tensorflow 2",
   "language": "python",
   "name": "tf2"
  },
  "language_info": {
   "codemirror_mode": {
    "name": "ipython",
    "version": 3
   },
   "file_extension": ".py",
   "mimetype": "text/x-python",
   "name": "python",
   "nbconvert_exporter": "python",
   "pygments_lexer": "ipython3",
   "version": "3.8.5"
  }
 },
 "nbformat": 4,
 "nbformat_minor": 2
}
