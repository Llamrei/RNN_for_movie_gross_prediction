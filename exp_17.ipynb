{
 "cells": [
  {
   "cell_type": "code",
   "execution_count": 1,
   "metadata": {},
   "outputs": [],
   "source": [
    "\"\"\"\n",
    "Follows https://www.tensorflow.org/tutorials/text/text_classification_rnn\n",
    "\"\"\"\n",
    "import pickle as pkl\n",
    "import numpy as np\n",
    "import random\n",
    "import re\n",
    "\n",
    "import tensorflow_datasets as tfds\n",
    "import tensorflow as tf\n",
    "\n",
    "import matplotlib.pyplot as plt"
   ]
  },
  {
   "cell_type": "code",
   "execution_count": 2,
   "metadata": {},
   "outputs": [],
   "source": [
    "from datetime import datetime\n",
    "datetime.now()\n",
    "EXP_NUM = 17"
   ]
  },
  {
   "cell_type": "code",
   "execution_count": 3,
   "metadata": {},
   "outputs": [],
   "source": [
    "def plot_graphs(history, metric):\n",
    "    fig, ax1 = plt.subplots()\n",
    "\n",
    "    color = 'tab:red'\n",
    "    ax1.set_xlabel('Epochs')\n",
    "    ax1.set_ylabel(metric, color=color)\n",
    "    ax1.plot(history.history[metric], color=color)\n",
    "    ax1.tick_params(axis='y', labelcolor=color)\n",
    "\n",
    "    ax2 = ax1.twinx()  # instantiate a second axes that shares the same x-axis\n",
    "\n",
    "    color = 'tab:blue'\n",
    "    ax2.set_ylabel(\"val_\" + metric, color=color)  # we already handled the x-label with ax1\n",
    "    ax2.plot(history.history[\"val_\" + metric], color=color)\n",
    "    ax2.tick_params(axis='y', labelcolor=color)\n",
    "\n",
    "    fig.tight_layout()  # otherwise the right y-label is slightly clipped\n",
    "    plt.legend([metric, \"val_\" + metric])"
   ]
  },
  {
   "cell_type": "code",
   "execution_count": 4,
   "metadata": {},
   "outputs": [],
   "source": [
    "def split_data_into_input_and_output(data):\n",
    "    \"\"\"Take given data of format from scraper [link] and return the inputs and outputs seperated.\n",
    "\n",
    "    Args:\n",
    "        data (list): A numpy array/list of named tuples which contains entries for 'gross',\n",
    "        'title', 'synopsis' and 'year'.\n",
    "    \"\"\"\n",
    "    data_in, data_out = list(zip(*[((x[\"synopsis\"]), x[\"gross\"]) for x in data]))\n",
    "    return np.array(data_in), np.array(data_out)"
   ]
  },
  {
   "cell_type": "code",
   "execution_count": 5,
   "metadata": {},
   "outputs": [],
   "source": [
    "def add_signal(data):\n",
    "    \"\"\"\n",
    "    If the given data has no signal we cant fit a NN to it. As such, here we append how much the film grossed\n",
    "    into the synopsis of each title.\n",
    "\n",
    "    Args:\n",
    "        data (list): A numpy array/list of named tuples which contains entries for 'gross',\n",
    "        'title', 'synopsis' and 'year'.\n",
    "    \"\"\"\n",
    "    for row in data:\n",
    "        row[\"synopsis\"] = row[\"synopsis\"] + f' The film grossed ${row[\"gross\"]}'"
   ]
  },
  {
   "cell_type": "code",
   "execution_count": 6,
   "metadata": {},
   "outputs": [],
   "source": [
    "def clean_copy(data, min_length = 10):\n",
    "    cleaned_data = np.fromiter((x for x in data if len(x[\"synopsis\"].split()) > min_length), dtype=data.dtype)\n",
    "    print(f\"Crushed {len(data)} to {len(cleaned_data)} after removing sub {min_length} word synopses\")\n",
    "    return cleaned_data"
   ]
  },
  {
   "cell_type": "code",
   "execution_count": 7,
   "metadata": {},
   "outputs": [
    {
     "data": {
      "text/plain": [
       "<matplotlib.collections.PathCollection at 0x2b5133367d30>"
      ]
     },
     "execution_count": 7,
     "metadata": {},
     "output_type": "execute_result"
    },
    {
     "data": {
      "image/png": "[encoded data removed]",
      "text/plain": [
       "<Figure size 432x288 with 1 Axes>"
      ]
     },
     "metadata": {
      "needs_background": "light"
     },
     "output_type": "display_data"
    },
    {
     "data": {
      "image/png": "[encoded data removed]",
      "text/plain": [
       "<Figure size 432x288 with 1 Axes>"
      ]
     },
     "metadata": {
      "needs_background": "light"
     },
     "output_type": "display_data"
    },
    {
     "data": {
      "image/png": "[encoded data removed]",
      "text/plain": [
       "<Figure size 432x288 with 1 Axes>"
      ]
     },
     "metadata": {
      "needs_background": "light"
     },
     "output_type": "display_data"
    }
   ],
   "source": [
    "raw_data = pkl.load(open(\"complete10000_films_and_synopsis.pickle\", \"rb\"))\n",
    "plt.figure()\n",
    "word_stats = [(len(x[\"synopsis\"]),len(x[\"synopsis\"].split())) for x in raw_data]\n",
    "plt.hist([a for a,_ in word_stats], label=\"characters\", bins=100)\n",
    "plt.figure()\n",
    "plt.hist([a for _,a in word_stats], label=\"words\", bins=100)\n",
    "plt.figure()\n",
    "plt.scatter([a for a,_ in word_stats],[a for _,a in word_stats])"
   ]
  },
  {
   "cell_type": "code",
   "execution_count": 8,
   "metadata": {},
   "outputs": [
    {
     "name": "stdout",
     "output_type": "stream",
     "text": [
      "Crushed 10000 to 9742 after removing sub 10 word synopses\n"
     ]
    }
   ],
   "source": [
    "real_data = clean_copy(raw_data)\n",
    "np.random.shuffle(real_data[500:])\n",
    "data = real_data"
   ]
  },
  {
   "cell_type": "code",
   "execution_count": 9,
   "metadata": {},
   "outputs": [],
   "source": [
    "# Fraction of overall data\n",
    "training_fraction = 0.85\n",
    "\n",
    "train_end = int(len(data) * training_fraction)\n",
    "train_data_in, train_data_out = split_data_into_input_and_output(data[:train_end])\n",
    "test_data_in, test_data_out = split_data_into_input_and_output(data[train_end:])\n",
    "\n",
    "train_dataset = tf.data.Dataset.from_tensor_slices((train_data_in, train_data_out))\n",
    "test_dataset = tf.data.Dataset.from_tensor_slices((test_data_in, test_data_out))\n",
    "\n",
    "\n",
    "# How much it loads into memory for sampling\n",
    "BUFFER_SIZE = 10000\n",
    "# Batch for gradient averaging\n",
    "BATCH_SIZE = 64\n",
    "# prefetch parrallelising loading + execution (not huge so not necessary)\n",
    "\n",
    "train_dataset = train_dataset.shuffle(BUFFER_SIZE).batch(BATCH_SIZE).prefetch(5)\n",
    "test_dataset = test_dataset.batch(BATCH_SIZE).prefetch(5)"
   ]
  },
  {
   "cell_type": "code",
   "execution_count": 10,
   "metadata": {},
   "outputs": [],
   "source": [
    "sample, label = next(iter(train_dataset.take(1)))"
   ]
  },
  {
   "cell_type": "code",
   "execution_count": 11,
   "metadata": {},
   "outputs": [],
   "source": [
    "VOCAB_SIZE = 10000\n",
    "encoder = tf.keras.layers.experimental.preprocessing.TextVectorization(\n",
    "    max_tokens=VOCAB_SIZE, ngrams=1\n",
    ")\n"
   ]
  },
  {
   "cell_type": "code",
   "execution_count": 12,
   "metadata": {},
   "outputs": [],
   "source": [
    "encoder.adapt(train_dataset.map(lambda text, label: text))"
   ]
  },
  {
   "cell_type": "code",
   "execution_count": 13,
   "metadata": {},
   "outputs": [
    {
     "name": "stdout",
     "output_type": "stream",
     "text": [
      "[[   1    1    9    7  611  412   10   66 7205    1    1  365  108   75\n",
      "     3 4577    1 2796   21 8732  372  517    7    3    1  390  214   13\n",
      "     2 9201   18    3 2152 4110  640 9554    3  508 3015   13    3   42\n",
      "     5 1665  640    1   14   12 5910 1048 7161  640 9935 6351   22   12\n",
      "   413  417 4385  498   12   33  196   10    3    1 4057  640    1  592\n",
      "    28   36  360  950   22 4057    9  354  193    4  162   28    9  253\n",
      "     7    3  681    5 1595    1   11  743 5529   10    2    1   14 3075\n",
      "     6  157   71 3703    4    3  532    6  417 4789    5 1049]\n",
      " [   2  653 3540   41  450    1   20    3  626 6041   23    3  380 1052\n",
      "  9585   12  133    7    3 9945    7   66  332    5  673   19   28    9\n",
      "  1419   18  130 2100    5    3    1    6  317    1    6    1  193   20\n",
      "     3 1594    3 5151    9  219 3525   10    2  213   27    3 1519  626\n",
      "   632   92    3    1 2525  901    7  131 2841    0    0    0    0    0\n",
      "     0    0    0    0    0    0    0    0    0    0    0    0    0    0\n",
      "     0    0    0    0    0    0    0    0    0    0    0    0    0    0\n",
      "     0    0    0    0    0    0    0    0    0    0    0    0]\n",
      " [   1   23    2  172 1124  501 1228 2407    6    8  582 5044 2625   20\n",
      "    16  572  355    7    1 4353    3  191  370    7    3   43 2407  192\n",
      "     4   47    0    0    0    0    0    0    0    0    0    0    0    0\n",
      "     0    0    0    0    0    0    0    0    0    0    0    0    0    0\n",
      "     0    0    0    0    0    0    0    0    0    0    0    0    0    0\n",
      "     0    0    0    0    0    0    0    0    0    0    0    0    0    0\n",
      "     0    0    0    0    0    0    0    0    0    0    0    0    0    0\n",
      "     0    0    0    0    0    0    0    0    0    0    0    0]]\n"
     ]
    }
   ],
   "source": [
    "encoded_sample = encoder(sample).numpy()[:3]\n",
    "print(encoded_sample)"
   ]
  },
  {
   "cell_type": "code",
   "execution_count": 14,
   "metadata": {},
   "outputs": [
    {
     "name": "stdout",
     "output_type": "stream",
     "text": [
      "Original:  b\"Bertrand Tavernier is in top form with this gripping, superbly mounted drama set against the savage Catholic/Protestant wars that ripped France apart in the 16th century. Based on a novella by the celebrated Madame de Lafayette, the action centers on the love of Marie de Mezi\\xc3\\xa8res for her dashing cousin Henri de Guise, thwarted when her father's political ambitions force her into marriage with the well-connected Philippe de Montpensier, whom she has never met. When Philippe is called away to fight, she is left in the care of Count Chabannes, an aging nobleman with a disdain for warfare, and soon becomes exposed to the sexual and political intrigues of court.\"\n",
      "Round-trip:  [UNK] [UNK] is in top form with this gripping [UNK] [UNK] drama set against the savage [UNK] wars that ripped france apart in the [UNK] century based on a novella by the celebrated madame de lafayette the action centers on the love of marie de [UNK] for her dashing cousin henri de guise thwarted when her fathers political ambitions force her into marriage with the [UNK] philippe de [UNK] whom she has never met when philippe is called away to fight she is left in the care of count [UNK] an aging nobleman with a [UNK] for warfare and soon becomes exposed to the sexual and political intrigues of court\n",
      "\n",
      "Original:  b'A pregnant peasant woman seeks redress from the Chinese bureaucracy after the village chief kicks her husband in the groin in this comedy of justice. As she is frustrated by each level of the hierarchy and travels farther and farther away from the countryside the viewer is also provided with a look at the changing Chinese society through the verite camera used in most scenes.'\n",
      "Round-trip:  a pregnant peasant woman seeks [UNK] from the chinese bureaucracy after the village chief kicks her husband in the groin in this comedy of justice as she is frustrated by each level of the [UNK] and travels [UNK] and [UNK] away from the countryside the viewer is also provided with a look at the changing chinese society through the [UNK] camera used in most scenes                                             \n",
      "\n",
      "Original:  b'Guilt-stricken after a job gone wrong, hitman Ray and his partner await orders from their ruthless boss in Bruges, Belgium, the last place in the world Ray wants to be.'\n",
      "Round-trip:  [UNK] after a job gone wrong hitman ray and his partner await orders from their ruthless boss in [UNK] belgium the last place in the world ray wants to be                                                                                \n",
      "\n"
     ]
    }
   ],
   "source": [
    "vocab = np.array(encoder.get_vocabulary())\n",
    "\n",
    "for n in range(3):\n",
    "  print(\"Original: \", sample[n].numpy())\n",
    "  print(\"Round-trip: \", \" \".join(vocab[encoded_sample[n]]))\n",
    "  print()"
   ]
  },
  {
   "cell_type": "code",
   "execution_count": 15,
   "metadata": {},
   "outputs": [],
   "source": [
    "model = tf.keras.Sequential(\n",
    "    [\n",
    "        encoder,\n",
    "        tf.keras.layers.Embedding(\n",
    "            input_dim=len(encoder.get_vocabulary()), output_dim=64, mask_zero=True\n",
    "        ),\n",
    "        tf.keras.layers.Bidirectional(tf.keras.layers.LSTM(64)),\n",
    "        tf.keras.layers.Dense(64, activation=\"relu\"),\n",
    "        tf.keras.layers.Dense(64, activation=\"relu\"),\n",
    "        tf.keras.layers.Dense(1),\n",
    "    ]\n",
    ")\n",
    "\n",
    "model.compile(\n",
    "    loss=tf.keras.losses.MeanSquaredError(),\n",
    "    optimizer=tf.keras.optimizers.Adam(0.1),\n",
    ")"
   ]
  },
  {
   "cell_type": "code",
   "execution_count": null,
   "metadata": {},
   "outputs": [
    {
     "name": "stdout",
     "output_type": "stream",
     "text": [
      "Epoch 1/100\n",
      "130/130 [==============================] - 26s 200ms/step - loss: 3951649890500608.0000 - val_loss: 819849127264256.0000\n",
      "Epoch 2/100\n",
      "130/130 [==============================] - 22s 170ms/step - loss: 3553005253165056.0000 - val_loss: 818209456390144.0000\n",
      "Epoch 3/100\n",
      "130/130 [==============================] - 22s 171ms/step - loss: 3486854435307520.0000 - val_loss: 801150383161344.0000\n",
      "Epoch 4/100\n",
      "130/130 [==============================] - 22s 171ms/step - loss: 3418136837619712.0000 - val_loss: 963662953054208.0000\n",
      "Epoch 5/100\n",
      "130/130 [==============================] - 22s 171ms/step - loss: 3362835912458240.0000 - val_loss: 906997838905344.0000\n",
      "Epoch 6/100\n",
      "130/130 [==============================] - 22s 170ms/step - loss: 3297144387665920.0000 - val_loss: 1016500043382784.0000\n",
      "Epoch 7/100\n",
      "130/130 [==============================] - 21s 165ms/step - loss: 3259862729359360.0000 - val_loss: 929762440642560.0000\n",
      "Epoch 8/100\n",
      "130/130 [==============================] - 23s 173ms/step - loss: 3224267651022848.0000 - val_loss: 957238957047808.0000\n",
      "Epoch 9/100\n",
      "130/130 [==============================] - 22s 169ms/step - loss: 3145956170137600.0000 - val_loss: 999842818031616.0000\n",
      "Epoch 10/100\n",
      "130/130 [==============================] - 22s 169ms/step - loss: 3113639225589760.0000 - val_loss: 982340624973824.0000\n",
      "Epoch 11/100\n",
      "130/130 [==============================] - 22s 166ms/step - loss: 3122715296792576.0000 - val_loss: 966053840551936.0000\n",
      "Epoch 12/100\n",
      "130/130 [==============================] - 22s 170ms/step - loss: 3063327441813504.0000 - val_loss: 971680046383104.0000\n",
      "Epoch 13/100\n",
      "130/130 [==============================] - 22s 166ms/step - loss: 3005147546386432.0000 - val_loss: 1257899686887424.0000\n",
      "Epoch 14/100\n",
      "130/130 [==============================] - 21s 165ms/step - loss: 3006026672504832.0000 - val_loss: 1096307515064320.0000\n",
      "Epoch 15/100\n",
      "130/130 [==============================] - 22s 170ms/step - loss: 2988588836847616.0000 - val_loss: 1241284471685120.0000\n",
      "Epoch 16/100\n",
      "130/130 [==============================] - 22s 169ms/step - loss: 2940533253079040.0000 - val_loss: 1108073443753984.0000\n",
      "Epoch 17/100\n",
      "130/130 [==============================] - 22s 168ms/step - loss: 2923663426846720.0000 - val_loss: 1235702356377600.0000\n",
      "Epoch 18/100\n",
      "130/130 [==============================] - 22s 170ms/step - loss: 2959079458734080.0000 - val_loss: 1313749830991872.0000\n",
      "Epoch 19/100\n",
      "130/130 [==============================] - 22s 170ms/step - loss: 2952048060399616.0000 - val_loss: 1253348229513216.0000\n",
      "Epoch 20/100\n",
      "130/130 [==============================] - 21s 165ms/step - loss: 2860457077506048.0000 - val_loss: 1114309736267776.0000\n",
      "Epoch 21/100\n",
      "130/130 [==============================] - 21s 165ms/step - loss: 2890315421712384.0000 - val_loss: 1345027930324992.0000\n",
      "Epoch 22/100\n",
      "130/130 [==============================] - 22s 169ms/step - loss: 2854204410429440.0000 - val_loss: 1200565094711296.0000\n",
      "Epoch 23/100\n",
      "130/130 [==============================] - 22s 166ms/step - loss: 2863958281158656.0000 - val_loss: 1245752311414784.0000\n",
      "Epoch 24/100\n",
      "130/130 [==============================] - 22s 167ms/step - loss: 2838324305723392.0000 - val_loss: 1145275041185792.0000\n",
      "Epoch 25/100\n",
      "130/130 [==============================] - 22s 170ms/step - loss: 2825505975828480.0000 - val_loss: 1242820190928896.0000\n",
      "Epoch 26/100\n",
      "130/130 [==============================] - 22s 172ms/step - loss: 2849156213243904.0000 - val_loss: 1251298859024384.0000\n",
      "Epoch 27/100\n",
      "130/130 [==============================] - 21s 165ms/step - loss: 2856675895672832.0000 - val_loss: 1285022942232576.0000\n",
      "Epoch 28/100\n",
      "130/130 [==============================] - 22s 166ms/step - loss: 2805025961148416.0000 - val_loss: 1434911126847488.0000\n",
      "Epoch 29/100\n",
      "130/130 [==============================] - 22s 171ms/step - loss: 2780653632356352.0000 - val_loss: 1213243703951360.0000\n",
      "Epoch 30/100\n",
      "130/130 [==============================] - 22s 169ms/step - loss: 2807671392567296.0000 - val_loss: 1251102632706048.0000\n",
      "Epoch 31/100\n",
      "130/130 [==============================] - 22s 167ms/step - loss: 2754498086830080.0000 - val_loss: 1304863677874176.0000\n",
      "Epoch 32/100\n",
      "130/130 [==============================] - 22s 169ms/step - loss: 2780907572297728.0000 - val_loss: 1289720160059392.0000\n",
      "Epoch 33/100\n",
      "130/130 [==============================] - 22s 166ms/step - loss: 2775591476527104.0000 - val_loss: 1265008260415488.0000\n",
      "Epoch 34/100\n",
      "130/130 [==============================] - 22s 167ms/step - loss: 2690529380794368.0000 - val_loss: 1500159330484224.0000\n",
      "Epoch 35/100\n",
      "130/130 [==============================] - 22s 166ms/step - loss: 2689771855937536.0000 - val_loss: 1501464463671296.0000\n",
      "Epoch 36/100\n",
      "130/130 [==============================] - 21s 163ms/step - loss: 2674213605343232.0000 - val_loss: 1388086990733312.0000\n",
      "Epoch 37/100\n",
      "130/130 [==============================] - 22s 169ms/step - loss: 2699208167522304.0000 - val_loss: 1646235731623936.0000\n",
      "Epoch 38/100\n",
      "130/130 [==============================] - 21s 165ms/step - loss: 2658558449549312.0000 - val_loss: 1658419077447680.0000\n",
      "Epoch 39/100\n",
      "130/130 [==============================] - 21s 164ms/step - loss: 2633819706359808.0000 - val_loss: 1838857498656768.0000\n",
      "Epoch 40/100\n",
      "130/130 [==============================] - 22s 168ms/step - loss: 2629577352413184.0000 - val_loss: 1579829631647744.0000\n",
      "Epoch 41/100\n",
      "130/130 [==============================] - 22s 172ms/step - loss: 2588807912226816.0000 - val_loss: 1770270763253760.0000\n",
      "Epoch 42/100\n",
      "130/130 [==============================] - 22s 172ms/step - loss: 2610326235250688.0000 - val_loss: 1671165466640384.0000\n",
      "Epoch 43/100\n",
      "130/130 [==============================] - 21s 163ms/step - loss: 2576632485249024.0000 - val_loss: 1663374664400896.0000\n",
      "Epoch 44/100\n",
      "130/130 [==============================] - 23s 174ms/step - loss: 2650759325810688.0000 - val_loss: 1594248373731328.0000\n",
      "Epoch 45/100\n",
      "130/130 [==============================] - 22s 169ms/step - loss: 2673105235345408.0000 - val_loss: 1468072703557632.0000\n",
      "Epoch 46/100\n",
      "130/130 [==============================] - 22s 168ms/step - loss: 2667631567962112.0000 - val_loss: 1375825530191872.0000\n",
      "Epoch 47/100\n",
      "130/130 [==============================] - 22s 170ms/step - loss: 2626331699314688.0000 - val_loss: 1466647982374912.0000\n",
      "Epoch 48/100\n",
      "130/130 [==============================] - 21s 162ms/step - loss: 2649460366639104.0000 - val_loss: 1499456700678144.0000\n",
      "Epoch 49/100\n",
      "130/130 [==============================] - 22s 168ms/step - loss: 2604947862454272.0000 - val_loss: 1511542872866816.0000\n",
      "Epoch 50/100\n",
      "130/130 [==============================] - 22s 171ms/step - loss: 2538569679765504.0000 - val_loss: 1545840602644480.0000\n",
      "Epoch 51/100\n",
      "130/130 [==============================] - 21s 165ms/step - loss: 2476057236078592.0000 - val_loss: 1369116925493248.0000\n",
      "Epoch 52/100\n",
      "130/130 [==============================] - 21s 165ms/step - loss: 2450477216169984.0000 - val_loss: 1411254849634304.0000\n",
      "Epoch 53/100\n",
      "130/130 [==============================] - 21s 164ms/step - loss: 2425318908362752.0000 - val_loss: 1583739662499840.0000\n",
      "Epoch 54/100\n",
      "130/130 [==============================] - 22s 169ms/step - loss: 2461254631292928.0000 - val_loss: 1574485484371968.0000\n",
      "Epoch 55/100\n",
      "130/130 [==============================] - 22s 170ms/step - loss: 2436461664141312.0000 - val_loss: 1519175566622720.0000\n",
      "Epoch 56/100\n",
      "130/130 [==============================] - 21s 165ms/step - loss: 2433431564713984.0000 - val_loss: 1676505990037504.0000\n",
      "Epoch 57/100\n",
      "130/130 [==============================] - 22s 167ms/step - loss: 2515350012821504.0000 - val_loss: 1908211422593024.0000\n",
      "Epoch 58/100\n",
      "130/130 [==============================] - 22s 166ms/step - loss: 2513972133625856.0000 - val_loss: 1707445323825152.0000\n",
      "Epoch 59/100\n",
      "130/130 [==============================] - 22s 168ms/step - loss: 2511546550845440.0000 - val_loss: 1719552433979392.0000\n",
      "Epoch 60/100\n",
      "130/130 [==============================] - 22s 169ms/step - loss: 2500469293318144.0000 - val_loss: 1662310854688768.0000\n",
      "Epoch 61/100\n",
      "130/130 [==============================] - 22s 167ms/step - loss: 2523216513859584.0000 - val_loss: 1532237635911680.0000\n",
      "Epoch 62/100\n",
      "130/130 [==============================] - 22s 171ms/step - loss: 2503208677146624.0000 - val_loss: 1671247339454464.0000\n",
      "Epoch 63/100\n",
      " 21/130 [===>..........................] - ETA: 16s - loss: 2510484620181504.0000"
     ]
    }
   ],
   "source": [
    "history = model.fit(\n",
    "    train_dataset, epochs=100, validation_data=test_dataset, validation_steps=len(test_data_in) // BATCH_SIZE\n",
    ")"
   ]
  },
  {
   "cell_type": "code",
   "execution_count": null,
   "metadata": {},
   "outputs": [],
   "source": [
    "res = model.evaluate(test_dataset)"
   ]
  },
  {
   "cell_type": "code",
   "execution_count": null,
   "metadata": {},
   "outputs": [],
   "source": [
    "sample_text = \"As a new threat to the galaxy rises, Rey, a desert scavenger, and Finn, an ex-stormtrooper, must join Han Solo and Chewbacca to search for the one hope of restoring peace.\"\n",
    "pred1 = model.predict(np.array([sample_text]))\n",
    "print(int(pred1[0]))"
   ]
  },
  {
   "cell_type": "code",
   "execution_count": null,
   "metadata": {},
   "outputs": [],
   "source": [
    "non_existant_film = \"Este is a friend of mine we meet up every tuesday night for dinner and a glass of wine. She thinks he did it but just cant prove it\"\n",
    "pred2 = model.predict(np.array([non_existant_film]))\n",
    "print(int(pred2[0]))"
   ]
  },
  {
   "cell_type": "code",
   "execution_count": null,
   "metadata": {},
   "outputs": [],
   "source": [
    "def confusion_plot(lab, pred, name, new_plot=False, save=False):\n",
    "    \"\"\"\n",
    "    lab = label\n",
    "    pred = prediction\n",
    "    \"\"\"\n",
    "    if new_plot:\n",
    "        plt.figure()\n",
    "    plt.scatter(lab, lab, label='truth', s=2, color='black')\n",
    "    plt.scatter(lab, pred, label=name, s=2)\n",
    "    handles, labels = plt.gca().get_legend_handles_labels()\n",
    "    by_label = dict(zip(labels, handles))\n",
    "    plt.legend(by_label.values(), by_label.keys())\n",
    "    plt.xlabel('Truth')\n",
    "    plt.ylabel('Prediction')\n",
    "    if save:\n",
    "        plt.savefig(f\"exp_{EXP_NUM}.png\", dpi=300)\n",
    "\n"
   ]
  },
  {
   "cell_type": "code",
   "execution_count": null,
   "metadata": {},
   "outputs": [],
   "source": [
    "test_predictions = model.predict(test_data_in)\n",
    "train_predictions = model.predict(train_data_in)\n",
    "confusion_plot(train_data_out, train_predictions, 'train')\n",
    "confusion_plot(test_data_out, test_predictions, 'test')\n",
    "plt.show()\n",
    "plt.savefig(\"exp_{EXP_NUM}.pdf\", dpi=300)"
   ]
  },
  {
   "cell_type": "code",
   "execution_count": null,
   "metadata": {},
   "outputs": [],
   "source": [
    "for min_words in [0, 10, 25, 50]:\n",
    "    data_in, data_out = split_data_into_input_and_output(clean_copy(raw_data, min_words))\n",
    "    predictions = model.predict(data_in)\n",
    "    confusion_plot(data_out, predictions, f'{min_words}')"
   ]
  },
  {
   "cell_type": "code",
   "execution_count": null,
   "metadata": {},
   "outputs": [],
   "source": [
    "plot_graphs(history,'loss')\n",
    "plt.savefig(\"exp_14_2.pdf\", dpi=300)"
   ]
  },
  {
   "cell_type": "code",
   "execution_count": null,
   "metadata": {},
   "outputs": [],
   "source": [
    "histories = dict()\n",
    "models = dict()\n",
    "experiment_cutoffs = [0,10,25,50]\n",
    "for min_words in experiment_cutoffs:\n",
    "    data = clean_copy(raw_data, min_words)\n",
    "    \n",
    "    # Fraction of overall data\n",
    "    training_fraction = 0.85\n",
    "    train_end = int(len(data) * training_fraction)\n",
    "    train_data_in, train_data_out = split_data_into_input_and_output(data[:train_end])\n",
    "    test_data_in, test_data_out = split_data_into_input_and_output(data[train_end:])\n",
    "    \n",
    "    # Make dataset objects\n",
    "    train_dataset = tf.data.Dataset.from_tensor_slices((train_data_in, train_data_out))\n",
    "    test_dataset = tf.data.Dataset.from_tensor_slices((test_data_in, test_data_out))\n",
    "\n",
    "    # Shuffle\n",
    "    # How much it loads into memory for sampling\n",
    "    BUFFER_SIZE = 10000\n",
    "    # Batch for gradient averaging\n",
    "    BATCH_SIZE = 64\n",
    "    # prefetch parrallelising loading + execution (not huge so not necessary)\n",
    "    train_dataset = train_dataset.shuffle(BUFFER_SIZE).batch(BATCH_SIZE).prefetch(5)\n",
    "    test_dataset = test_dataset.batch(BATCH_SIZE).prefetch(5)\n",
    "    \n",
    "    # Specify encoding of words\n",
    "    SUBSET_VOCAB_SIZE = 10000\n",
    "    encoder = tf.keras.layers.experimental.preprocessing.TextVectorization(\n",
    "        max_tokens=SUBSET_VOCAB_SIZE, ngrams=1\n",
    "    )\n",
    "    encoder.adapt(train_dataset.map(lambda text, label: text))\n",
    "    \n",
    "    # Specify overall architecture\n",
    "    models[min_words] = tf.keras.Sequential(\n",
    "    [\n",
    "        encoder,\n",
    "        tf.keras.layers.Embedding(\n",
    "            input_dim=len(encoder.get_vocabulary()), output_dim=64, mask_zero=True\n",
    "        ),\n",
    "        tf.keras.layers.Bidirectional(tf.keras.layers.LSTM(64)),\n",
    "        tf.keras.layers.Dense(64, activation=\"relu\"),\n",
    "        tf.keras.layers.Dense(64, activation=\"relu\"),\n",
    "        tf.keras.layers.Dense(1),\n",
    "    ]\n",
    "    )\n",
    "    models[min_words].compile(\n",
    "        loss=tf.keras.losses.MeanSquaredError(),\n",
    "        optimizer=tf.keras.optimizers.Adam(0.1),\n",
    "    )\n",
    "\n",
    "    # Train\n",
    "    histories[min_words] = models[min_words].fit(\n",
    "    train_dataset, epochs=100, validation_data=test_dataset, validation_steps=len(test_data_in) // BATCH_SIZE\n",
    "    )\n",
    "    \n",
    "    # Look at performance\n",
    "    pred = models[min_words].predict(train_data_in)\n",
    "    confusion_plot(train_data_out, pred, f'{min_words}')"
   ]
  },
  {
   "cell_type": "code",
   "execution_count": null,
   "metadata": {},
   "outputs": [],
   "source": [
    "for a in experiment_cutoffs:\n",
    "    plot_graphs(histories[a],'loss')"
   ]
  },
  {
   "cell_type": "code",
   "execution_count": null,
   "metadata": {},
   "outputs": [],
   "source": []
  }
 ],
 "metadata": {
  "kernelspec": {
   "display_name": "Python3.8 | Tensorflow 2",
   "language": "python",
   "name": "tf2"
  },
  "language_info": {
   "codemirror_mode": {
    "name": "ipython",
    "version": 3
   },
   "file_extension": ".py",
   "mimetype": "text/x-python",
   "name": "python",
   "nbconvert_exporter": "python",
   "pygments_lexer": "ipython3",
   "version": "3.8.5"
  }
 },
 "nbformat": 4,
 "nbformat_minor": 2
}
