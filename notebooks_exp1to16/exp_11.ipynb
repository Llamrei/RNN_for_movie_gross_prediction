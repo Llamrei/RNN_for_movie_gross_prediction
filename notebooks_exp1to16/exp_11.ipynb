{
 "cells": [
  {
   "cell_type": "code",
   "execution_count": 1,
   "metadata": {},
   "outputs": [],
   "source": [
    "\"\"\"\n",
    "Follows https://www.tensorflow.org/tutorials/text/text_classification_rnn\n",
    "\"\"\"\n",
    "import pickle as pkl\n",
    "import numpy as np\n",
    "import random\n",
    "import re\n",
    "\n",
    "import tensorflow_datasets as tfds\n",
    "import tensorflow as tf\n",
    "\n",
    "import matplotlib.pyplot as plt"
   ]
  },
  {
   "cell_type": "code",
   "execution_count": 2,
   "metadata": {},
   "outputs": [
    {
     "data": {
      "text/plain": [
       "datetime.datetime(2020, 12, 16, 16, 42, 26, 850262)"
      ]
     },
     "execution_count": 2,
     "metadata": {},
     "output_type": "execute_result"
    }
   ],
   "source": [
    "from datetime import datetime\n",
    "datetime.now()"
   ]
  },
  {
   "cell_type": "code",
   "execution_count": 3,
   "metadata": {},
   "outputs": [],
   "source": [
    "def plot_graphs(history, metric):\n",
    "    plt.plot(history.history[metric])\n",
    "    plt.plot(history.history[\"val_\" + metric], \"\")\n",
    "    plt.xlabel(\"Epochs\")\n",
    "    plt.ylabel(metric)\n",
    "    plt.legend([metric, \"val_\" + metric])\n"
   ]
  },
  {
   "cell_type": "code",
   "execution_count": 4,
   "metadata": {},
   "outputs": [],
   "source": [
    "def split_data_into_input_and_output(data):\n",
    "    \"\"\"Take given data of format from scraper [link] and return the inputs and outputs seperated.\n",
    "\n",
    "    Args:\n",
    "        data (list): A numpy array/list of named tuples which contains entries for 'gross',\n",
    "        'title', 'synopsis' and 'year'.\n",
    "    \"\"\"\n",
    "    data_in, data_out = list(zip(*[((x[\"synopsis\"]), x[\"gross\"]) for x in data]))\n",
    "    return np.array(data_in), np.array(data_out)"
   ]
  },
  {
   "cell_type": "code",
   "execution_count": 5,
   "metadata": {},
   "outputs": [],
   "source": [
    "def add_signal(data):\n",
    "    \"\"\"\n",
    "    If the given data has no signal we cant fit a NN to it. As such, here we append how much the film grossed\n",
    "    into the synopsis of each title.\n",
    "\n",
    "    Args:\n",
    "        data (list): A numpy array/list of named tuples which contains entries for 'gross',\n",
    "        'title', 'synopsis' and 'year'.\n",
    "    \"\"\"\n",
    "    for row in data:\n",
    "        row[\"synopsis\"] = row[\"synopsis\"] + f' The film grossed ${row[\"gross\"]}'"
   ]
  },
  {
   "cell_type": "code",
   "execution_count": 6,
   "metadata": {},
   "outputs": [],
   "source": [
    "real_data = pkl.load(open(\"complete10000_films_and_synopsis.pickle\", \"rb\"))\n",
    "np.random.shuffle(real_data[1000:])\n",
    "data = real_data[:1000]\n",
    "np.random.shuffle(data)"
   ]
  },
  {
   "cell_type": "code",
   "execution_count": 7,
   "metadata": {},
   "outputs": [],
   "source": [
    "# Fraction of overall data\n",
    "training_fraction = 0.85\n",
    "\n",
    "train_end = int(len(data) * training_fraction)\n",
    "train_data_in, train_data_out = split_data_into_input_and_output(data[:train_end])\n",
    "test_data_in, test_data_out = split_data_into_input_and_output(data[train_end:])\n",
    "\n",
    "train_dataset = tf.data.Dataset.from_tensor_slices((train_data_in, train_data_out))\n",
    "test_dataset = tf.data.Dataset.from_tensor_slices((test_data_in, test_data_out))\n",
    "\n",
    "\n",
    "# How much it loads into memory for sampling\n",
    "BUFFER_SIZE = 10000\n",
    "# Batch for gradient averaging\n",
    "BATCH_SIZE = 64\n",
    "# prefetch parrallelising loading + execution (not huge so not necessary)\n",
    "\n",
    "train_dataset = train_dataset.shuffle(BUFFER_SIZE).batch(BATCH_SIZE).prefetch(5)\n",
    "test_dataset = test_dataset.batch(BATCH_SIZE).prefetch(5)"
   ]
  },
  {
   "cell_type": "code",
   "execution_count": 8,
   "metadata": {},
   "outputs": [],
   "source": [
    "sample, label = next(iter(train_dataset.take(1)))"
   ]
  },
  {
   "cell_type": "code",
   "execution_count": 9,
   "metadata": {},
   "outputs": [],
   "source": [
    "VOCAB_SIZE = 10000\n",
    "encoder = tf.keras.layers.experimental.preprocessing.TextVectorization(\n",
    "    max_tokens=VOCAB_SIZE, ngrams=1\n",
    ")\n"
   ]
  },
  {
   "cell_type": "code",
   "execution_count": 10,
   "metadata": {},
   "outputs": [],
   "source": [
    "encoder.adapt(train_dataset.map(lambda text, label: text))"
   ]
  },
  {
   "cell_type": "code",
   "execution_count": 11,
   "metadata": {},
   "outputs": [
    {
     "name": "stdout",
     "output_type": "stream",
     "text": [
      "[[ 503   79   22    3  877  173    6   13  440  124    2 4466    5    8\n",
      "    90  857    2  718    5  918  771   14    2 2755 3291   28   13   60\n",
      "    52   26   81    3  666    6    3 4465 1502 1953 5169    0]\n",
      " [1632  664  170 3730  340 3170    4 4378    8 4960   80  409    4   23\n",
      "  1759    6 2815    0    0    0    0    0    0    0    0    0    0    0\n",
      "     0    0    0    0    0    0    0    0    0    0    0    0]\n",
      " [   2  120  245  838  423  353    6    3  121  138 3883 2559    4  318\n",
      "     2 4559 1335  378   13   87   98   53    3   29   14    3 2095    0\n",
      "     0    0    0    0    0    0    0    0    0    0    0    0]]\n"
     ]
    }
   ],
   "source": [
    "encoded_sample = encoder(sample).numpy()[:3]\n",
    "print(encoded_sample)"
   ]
  },
  {
   "cell_type": "code",
   "execution_count": 12,
   "metadata": {},
   "outputs": [
    {
     "name": "stdout",
     "output_type": "stream",
     "text": [
      "Original:  b\"Twelve years after the tragic death of their little girl, a doll-maker and his wife welcome a nun and several girls from a shuttered orphanage into their home, where they become the target of the doll-maker's possessed creation, Annabelle.\"\n",
      "Round-trip:  twelve years after the tragic death of their little girl a dollmaker and his wife welcome a nun and several girls from a shuttered orphanage into their home where they become the target of the dollmakers possessed creation annabelle \n",
      "\n",
      "Original:  b'Maverick teacher John Keating uses poetry to embolden his boarding school students to new heights of self-expression.'\n",
      "Round-trip:  maverick teacher john keating uses poetry to embolden his boarding school students to new heights of selfexpression                       \n",
      "\n",
      "Original:  b'A secret government agency recruits some of the most dangerous incarcerated super-villains to form a defensive task force. Their first mission: save the world from the apocalypse.'\n",
      "Round-trip:  a secret government agency recruits some of the most dangerous incarcerated supervillains to form a defensive task force their first mission save the world from the apocalypse             \n",
      "\n"
     ]
    }
   ],
   "source": [
    "vocab = np.array(encoder.get_vocabulary())\n",
    "\n",
    "for n in range(3):\n",
    "  print(\"Original: \", sample[n].numpy())\n",
    "  print(\"Round-trip: \", \" \".join(vocab[encoded_sample[n]]))\n",
    "  print()"
   ]
  },
  {
   "cell_type": "code",
   "execution_count": 13,
   "metadata": {},
   "outputs": [],
   "source": [
    "model = tf.keras.Sequential(\n",
    "    [\n",
    "        encoder,\n",
    "        tf.keras.layers.Embedding(\n",
    "            input_dim=len(encoder.get_vocabulary()), output_dim=64, mask_zero=True\n",
    "        ),\n",
    "        tf.keras.layers.Bidirectional(tf.keras.layers.LSTM(64)),\n",
    "        tf.keras.layers.Dense(64, activation=\"relu\"),\n",
    "        tf.keras.layers.Dense(1),\n",
    "    ]\n",
    ")\n",
    "\n",
    "model.compile(\n",
    "    loss=tf.keras.losses.MeanSquaredError(),\n",
    "    optimizer=tf.keras.optimizers.Adam(0.1),\n",
    ")"
   ]
  },
  {
   "cell_type": "code",
   "execution_count": 14,
   "metadata": {},
   "outputs": [
    {
     "name": "stdout",
     "output_type": "stream",
     "text": [
      "Epoch 1/100\n",
      "14/14 [==============================] - 1s 58ms/step - loss: 36875794634506240.0000\n",
      "Epoch 2/100\n",
      "14/14 [==============================] - 1s 61ms/step - loss: 36872620653674496.0000\n",
      "Epoch 3/100\n",
      "14/14 [==============================] - 1s 59ms/step - loss: 36863523912941568.0000\n",
      "Epoch 4/100\n",
      "14/14 [==============================] - 1s 60ms/step - loss: 36842908069920768.0000\n",
      "Epoch 5/100\n",
      "14/14 [==============================] - 1s 63ms/step - loss: 36802509607534592.0000\n",
      "Epoch 6/100\n",
      "14/14 [==============================] - 1s 58ms/step - loss: 36733167360540672.0000\n",
      "Epoch 7/100\n",
      "14/14 [==============================] - 1s 55ms/step - loss: 36629955001450496.0000\n",
      "Epoch 8/100\n",
      "14/14 [==============================] - 1s 57ms/step - loss: 36495097323323392.0000\n",
      "Epoch 9/100\n",
      "14/14 [==============================] - 1s 61ms/step - loss: 36326618641203200.0000\n",
      "Epoch 10/100\n",
      "14/14 [==============================] - 1s 58ms/step - loss: 36129234829180928.0000\n",
      "Epoch 11/100\n",
      "14/14 [==============================] - 1s 62ms/step - loss: 35901927980007424.0000\n",
      "Epoch 12/100\n",
      "14/14 [==============================] - 1s 58ms/step - loss: 35647745372979200.0000\n",
      "Epoch 13/100\n",
      "14/14 [==============================] - 1s 59ms/step - loss: 35368853819097088.0000\n",
      "Epoch 14/100\n",
      "14/14 [==============================] - 1s 57ms/step - loss: 35061626218479616.0000\n",
      "Epoch 15/100\n",
      "14/14 [==============================] - 1s 61ms/step - loss: 34730881524432896.0000\n",
      "Epoch 16/100\n",
      "14/14 [==============================] - 1s 59ms/step - loss: 34382615511302144.0000\n",
      "Epoch 17/100\n",
      "14/14 [==============================] - 1s 59ms/step - loss: 34004606849646592.0000\n",
      "Epoch 18/100\n",
      "14/14 [==============================] - 1s 60ms/step - loss: 33615016808677376.0000\n",
      "Epoch 19/100\n",
      "14/14 [==============================] - 1s 64ms/step - loss: 33201248249315328.0000\n",
      "Epoch 20/100\n",
      "14/14 [==============================] - 1s 59ms/step - loss: 32769956223385600.0000\n",
      "Epoch 21/100\n",
      "14/14 [==============================] - 1s 58ms/step - loss: 32326563127099392.0000\n",
      "Epoch 22/100\n",
      "14/14 [==============================] - 1s 60ms/step - loss: 31849613451329536.0000\n",
      "Epoch 23/100\n",
      "14/14 [==============================] - 1s 58ms/step - loss: 31379142733725696.0000\n",
      "Epoch 24/100\n",
      "14/14 [==============================] - 1s 59ms/step - loss: 30885623074127872.0000\n",
      "Epoch 25/100\n",
      "14/14 [==============================] - 1s 58ms/step - loss: 30376755348897792.0000\n",
      "Epoch 26/100\n",
      "14/14 [==============================] - 1s 61ms/step - loss: 29866601280962560.0000\n",
      "Epoch 27/100\n",
      "14/14 [==============================] - 1s 56ms/step - loss: 29338520019533824.0000\n",
      "Epoch 28/100\n",
      "14/14 [==============================] - 1s 58ms/step - loss: 28806100841136128.0000\n",
      "Epoch 29/100\n",
      "14/14 [==============================] - 1s 63ms/step - loss: 28256729426821120.0000\n",
      "Epoch 30/100\n",
      "14/14 [==============================] - 1s 61ms/step - loss: 27709091031810048.0000\n",
      "Epoch 31/100\n",
      "14/14 [==============================] - 1s 61ms/step - loss: 27158476224462848.0000\n",
      "Epoch 32/100\n",
      "14/14 [==============================] - 1s 59ms/step - loss: 26607073290616832.0000\n",
      "Epoch 33/100\n",
      "14/14 [==============================] - 1s 58ms/step - loss: 26054240132661248.0000\n",
      "Epoch 34/100\n",
      "14/14 [==============================] - 1s 58ms/step - loss: 25496435550060544.0000\n",
      "Epoch 35/100\n",
      "14/14 [==============================] - 1s 57ms/step - loss: 24947497927442432.0000\n",
      "Epoch 36/100\n",
      "14/14 [==============================] - 1s 58ms/step - loss: 24389931715526656.0000\n",
      "Epoch 37/100\n",
      "14/14 [==============================] - 1s 61ms/step - loss: 23835389160587264.0000\n",
      "Epoch 38/100\n",
      "14/14 [==============================] - 1s 58ms/step - loss: 23290201044418560.0000\n",
      "Epoch 39/100\n",
      "14/14 [==============================] - 1s 58ms/step - loss: 22737954149498880.0000\n",
      "Epoch 40/100\n",
      "14/14 [==============================] - 1s 63ms/step - loss: 22203849196437504.0000\n",
      "Epoch 41/100\n",
      "14/14 [==============================] - 1s 60ms/step - loss: 21673051368194048.0000\n",
      "Epoch 42/100\n",
      "14/14 [==============================] - 1s 61ms/step - loss: 21153340998025216.0000\n",
      "Epoch 43/100\n",
      "14/14 [==============================] - 1s 55ms/step - loss: 20639615664783360.0000\n",
      "Epoch 44/100\n",
      "14/14 [==============================] - 1s 58ms/step - loss: 20132934077906944.0000\n",
      "Epoch 45/100\n",
      "14/14 [==============================] - 1s 59ms/step - loss: 19639180342591488.0000\n",
      "Epoch 46/100\n",
      "14/14 [==============================] - 1s 65ms/step - loss: 19152865490632704.0000\n",
      "Epoch 47/100\n",
      "14/14 [==============================] - 1s 60ms/step - loss: 18685912351244288.0000\n",
      "Epoch 48/100\n",
      "14/14 [==============================] - 1s 56ms/step - loss: 18226632170930176.0000\n",
      "Epoch 49/100\n",
      "14/14 [==============================] - 1s 61ms/step - loss: 17793199103803392.0000\n",
      "Epoch 50/100\n",
      "14/14 [==============================] - 1s 59ms/step - loss: 17363909606375424.0000\n",
      "Epoch 51/100\n",
      "14/14 [==============================] - 1s 58ms/step - loss: 16946303493734400.0000\n",
      "Epoch 52/100\n",
      "14/14 [==============================] - 1s 60ms/step - loss: 16549566627184640.0000\n",
      "Epoch 53/100\n",
      "14/14 [==============================] - 1s 56ms/step - loss: 16168458072883200.0000\n",
      "Epoch 54/100\n",
      "14/14 [==============================] - 1s 59ms/step - loss: 15794469500616704.0000\n",
      "Epoch 55/100\n",
      "14/14 [==============================] - 1s 60ms/step - loss: 15440791828692992.0000\n",
      "Epoch 56/100\n",
      "14/14 [==============================] - 1s 56ms/step - loss: 15091668969586688.0000\n",
      "Epoch 57/100\n",
      "14/14 [==============================] - 1s 58ms/step - loss: 14754617116065792.0000\n",
      "Epoch 58/100\n",
      "14/14 [==============================] - 1s 58ms/step - loss: 14442422385770496.0000\n",
      "Epoch 59/100\n",
      "14/14 [==============================] - 1s 62ms/step - loss: 14136811840339968.0000\n",
      "Epoch 60/100\n",
      "14/14 [==============================] - 1s 60ms/step - loss: 13862663004094464.0000\n",
      "Epoch 61/100\n",
      "14/14 [==============================] - 1s 56ms/step - loss: 13601901580910592.0000\n",
      "Epoch 62/100\n",
      "14/14 [==============================] - 1s 57ms/step - loss: 13344454798737408.0000\n",
      "Epoch 63/100\n",
      "14/14 [==============================] - 1s 60ms/step - loss: 13107601311006720.0000\n",
      "Epoch 64/100\n",
      "14/14 [==============================] - 1s 58ms/step - loss: 12872713844555776.0000\n",
      "Epoch 65/100\n",
      "14/14 [==============================] - 1s 59ms/step - loss: 12665244375580672.0000\n",
      "Epoch 66/100\n",
      "14/14 [==============================] - 1s 59ms/step - loss: 12464720942465024.0000\n",
      "Epoch 67/100\n",
      "14/14 [==============================] - 1s 58ms/step - loss: 12291035686240256.0000\n",
      "Epoch 68/100\n",
      "14/14 [==============================] - 1s 58ms/step - loss: 12119478586310656.0000\n",
      "Epoch 69/100\n",
      "14/14 [==============================] - 1s 59ms/step - loss: 11963148219187200.0000\n",
      "Epoch 70/100\n",
      "14/14 [==============================] - 1s 57ms/step - loss: 11817777534861312.0000\n",
      "Epoch 71/100\n",
      "14/14 [==============================] - 1s 57ms/step - loss: 11682830736162816.0000\n",
      "Epoch 72/100\n",
      "14/14 [==============================] - 1s 55ms/step - loss: 11572570335739904.0000\n",
      "Epoch 73/100\n",
      "14/14 [==============================] - 1s 58ms/step - loss: 11611571860013056.0000\n",
      "Epoch 74/100\n",
      "14/14 [==============================] - 1s 58ms/step - loss: 11748123902738432.0000\n",
      "Epoch 75/100\n",
      "14/14 [==============================] - 1s 60ms/step - loss: 11924909051609088.0000\n",
      "Epoch 76/100\n",
      "14/14 [==============================] - 1s 57ms/step - loss: 11741737286369280.0000\n",
      "Epoch 77/100\n",
      "14/14 [==============================] - 1s 56ms/step - loss: 11512664131895296.0000\n",
      "Epoch 78/100\n",
      "14/14 [==============================] - 1s 56ms/step - loss: 11406748090892288.0000\n",
      "Epoch 79/100\n",
      "14/14 [==============================] - 1s 58ms/step - loss: 11084927265144832.0000\n",
      "Epoch 80/100\n",
      "14/14 [==============================] - 1s 57ms/step - loss: 10801990925811712.0000\n",
      "Epoch 81/100\n",
      "14/14 [==============================] - 1s 60ms/step - loss: 10534919121928192.0000\n",
      "Epoch 82/100\n",
      "14/14 [==============================] - 1s 57ms/step - loss: 10249430498279424.0000\n",
      "Epoch 83/100\n",
      "14/14 [==============================] - 1s 62ms/step - loss: 10056286892720128.0000\n",
      "Epoch 84/100\n",
      "14/14 [==============================] - 1s 61ms/step - loss: 9829626436124672.0000\n",
      "Epoch 85/100\n",
      "14/14 [==============================] - 1s 56ms/step - loss: 9643514765770752.0000\n",
      "Epoch 86/100\n",
      "14/14 [==============================] - 1s 59ms/step - loss: 9441566477254656.0000\n",
      "Epoch 87/100\n",
      "14/14 [==============================] - 1s 58ms/step - loss: 9276334790410240.0000\n",
      "Epoch 88/100\n",
      "14/14 [==============================] - 1s 61ms/step - loss: 9085938890178560.0000\n",
      "Epoch 89/100\n",
      "14/14 [==============================] - 1s 59ms/step - loss: 8902663508852736.0000\n",
      "Epoch 90/100\n",
      "14/14 [==============================] - 1s 60ms/step - loss: 8763259070971904.0000\n",
      "Epoch 91/100\n",
      "14/14 [==============================] - 1s 61ms/step - loss: 8607042520481792.0000\n",
      "Epoch 92/100\n",
      "14/14 [==============================] - 1s 60ms/step - loss: 8486810816610304.0000\n",
      "Epoch 93/100\n",
      "14/14 [==============================] - 1s 63ms/step - loss: 8274061222215680.0000\n",
      "Epoch 94/100\n",
      "14/14 [==============================] - 1s 58ms/step - loss: 8149514686824448.0000\n",
      "Epoch 95/100\n",
      "14/14 [==============================] - 1s 58ms/step - loss: 8045838471266304.0000\n",
      "Epoch 96/100\n",
      "14/14 [==============================] - 1s 59ms/step - loss: 7937002926243840.0000\n",
      "Epoch 97/100\n",
      "14/14 [==============================] - 1s 59ms/step - loss: 7819698242584576.0000\n",
      "Epoch 98/100\n",
      "14/14 [==============================] - 1s 60ms/step - loss: 7696190552408064.0000\n",
      "Epoch 99/100\n",
      "14/14 [==============================] - 1s 58ms/step - loss: 7586489034604544.0000\n",
      "Epoch 100/100\n",
      "14/14 [==============================] - 1s 58ms/step - loss: 7471638924754944.0000\n"
     ]
    }
   ],
   "source": [
    "history = model.fit(\n",
    "    train_dataset, epochs=100\n",
    ")"
   ]
  },
  {
   "cell_type": "code",
   "execution_count": 15,
   "metadata": {},
   "outputs": [
    {
     "name": "stdout",
     "output_type": "stream",
     "text": [
      "3/3 [==============================] - 0s 15ms/step - loss: 8271156750581760.0000\n"
     ]
    }
   ],
   "source": [
    "res = model.evaluate(test_dataset)"
   ]
  },
  {
   "cell_type": "code",
   "execution_count": 16,
   "metadata": {},
   "outputs": [
    {
     "name": "stdout",
     "output_type": "stream",
     "text": [
      "183644944\n"
     ]
    }
   ],
   "source": [
    "sample_text = \"As a new threat to the galaxy rises, Rey, a desert scavenger, and Finn, an ex-stormtrooper, must join Han Solo and Chewbacca to search for the one hope of restoring peace.\"\n",
    "pred1 = model.predict(np.array([sample_text]))\n",
    "print(int(pred1[0]))"
   ]
  },
  {
   "cell_type": "code",
   "execution_count": 17,
   "metadata": {},
   "outputs": [
    {
     "name": "stdout",
     "output_type": "stream",
     "text": [
      "145494448\n"
     ]
    }
   ],
   "source": [
    "non_existant_film = \"Este is a friend of mine we meet up every tuesday night for dinner and a glass of wine. She thinks he did it but just cant prove it\"\n",
    "pred2 = model.predict(np.array([non_existant_film]))\n",
    "print(int(pred2[0]))"
   ]
  },
  {
   "cell_type": "code",
   "execution_count": 18,
   "metadata": {},
   "outputs": [
    {
     "data": {
      "image/png": "[encoded data removed]",
      "text/plain": [
       "<Figure size 432x288 with 1 Axes>"
      ]
     },
     "metadata": {
      "needs_background": "light"
     },
     "output_type": "display_data"
    }
   ],
   "source": [
    "test_predictions = model.predict(test_data_in)\n",
    "train_predictions = model.predict(train_data_in)\n",
    "plt.scatter(train_data_out, train_predictions, label='train', s=2)\n",
    "plt.scatter(test_data_out, test_predictions, label='test', s=2)\n",
    "plt.scatter(real_data['gross'], real_data['gross'], label='truths', s=1)\n",
    "plt.legend()\n",
    "plt.xlabel('Truth')\n",
    "plt.ylabel('Prediction')\n",
    "plt.show()"
   ]
  },
  {
   "cell_type": "code",
   "execution_count": null,
   "metadata": {},
   "outputs": [],
   "source": []
  }
 ],
 "metadata": {
  "kernelspec": {
   "display_name": "Python3.8 | Tensorflow 2",
   "language": "python",
   "name": "tf2"
  },
  "language_info": {
   "codemirror_mode": {
    "name": "ipython",
    "version": 3
   },
   "file_extension": ".py",
   "mimetype": "text/x-python",
   "name": "python",
   "nbconvert_exporter": "python",
   "pygments_lexer": "ipython3",
   "version": "3.8.5"
  }
 },
 "nbformat": 4,
 "nbformat_minor": 2
}
