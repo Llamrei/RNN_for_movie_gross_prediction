{
 "cells": [
  {
   "cell_type": "code",
   "execution_count": 1,
   "metadata": {},
   "outputs": [],
   "source": [
    "\"\"\"\n",
    "Follows https://www.tensorflow.org/tutorials/text/text_classification_rnn\n",
    "\"\"\"\n",
    "import pickle as pkl\n",
    "import numpy as np\n",
    "import random\n",
    "import re\n",
    "\n",
    "import tensorflow_datasets as tfds\n",
    "import tensorflow as tf\n",
    "\n",
    "import matplotlib.pyplot as plt"
   ]
  },
  {
   "cell_type": "code",
   "execution_count": 2,
   "metadata": {},
   "outputs": [
    {
     "data": {
      "text/plain": [
       "datetime.datetime(2020, 12, 16, 16, 47, 26, 974355)"
      ]
     },
     "execution_count": 2,
     "metadata": {},
     "output_type": "execute_result"
    }
   ],
   "source": [
    "from datetime import datetime\n",
    "datetime.now()"
   ]
  },
  {
   "cell_type": "code",
   "execution_count": 3,
   "metadata": {},
   "outputs": [],
   "source": [
    "def plot_graphs(history, metric):\n",
    "    plt.plot(history.history[metric])\n",
    "    plt.plot(history.history[\"val_\" + metric], \"\")\n",
    "    plt.xlabel(\"Epochs\")\n",
    "    plt.ylabel(metric)\n",
    "    plt.legend([metric, \"val_\" + metric])\n"
   ]
  },
  {
   "cell_type": "code",
   "execution_count": 4,
   "metadata": {},
   "outputs": [],
   "source": [
    "def split_data_into_input_and_output(data):\n",
    "    \"\"\"Take given data of format from scraper [link] and return the inputs and outputs seperated.\n",
    "\n",
    "    Args:\n",
    "        data (list): A numpy array/list of named tuples which contains entries for 'gross',\n",
    "        'title', 'synopsis' and 'year'.\n",
    "    \"\"\"\n",
    "    data_in, data_out = list(zip(*[((x[\"synopsis\"]), x[\"gross\"]) for x in data]))\n",
    "    return np.array(data_in), np.array(data_out)"
   ]
  },
  {
   "cell_type": "code",
   "execution_count": 5,
   "metadata": {},
   "outputs": [],
   "source": [
    "def add_signal(data):\n",
    "    \"\"\"\n",
    "    If the given data has no signal we cant fit a NN to it. As such, here we append how much the film grossed\n",
    "    into the synopsis of each title.\n",
    "\n",
    "    Args:\n",
    "        data (list): A numpy array/list of named tuples which contains entries for 'gross',\n",
    "        'title', 'synopsis' and 'year'.\n",
    "    \"\"\"\n",
    "    for row in data:\n",
    "        row[\"synopsis\"] = row[\"synopsis\"] + f' The film grossed ${row[\"gross\"]}'"
   ]
  },
  {
   "cell_type": "code",
   "execution_count": 6,
   "metadata": {},
   "outputs": [],
   "source": [
    "real_data = pkl.load(open(\"complete10000_films_and_synopsis.pickle\", \"rb\"))\n",
    "np.random.shuffle(real_data[1000:])\n",
    "data = real_data[:1000]\n",
    "np.random.shuffle(data)"
   ]
  },
  {
   "cell_type": "code",
   "execution_count": 7,
   "metadata": {},
   "outputs": [],
   "source": [
    "# Fraction of overall data\n",
    "training_fraction = 0.85\n",
    "\n",
    "train_end = int(len(data) * training_fraction)\n",
    "train_data_in, train_data_out = split_data_into_input_and_output(data[:train_end])\n",
    "test_data_in, test_data_out = split_data_into_input_and_output(data[train_end:])\n",
    "\n",
    "train_dataset = tf.data.Dataset.from_tensor_slices((train_data_in, train_data_out))\n",
    "test_dataset = tf.data.Dataset.from_tensor_slices((test_data_in, test_data_out))\n",
    "\n",
    "\n",
    "# How much it loads into memory for sampling\n",
    "BUFFER_SIZE = 10000\n",
    "# Batch for gradient averaging\n",
    "BATCH_SIZE = 64\n",
    "# prefetch parrallelising loading + execution (not huge so not necessary)\n",
    "\n",
    "train_dataset = train_dataset.shuffle(BUFFER_SIZE).batch(BATCH_SIZE).prefetch(5)\n",
    "test_dataset = test_dataset.batch(BATCH_SIZE).prefetch(5)"
   ]
  },
  {
   "cell_type": "code",
   "execution_count": 8,
   "metadata": {},
   "outputs": [],
   "source": [
    "sample, label = next(iter(train_dataset.take(1)))"
   ]
  },
  {
   "cell_type": "code",
   "execution_count": 9,
   "metadata": {},
   "outputs": [],
   "source": [
    "VOCAB_SIZE = 10000\n",
    "encoder = tf.keras.layers.experimental.preprocessing.TextVectorization(\n",
    "    max_tokens=VOCAB_SIZE, ngrams=1\n",
    ")\n"
   ]
  },
  {
   "cell_type": "code",
   "execution_count": 10,
   "metadata": {},
   "outputs": [],
   "source": [
    "encoder.adapt(train_dataset.map(lambda text, label: text))"
   ]
  },
  {
   "cell_type": "code",
   "execution_count": 11,
   "metadata": {},
   "outputs": [
    {
     "name": "stdout",
     "output_type": "stream",
     "text": [
      "[[ 240 4035 3286   25  194    2 1147  494   15  487  608    4   24   73\n",
      "    65    4 1468    7   76  413    8    3 4620    6    2 2606  280  898\n",
      "    91 3197    3  269   26    2   24  380  481    0    0    0    0    0\n",
      "     0    0    0    0    0    0    0    0]\n",
      " [   2  270  356  364  353  760   42    3  726    6 3416  444  102   23\n",
      "     9  204  464  332    3  479    5 4291   12 4476    4  246    4   32\n",
      "     5  844  318    0    0    0    0    0    0    0    0    0    0    0\n",
      "     0    0    0    0    0    0    0    0]\n",
      " [   3  753   11 2786   64   16   99 3887    8    3 2031    6    3 3713\n",
      "  1993  588  281    5    7   24   40    4  100  519    4 1174   13 3318\n",
      "   993    0    0    0    0    0    0    0    0    0    0    0    0    0\n",
      "     0    0    0    0    0    0    0    0]]\n"
     ]
    }
   ],
   "source": [
    "encoded_sample = encoder(sample).numpy()[:3]\n",
    "print(encoded_sample)"
   ]
  },
  {
   "cell_type": "code",
   "execution_count": 12,
   "metadata": {},
   "outputs": [
    {
     "name": "stdout",
     "output_type": "stream",
     "text": [
      "Original:  b'Jack Hall, paleoclimatologist, must make a daring trek from Washington, D.C. to New York City to reach his son, trapped in the cross-hairs of a sudden international storm which plunges the planet into a new Ice Age.'\n",
      "Round-trip:  jack hall paleoclimatologist must make a daring trek from washington dc to new york city to reach his son trapped in the crosshairs of a sudden international storm which plunges the planet into a new ice age             \n",
      "\n",
      "Original:  b'A newly recruited night security guard at the Museum of Natural History discovers that an ancient curse causes the animals and exhibits on display to come to life and wreak havoc.'\n",
      "Round-trip:  a newly recruited night security guard at the museum of natural history discovers that an ancient curse causes the animals and exhibits on display to come to life and wreak havoc                   \n",
      "\n",
      "Original:  b\"The IMF is shut down when it's implicated in the bombing of the Kremlin, causing Ethan Hunt and his new team to go rogue to clear their organization's name.\"\n",
      "Round-trip:  the imf is shut down when its implicated in the bombing of the kremlin causing ethan hunt and his new team to go rogue to clear their organizations name                     \n",
      "\n"
     ]
    }
   ],
   "source": [
    "vocab = np.array(encoder.get_vocabulary())\n",
    "\n",
    "for n in range(3):\n",
    "  print(\"Original: \", sample[n].numpy())\n",
    "  print(\"Round-trip: \", \" \".join(vocab[encoded_sample[n]]))\n",
    "  print()"
   ]
  },
  {
   "cell_type": "code",
   "execution_count": 13,
   "metadata": {},
   "outputs": [],
   "source": [
    "model = tf.keras.Sequential(\n",
    "    [\n",
    "        encoder,\n",
    "        tf.keras.layers.Embedding(\n",
    "            input_dim=len(encoder.get_vocabulary()), output_dim=64, mask_zero=True\n",
    "        ),\n",
    "        tf.keras.layers.Bidirectional(tf.keras.layers.LSTM(64)),\n",
    "        tf.keras.layers.Dense(64, activation=\"relu\"),\n",
    "        tf.keras.layers.Dense(64, activation=\"relu\"),\n",
    "        tf.keras.layers.Dense(1),\n",
    "    ]\n",
    ")\n",
    "\n",
    "model.compile(\n",
    "    loss=tf.keras.losses.MeanSquaredError(),\n",
    "    optimizer=tf.keras.optimizers.Adam(0.1),\n",
    ")"
   ]
  },
  {
   "cell_type": "code",
   "execution_count": 14,
   "metadata": {},
   "outputs": [
    {
     "name": "stdout",
     "output_type": "stream",
     "text": [
      "Epoch 1/100\n",
      "14/14 [==============================] - 1s 64ms/step - loss: 36299981254033408.0000\n",
      "Epoch 2/100\n",
      "14/14 [==============================] - 1s 62ms/step - loss: 35960805539184640.0000\n",
      "Epoch 3/100\n",
      "14/14 [==============================] - 1s 66ms/step - loss: 33946805179777024.0000\n",
      "Epoch 4/100\n",
      "14/14 [==============================] - 1s 59ms/step - loss: 27844388944084992.0000\n",
      "Epoch 5/100\n",
      "14/14 [==============================] - 1s 57ms/step - loss: 17343214306459648.0000\n",
      "Epoch 6/100\n",
      "14/14 [==============================] - 1s 57ms/step - loss: 10389843716603904.0000\n",
      "Epoch 7/100\n",
      "14/14 [==============================] - 1s 57ms/step - loss: 10236691625279488.0000\n",
      "Epoch 8/100\n",
      "14/14 [==============================] - 1s 59ms/step - loss: 9616560624762880.0000\n",
      "Epoch 9/100\n",
      "14/14 [==============================] - 1s 59ms/step - loss: 7984552509177856.0000\n",
      "Epoch 10/100\n",
      "14/14 [==============================] - 1s 58ms/step - loss: 6579089959813120.0000\n",
      "Epoch 11/100\n",
      "14/14 [==============================] - 1s 56ms/step - loss: 5718183629553664.0000\n",
      "Epoch 12/100\n",
      "14/14 [==============================] - 1s 59ms/step - loss: 5132390355697664.0000\n",
      "Epoch 13/100\n",
      "14/14 [==============================] - 1s 62ms/step - loss: 4900817530257408.0000\n",
      "Epoch 14/100\n",
      "14/14 [==============================] - 1s 57ms/step - loss: 4313336602689536.0000\n",
      "Epoch 15/100\n",
      "14/14 [==============================] - 1s 57ms/step - loss: 4111302683262976.0000\n",
      "Epoch 16/100\n",
      "14/14 [==============================] - 1s 56ms/step - loss: 3864399508930560.0000\n",
      "Epoch 17/100\n",
      "14/14 [==============================] - 1s 60ms/step - loss: 3768245660155904.0000\n",
      "Epoch 18/100\n",
      "14/14 [==============================] - 1s 56ms/step - loss: 3279550859444224.0000\n",
      "Epoch 19/100\n",
      "14/14 [==============================] - 1s 56ms/step - loss: 3176179854999552.0000\n",
      "Epoch 20/100\n",
      "14/14 [==============================] - 1s 54ms/step - loss: 3094195371769856.0000\n",
      "Epoch 21/100\n",
      "14/14 [==============================] - 1s 58ms/step - loss: 2829148644966400.0000\n",
      "Epoch 22/100\n",
      "14/14 [==============================] - 1s 56ms/step - loss: 2647094644965376.0000\n",
      "Epoch 23/100\n",
      "14/14 [==============================] - 1s 53ms/step - loss: 2452908972965888.0000\n",
      "Epoch 24/100\n",
      "14/14 [==============================] - 1s 56ms/step - loss: 2370829732020224.0000\n",
      "Epoch 25/100\n",
      "14/14 [==============================] - 1s 56ms/step - loss: 2271935157239808.0000\n",
      "Epoch 26/100\n",
      "14/14 [==============================] - 1s 57ms/step - loss: 2203403987976192.0000\n",
      "Epoch 27/100\n",
      "14/14 [==============================] - 1s 56ms/step - loss: 2135391704449024.0000\n",
      "Epoch 28/100\n",
      "14/14 [==============================] - 1s 54ms/step - loss: 1959604464386048.0000\n",
      "Epoch 29/100\n",
      "14/14 [==============================] - 1s 57ms/step - loss: 1768335880486912.0000\n",
      "Epoch 30/100\n",
      "14/14 [==============================] - 1s 57ms/step - loss: 1739356930834432.0000\n",
      "Epoch 31/100\n",
      "14/14 [==============================] - 1s 56ms/step - loss: 1634363905146880.0000\n",
      "Epoch 32/100\n",
      "14/14 [==============================] - 1s 56ms/step - loss: 1644824834867200.0000\n",
      "Epoch 33/100\n",
      "14/14 [==============================] - 1s 54ms/step - loss: 1604611458727936.0000\n",
      "Epoch 34/100\n",
      "14/14 [==============================] - 1s 56ms/step - loss: 1590224123592704.0000\n",
      "Epoch 35/100\n",
      "14/14 [==============================] - 1s 55ms/step - loss: 1540903940390912.0000\n",
      "Epoch 36/100\n",
      "14/14 [==============================] - 1s 60ms/step - loss: 1440341844557824.0000\n",
      "Epoch 37/100\n",
      "14/14 [==============================] - 1s 59ms/step - loss: 1502090723590144.0000\n",
      "Epoch 38/100\n",
      "14/14 [==============================] - 1s 57ms/step - loss: 1503906689449984.0000\n",
      "Epoch 39/100\n",
      "14/14 [==============================] - 1s 55ms/step - loss: 1372658931335168.0000\n",
      "Epoch 40/100\n",
      "14/14 [==============================] - 1s 56ms/step - loss: 1488106846945280.0000\n",
      "Epoch 41/100\n",
      "14/14 [==============================] - 1s 56ms/step - loss: 1438352603611136.0000\n",
      "Epoch 42/100\n",
      "14/14 [==============================] - 1s 54ms/step - loss: 1336450880634880.0000\n",
      "Epoch 43/100\n",
      "14/14 [==============================] - 1s 54ms/step - loss: 1345040278355968.0000\n",
      "Epoch 44/100\n",
      "14/14 [==============================] - 1s 56ms/step - loss: 1208941220462592.0000\n",
      "Epoch 45/100\n",
      "14/14 [==============================] - 1s 58ms/step - loss: 1133950017732608.0000\n",
      "Epoch 46/100\n",
      "14/14 [==============================] - 1s 53ms/step - loss: 1131134398234624.0000\n",
      "Epoch 47/100\n",
      "14/14 [==============================] - 1s 55ms/step - loss: 1132884731625472.0000\n",
      "Epoch 48/100\n",
      "14/14 [==============================] - 1s 53ms/step - loss: 1092825974308864.0000\n",
      "Epoch 49/100\n",
      "14/14 [==============================] - 1s 54ms/step - loss: 994524507668480.0000\n",
      "Epoch 50/100\n",
      "14/14 [==============================] - 1s 55ms/step - loss: 914778910359552.0000\n",
      "Epoch 51/100\n",
      "14/14 [==============================] - 1s 53ms/step - loss: 1007269890228224.0000\n",
      "Epoch 52/100\n",
      "14/14 [==============================] - 1s 55ms/step - loss: 934999951933440.0000\n",
      "Epoch 53/100\n",
      "14/14 [==============================] - 1s 54ms/step - loss: 1021994246078464.0000\n",
      "Epoch 54/100\n",
      "14/14 [==============================] - 1s 56ms/step - loss: 1014868157136896.0000\n",
      "Epoch 55/100\n",
      "14/14 [==============================] - 1s 54ms/step - loss: 1010844846522368.0000\n",
      "Epoch 56/100\n",
      "14/14 [==============================] - 1s 57ms/step - loss: 958350212726784.0000\n",
      "Epoch 57/100\n",
      "14/14 [==============================] - 1s 55ms/step - loss: 962136763269120.0000\n",
      "Epoch 58/100\n",
      "14/14 [==============================] - 1s 55ms/step - loss: 918633979052032.0000\n",
      "Epoch 59/100\n",
      "14/14 [==============================] - 1s 54ms/step - loss: 847281553145856.0000\n",
      "Epoch 60/100\n",
      "14/14 [==============================] - 1s 56ms/step - loss: 832877172359168.0000\n",
      "Epoch 61/100\n",
      "14/14 [==============================] - 1s 60ms/step - loss: 809918424678400.0000\n",
      "Epoch 62/100\n",
      "14/14 [==============================] - 1s 54ms/step - loss: 815825078452224.0000\n",
      "Epoch 63/100\n",
      "14/14 [==============================] - 1s 56ms/step - loss: 764310569615360.0000\n",
      "Epoch 64/100\n",
      "14/14 [==============================] - 1s 57ms/step - loss: 828810710745088.0000\n",
      "Epoch 65/100\n",
      "14/14 [==============================] - 1s 52ms/step - loss: 813828321312768.0000\n",
      "Epoch 66/100\n",
      "14/14 [==============================] - 1s 54ms/step - loss: 869392514547712.0000\n",
      "Epoch 67/100\n",
      "14/14 [==============================] - 1s 59ms/step - loss: 886551177330688.0000\n",
      "Epoch 68/100\n",
      "14/14 [==============================] - 1s 53ms/step - loss: 896263977435136.0000\n",
      "Epoch 69/100\n",
      "14/14 [==============================] - 1s 53ms/step - loss: 944181786705920.0000\n",
      "Epoch 70/100\n",
      "14/14 [==============================] - 1s 57ms/step - loss: 877969832673280.0000\n",
      "Epoch 71/100\n",
      "14/14 [==============================] - 1s 54ms/step - loss: 840370011242496.0000\n",
      "Epoch 72/100\n",
      "14/14 [==============================] - 1s 57ms/step - loss: 766436578426880.0000\n",
      "Epoch 73/100\n",
      "14/14 [==============================] - 1s 58ms/step - loss: 812017657053184.0000\n",
      "Epoch 74/100\n",
      "14/14 [==============================] - 1s 53ms/step - loss: 781122749333504.0000\n",
      "Epoch 75/100\n",
      "14/14 [==============================] - 1s 54ms/step - loss: 741712532078592.0000\n",
      "Epoch 76/100\n",
      "14/14 [==============================] - 1s 54ms/step - loss: 717753728106496.0000\n",
      "Epoch 77/100\n",
      "14/14 [==============================] - 1s 54ms/step - loss: 748226990833664.0000\n",
      "Epoch 78/100\n",
      "14/14 [==============================] - 1s 55ms/step - loss: 697943996760064.0000\n",
      "Epoch 79/100\n",
      "14/14 [==============================] - 1s 54ms/step - loss: 655944518205440.0000\n",
      "Epoch 80/100\n",
      "14/14 [==============================] - 1s 55ms/step - loss: 609953068875776.0000\n",
      "Epoch 81/100\n",
      "14/14 [==============================] - 1s 52ms/step - loss: 594763380162560.0000\n",
      "Epoch 82/100\n",
      "14/14 [==============================] - 1s 53ms/step - loss: 678869174583296.0000\n",
      "Epoch 83/100\n",
      "14/14 [==============================] - 1s 55ms/step - loss: 691919499821056.0000\n",
      "Epoch 84/100\n",
      "14/14 [==============================] - 1s 54ms/step - loss: 716117010022400.0000\n",
      "Epoch 85/100\n",
      "14/14 [==============================] - 1s 53ms/step - loss: 737553393123328.0000\n",
      "Epoch 86/100\n",
      "14/14 [==============================] - 1s 57ms/step - loss: 861884374843392.0000\n",
      "Epoch 87/100\n",
      "14/14 [==============================] - 1s 50ms/step - loss: 782342452936704.0000\n",
      "Epoch 88/100\n",
      "14/14 [==============================] - 1s 60ms/step - loss: 783217955176448.0000\n",
      "Epoch 89/100\n",
      "14/14 [==============================] - 1s 53ms/step - loss: 689086163582976.0000\n",
      "Epoch 90/100\n",
      "14/14 [==============================] - 1s 52ms/step - loss: 716294781403136.0000\n",
      "Epoch 91/100\n",
      "14/14 [==============================] - 1s 54ms/step - loss: 824305625595904.0000\n",
      "Epoch 92/100\n",
      "14/14 [==============================] - 1s 53ms/step - loss: 910371804151808.0000\n",
      "Epoch 93/100\n",
      "14/14 [==============================] - 1s 55ms/step - loss: 960911556739072.0000\n",
      "Epoch 94/100\n",
      "14/14 [==============================] - 1s 52ms/step - loss: 919759931572224.0000\n",
      "Epoch 95/100\n",
      "14/14 [==============================] - 1s 55ms/step - loss: 942014170398720.0000\n",
      "Epoch 96/100\n",
      "14/14 [==============================] - 1s 53ms/step - loss: 960975779921920.0000\n",
      "Epoch 97/100\n",
      "14/14 [==============================] - 1s 55ms/step - loss: 950612560707584.0000\n",
      "Epoch 98/100\n",
      "14/14 [==============================] - 1s 57ms/step - loss: 907487733612544.0000\n",
      "Epoch 99/100\n",
      "14/14 [==============================] - 1s 55ms/step - loss: 857958841843712.0000\n",
      "Epoch 100/100\n",
      "14/14 [==============================] - 1s 57ms/step - loss: 924670287151104.0000\n"
     ]
    }
   ],
   "source": [
    "history = model.fit(\n",
    "    train_dataset, epochs=100\n",
    ")"
   ]
  },
  {
   "cell_type": "code",
   "execution_count": 15,
   "metadata": {},
   "outputs": [
    {
     "name": "stdout",
     "output_type": "stream",
     "text": [
      "3/3 [==============================] - 0s 14ms/step - loss: 30129829089116160.0000\n"
     ]
    }
   ],
   "source": [
    "res = model.evaluate(test_dataset)"
   ]
  },
  {
   "cell_type": "code",
   "execution_count": 16,
   "metadata": {},
   "outputs": [
    {
     "name": "stdout",
     "output_type": "stream",
     "text": [
      "803384320\n"
     ]
    }
   ],
   "source": [
    "sample_text = \"As a new threat to the galaxy rises, Rey, a desert scavenger, and Finn, an ex-stormtrooper, must join Han Solo and Chewbacca to search for the one hope of restoring peace.\"\n",
    "pred1 = model.predict(np.array([sample_text]))\n",
    "print(int(pred1[0]))"
   ]
  },
  {
   "cell_type": "code",
   "execution_count": 17,
   "metadata": {},
   "outputs": [
    {
     "name": "stdout",
     "output_type": "stream",
     "text": [
      "105748640\n"
     ]
    }
   ],
   "source": [
    "non_existant_film = \"Este is a friend of mine we meet up every tuesday night for dinner and a glass of wine. She thinks he did it but just cant prove it\"\n",
    "pred2 = model.predict(np.array([non_existant_film]))\n",
    "print(int(pred2[0]))"
   ]
  },
  {
   "cell_type": "code",
   "execution_count": 18,
   "metadata": {},
   "outputs": [
    {
     "data": {
      "image/png": "[encoded data removed]",
      "text/plain": [
       "<Figure size 432x288 with 1 Axes>"
      ]
     },
     "metadata": {
      "needs_background": "light"
     },
     "output_type": "display_data"
    }
   ],
   "source": [
    "test_predictions = model.predict(test_data_in)\n",
    "train_predictions = model.predict(train_data_in)\n",
    "plt.scatter(train_data_out, train_predictions, label='train', s=2)\n",
    "plt.scatter(test_data_out, test_predictions, label='test', s=2)\n",
    "plt.scatter(real_data['gross'], real_data['gross'], label='truths', s=1)\n",
    "plt.legend()\n",
    "plt.xlabel('Truth')\n",
    "plt.ylabel('Prediction')\n",
    "plt.show()"
   ]
  },
  {
   "cell_type": "code",
   "execution_count": 21,
   "metadata": {},
   "outputs": [
    {
     "data": {
      "image/png": "[encoded data removed]",
      "text/plain": [
       "<Figure size 432x288 with 1 Axes>"
      ]
     },
     "metadata": {
      "needs_background": "light"
     },
     "output_type": "display_data"
    }
   ],
   "source": [
    "train_predictions = model.predict(train_data_in)\n",
    "all_predictions = np.array([x for x in real_data if x['synopsis'] not in ])\n",
    "plt.scatter(train_data_out, train_predictions, label='train', s=2)\n",
    "plt.scatter(real_data['gross'], all_predictions, label='all', s=2)\n",
    "plt.scatter(real_data['gross'], real_data['gross'], label='truths', s=1)\n",
    "plt.legend()\n",
    "plt.xlabel('Truth')\n",
    "plt.ylabel('Prediction')\n",
    "plt.show()"
   ]
  },
  {
   "cell_type": "code",
   "execution_count": 22,
   "metadata": {},
   "outputs": [
    {
     "data": {
      "text/plain": [
       "'At a 1962 college, Dean Vernon Wormer is determined to expel the entire Delta Tau Chi Fraternity, but those troublemakers have other plans for him.'"
      ]
     },
     "execution_count": 22,
     "metadata": {},
     "output_type": "execute_result"
    }
   ],
   "source": [
    "train_data_in[0]"
   ]
  },
  {
   "cell_type": "code",
   "execution_count": null,
   "metadata": {},
   "outputs": [],
   "source": []
  }
 ],
 "metadata": {
  "kernelspec": {
   "display_name": "Python3.8 | Tensorflow 2",
   "language": "python",
   "name": "tf2"
  },
  "language_info": {
   "codemirror_mode": {
    "name": "ipython",
    "version": 3
   },
   "file_extension": ".py",
   "mimetype": "text/x-python",
   "name": "python",
   "nbconvert_exporter": "python",
   "pygments_lexer": "ipython3",
   "version": "3.8.5"
  }
 },
 "nbformat": 4,
 "nbformat_minor": 2
}
