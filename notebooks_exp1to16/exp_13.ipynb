{
 "cells": [
  {
   "cell_type": "code",
   "execution_count": 1,
   "metadata": {},
   "outputs": [],
   "source": [
    "\"\"\"\n",
    "Follows https://www.tensorflow.org/tutorials/text/text_classification_rnn\n",
    "\"\"\"\n",
    "import pickle as pkl\n",
    "import numpy as np\n",
    "import random\n",
    "import re\n",
    "\n",
    "import tensorflow_datasets as tfds\n",
    "import tensorflow as tf\n",
    "\n",
    "import matplotlib.pyplot as plt"
   ]
  },
  {
   "cell_type": "code",
   "execution_count": 2,
   "metadata": {},
   "outputs": [
    {
     "data": {
      "text/plain": [
       "datetime.datetime(2020, 12, 17, 2, 5, 25, 547120)"
      ]
     },
     "execution_count": 2,
     "metadata": {},
     "output_type": "execute_result"
    }
   ],
   "source": [
    "from datetime import datetime\n",
    "datetime.now()"
   ]
  },
  {
   "cell_type": "code",
   "execution_count": 3,
   "metadata": {},
   "outputs": [],
   "source": [
    "def plot_graphs(history, metric):\n",
    "    fig, ax1 = plt.subplots()\n",
    "\n",
    "    color = 'tab:red'\n",
    "    ax1.set_xlabel('Epochs')\n",
    "    ax1.set_ylabel(metric, color=color)\n",
    "    ax1.plot(history.history[metric], color=color)\n",
    "    ax1.tick_params(axis='y', labelcolor=color)\n",
    "\n",
    "    ax2 = ax1.twinx()  # instantiate a second axes that shares the same x-axis\n",
    "\n",
    "    color = 'tab:blue'\n",
    "    ax2.set_ylabel(\"val_\" + metric, color=color)  # we already handled the x-label with ax1\n",
    "    ax2.plot(history.history[\"val_\" + metric], color=color)\n",
    "    ax2.tick_params(axis='y', labelcolor=color)\n",
    "\n",
    "    fig.tight_layout()  # otherwise the right y-label is slightly clipped\n",
    "    plt.legend([metric, \"val_\" + metric])\n"
   ]
  },
  {
   "cell_type": "code",
   "execution_count": 4,
   "metadata": {},
   "outputs": [],
   "source": [
    "def split_data_into_input_and_output(data):\n",
    "    \"\"\"Take given data of format from scraper [link] and return the inputs and outputs seperated.\n",
    "\n",
    "    Args:\n",
    "        data (list): A numpy array/list of named tuples which contains entries for 'gross',\n",
    "        'title', 'synopsis' and 'year'.\n",
    "    \"\"\"\n",
    "    data_in, data_out = list(zip(*[((x[\"synopsis\"]), x[\"gross\"]) for x in data]))\n",
    "    return np.array(data_in), np.array(data_out)"
   ]
  },
  {
   "cell_type": "code",
   "execution_count": 5,
   "metadata": {},
   "outputs": [],
   "source": [
    "def add_signal(data):\n",
    "    \"\"\"\n",
    "    If the given data has no signal we cant fit a NN to it. As such, here we append how much the film grossed\n",
    "    into the synopsis of each title.\n",
    "\n",
    "    Args:\n",
    "        data (list): A numpy array/list of named tuples which contains entries for 'gross',\n",
    "        'title', 'synopsis' and 'year'.\n",
    "    \"\"\"\n",
    "    for row in data:\n",
    "        row[\"synopsis\"] = row[\"synopsis\"] + f' The film grossed ${row[\"gross\"]}'"
   ]
  },
  {
   "cell_type": "code",
   "execution_count": 6,
   "metadata": {},
   "outputs": [],
   "source": [
    "real_data = pkl.load(open(\"complete10000_films_and_synopsis.pickle\", \"rb\"))\n",
    "np.random.shuffle(real_data[500:])\n",
    "data = real_data"
   ]
  },
  {
   "cell_type": "code",
   "execution_count": 7,
   "metadata": {},
   "outputs": [],
   "source": [
    "# Fraction of overall data\n",
    "training_fraction = 0.1\n",
    "\n",
    "train_end = int(len(data) * training_fraction)\n",
    "train_data_in, train_data_out = split_data_into_input_and_output(data[:train_end])\n",
    "test_data_in, test_data_out = split_data_into_input_and_output(data[train_end:])\n",
    "\n",
    "train_dataset = tf.data.Dataset.from_tensor_slices((train_data_in, train_data_out))\n",
    "test_dataset = tf.data.Dataset.from_tensor_slices((test_data_in, test_data_out))\n",
    "\n",
    "\n",
    "# How much it loads into memory for sampling\n",
    "BUFFER_SIZE = 10000\n",
    "# Batch for gradient averaging\n",
    "BATCH_SIZE = 64\n",
    "# prefetch parrallelising loading + execution (not huge so not necessary)\n",
    "\n",
    "train_dataset = train_dataset.shuffle(BUFFER_SIZE).batch(BATCH_SIZE).prefetch(5)\n",
    "test_dataset = test_dataset.batch(BATCH_SIZE).prefetch(5)"
   ]
  },
  {
   "cell_type": "code",
   "execution_count": 8,
   "metadata": {},
   "outputs": [],
   "source": [
    "sample, label = next(iter(train_dataset.take(1)))"
   ]
  },
  {
   "cell_type": "code",
   "execution_count": 9,
   "metadata": {},
   "outputs": [],
   "source": [
    "VOCAB_SIZE = 10000\n",
    "encoder = tf.keras.layers.experimental.preprocessing.TextVectorization(\n",
    "    max_tokens=VOCAB_SIZE, ngrams=1\n",
    ")\n"
   ]
  },
  {
   "cell_type": "code",
   "execution_count": 10,
   "metadata": {},
   "outputs": [],
   "source": [
    "encoder.adapt(train_dataset.map(lambda text, label: text))"
   ]
  },
  {
   "cell_type": "code",
   "execution_count": 11,
   "metadata": {},
   "outputs": [
    {
     "name": "stdout",
     "output_type": "stream",
     "text": [
      "[[   2 5324    5    3 2082 2572 2575  814    6  402 2373  403   21 2329\n",
      "  1829  619  292  921   52    0    0    0    0    0    0    0    0    0\n",
      "     0    0    0    0    0    0    0    0    0    0    0    0    0    0]\n",
      " [   2 1246  509    2   31  259   44 1003   19  323    6 2542  874    8\n",
      "    65  320   29    2 1017  864    0    0    0    0    0    0    0    0\n",
      "     0    0    0    0    0    0    0    0    0    0    0    0    0    0]\n",
      " [   2 3133  542  146    4  495   13    3 5890  688  246   19   38    9\n",
      "   142    4  239   79    7   10   12  115    4  811 2837    0    0    0\n",
      "     0    0    0    0    0    0    0    0    0    0    0    0    0    0]]\n"
     ]
    }
   ],
   "source": [
    "encoded_sample = encoder(sample).numpy()[:3]\n",
    "print(encoded_sample)"
   ]
  },
  {
   "cell_type": "code",
   "execution_count": 12,
   "metadata": {},
   "outputs": [
    {
     "name": "stdout",
     "output_type": "stream",
     "text": [
      "Original:  b'A dramatization of the July 20, 1944 assassination and political coup plot by desperate renegade German Army officers against '\n",
      "Round-trip:  a dramatization of the july 20 1944 assassination and political coup plot by desperate renegade german army officers against                       \n",
      "\n",
      "Original:  b'A musician helps a young singer find fame as age and alcoholism send his own career into a downward spiral.'\n",
      "Round-trip:  a musician helps a young singer find fame as age and alcoholism send his own career into a downward spiral                      \n",
      "\n",
      "Original:  b'A substance-addicted actress tries to look on the bright side even as she is forced to move back in with her mother to avoid unemployment.'\n",
      "Round-trip:  a substanceaddicted actress tries to look on the bright side even as she is forced to move back in with her mother to avoid unemployment                 \n",
      "\n"
     ]
    }
   ],
   "source": [
    "vocab = np.array(encoder.get_vocabulary())\n",
    "\n",
    "for n in range(3):\n",
    "  print(\"Original: \", sample[n].numpy())\n",
    "  print(\"Round-trip: \", \" \".join(vocab[encoded_sample[n]]))\n",
    "  print()"
   ]
  },
  {
   "cell_type": "code",
   "execution_count": 13,
   "metadata": {},
   "outputs": [],
   "source": [
    "model = tf.keras.Sequential(\n",
    "    [\n",
    "        encoder,\n",
    "        tf.keras.layers.Embedding(\n",
    "            input_dim=len(encoder.get_vocabulary()), output_dim=64, mask_zero=True\n",
    "        ),\n",
    "        tf.keras.layers.Bidirectional(tf.keras.layers.LSTM(64)),\n",
    "        tf.keras.layers.Dense(64, activation=\"relu\"),\n",
    "        tf.keras.layers.Dense(64, activation=\"relu\"),\n",
    "        tf.keras.layers.Dense(1),\n",
    "    ]\n",
    ")\n",
    "\n",
    "model.compile(\n",
    "    loss=tf.keras.losses.MeanSquaredError(),\n",
    "    optimizer=tf.keras.optimizers.Adam(0.1),\n",
    ")"
   ]
  },
  {
   "cell_type": "code",
   "execution_count": 14,
   "metadata": {},
   "outputs": [
    {
     "name": "stdout",
     "output_type": "stream",
     "text": [
      "Epoch 1/100\n",
      "16/16 [==============================] - 15s 914ms/step - loss: 31662992827351040.0000 - val_loss: 1090823915569152.0000\n",
      "Epoch 2/100\n",
      "16/16 [==============================] - 11s 668ms/step - loss: 31298251319672832.0000 - val_loss: 955429433638912.0000\n",
      "Epoch 3/100\n",
      "16/16 [==============================] - 10s 630ms/step - loss: 29326816233652224.0000 - val_loss: 714842612695040.0000\n",
      "Epoch 4/100\n",
      "16/16 [==============================] - 10s 656ms/step - loss: 23855659258740736.0000 - val_loss: 3015718266208256.0000\n",
      "Epoch 5/100\n",
      "16/16 [==============================] - 10s 642ms/step - loss: 17402364596060160.0000 - val_loss: 10536347198554112.0000\n",
      "Epoch 6/100\n",
      "16/16 [==============================] - 11s 663ms/step - loss: 13818116677042176.0000 - val_loss: 10304328770256896.0000\n",
      "Epoch 7/100\n",
      "16/16 [==============================] - 10s 656ms/step - loss: 9892274976587776.0000 - val_loss: 14045891677650944.0000\n",
      "Epoch 8/100\n",
      "16/16 [==============================] - 10s 644ms/step - loss: 7788545234173952.0000 - val_loss: 20774505555165184.0000\n",
      "Epoch 9/100\n",
      "16/16 [==============================] - 10s 650ms/step - loss: 6362641861705728.0000 - val_loss: 19832741633720320.0000\n",
      "Epoch 10/100\n",
      "16/16 [==============================] - 10s 645ms/step - loss: 5415731495698432.0000 - val_loss: 22971422129258496.0000\n",
      "Epoch 11/100\n",
      "16/16 [==============================] - 10s 651ms/step - loss: 4641157229314048.0000 - val_loss: 24838951218970624.0000\n",
      "Epoch 12/100\n",
      "16/16 [==============================] - 10s 638ms/step - loss: 4269957164564480.0000 - val_loss: 23799416661999616.0000\n",
      "Epoch 13/100\n",
      "16/16 [==============================] - 10s 640ms/step - loss: 3701158002556928.0000 - val_loss: 23800614957875200.0000\n",
      "Epoch 14/100\n",
      "16/16 [==============================] - 10s 646ms/step - loss: 3826026660495360.0000 - val_loss: 26095798236217344.0000\n",
      "Epoch 15/100\n",
      "16/16 [==============================] - 10s 647ms/step - loss: 3648058248134656.0000 - val_loss: 22044304046292992.0000\n",
      "Epoch 16/100\n",
      "16/16 [==============================] - 10s 651ms/step - loss: 3921358291468288.0000 - val_loss: 27970639507750912.0000\n",
      "Epoch 17/100\n",
      "16/16 [==============================] - 10s 648ms/step - loss: 3653117451173888.0000 - val_loss: 28857200214540288.0000\n",
      "Epoch 18/100\n",
      "16/16 [==============================] - 10s 650ms/step - loss: 3411009876262912.0000 - val_loss: 32465277685858304.0000\n",
      "Epoch 19/100\n",
      "16/16 [==============================] - 10s 642ms/step - loss: 3212257043415040.0000 - val_loss: 34589426776539136.0000\n",
      "Epoch 20/100\n",
      "16/16 [==============================] - 10s 640ms/step - loss: 2929051731755008.0000 - val_loss: 32253409096630272.0000\n",
      "Epoch 21/100\n",
      "16/16 [==============================] - 10s 644ms/step - loss: 2795885465436160.0000 - val_loss: 32720720865787904.0000\n",
      "Epoch 22/100\n",
      "16/16 [==============================] - 10s 648ms/step - loss: 2595456521601024.0000 - val_loss: 35571801761251328.0000\n",
      "Epoch 23/100\n",
      "16/16 [==============================] - 10s 638ms/step - loss: 2420126024466432.0000 - val_loss: 37236108030902272.0000\n",
      "Epoch 24/100\n",
      "16/16 [==============================] - 10s 656ms/step - loss: 2355810231386112.0000 - val_loss: 36881171933560832.0000\n",
      "Epoch 25/100\n",
      "16/16 [==============================] - 10s 652ms/step - loss: 2295282599460864.0000 - val_loss: 40130847268929536.0000\n",
      "Epoch 26/100\n",
      "16/16 [==============================] - 10s 641ms/step - loss: 2117539404447744.0000 - val_loss: 39879003271593984.0000\n",
      "Epoch 27/100\n",
      "16/16 [==============================] - 10s 645ms/step - loss: 2075261088563200.0000 - val_loss: 39016329025421312.0000\n",
      "Epoch 28/100\n",
      "16/16 [==============================] - 10s 646ms/step - loss: 2054981326733312.0000 - val_loss: 42881163936661504.0000\n",
      "Epoch 29/100\n",
      "16/16 [==============================] - 10s 642ms/step - loss: 1934854446907392.0000 - val_loss: 45380843492868096.0000\n",
      "Epoch 30/100\n",
      "16/16 [==============================] - 11s 663ms/step - loss: 1817739949768704.0000 - val_loss: 44569988027121664.0000\n",
      "Epoch 31/100\n",
      "16/16 [==============================] - 10s 643ms/step - loss: 1685961494757376.0000 - val_loss: 46854408117420032.0000\n",
      "Epoch 32/100\n",
      "16/16 [==============================] - 10s 639ms/step - loss: 1624002430763008.0000 - val_loss: 46416312863293440.0000\n",
      "Epoch 33/100\n",
      "16/16 [==============================] - 10s 652ms/step - loss: 1517374364712960.0000 - val_loss: 45810653755080704.0000\n",
      "Epoch 34/100\n",
      "16/16 [==============================] - 10s 651ms/step - loss: 1532940668370944.0000 - val_loss: 48026242699493376.0000\n",
      "Epoch 35/100\n",
      "16/16 [==============================] - 10s 645ms/step - loss: 1594602440097792.0000 - val_loss: 47671667379404800.0000\n",
      "Epoch 36/100\n",
      "16/16 [==============================] - 10s 641ms/step - loss: 1453899177263104.0000 - val_loss: 44794305579057152.0000\n",
      "Epoch 37/100\n",
      "16/16 [==============================] - 10s 639ms/step - loss: 1496233864593408.0000 - val_loss: 46289005737672704.0000\n",
      "Epoch 38/100\n",
      "16/16 [==============================] - 10s 648ms/step - loss: 1432270258831360.0000 - val_loss: 43511119674867712.0000\n",
      "Epoch 39/100\n",
      "16/16 [==============================] - 10s 654ms/step - loss: 1315954491392000.0000 - val_loss: 45391847199080448.0000\n",
      "Epoch 40/100\n",
      "16/16 [==============================] - 10s 634ms/step - loss: 1248050253135872.0000 - val_loss: 43609929692479488.0000\n",
      "Epoch 41/100\n",
      "16/16 [==============================] - 10s 641ms/step - loss: 1127088270606336.0000 - val_loss: 48007456512540672.0000\n",
      "Epoch 42/100\n",
      "16/16 [==============================] - 10s 638ms/step - loss: 1233100948373504.0000 - val_loss: 41467372371968000.0000\n",
      "Epoch 43/100\n",
      "16/16 [==============================] - 10s 652ms/step - loss: 1267813947801600.0000 - val_loss: 44883451920252928.0000\n",
      "Epoch 44/100\n",
      "16/16 [==============================] - 10s 643ms/step - loss: 1394678423355392.0000 - val_loss: 44433296397959168.0000\n",
      "Epoch 45/100\n",
      "16/16 [==============================] - 10s 651ms/step - loss: 1388776869855232.0000 - val_loss: 44714432072253440.0000\n",
      "Epoch 46/100\n",
      "16/16 [==============================] - 11s 660ms/step - loss: 1254029921353728.0000 - val_loss: 44535052763136000.0000\n",
      "Epoch 47/100\n",
      "16/16 [==============================] - 11s 658ms/step - loss: 1148405938126848.0000 - val_loss: 46144939649662976.0000\n",
      "Epoch 48/100\n",
      "16/16 [==============================] - 10s 653ms/step - loss: 1058290276499456.0000 - val_loss: 46149874567086080.0000\n",
      "Epoch 49/100\n",
      "16/16 [==============================] - 10s 654ms/step - loss: 1052131897376768.0000 - val_loss: 46075275280121856.0000\n",
      "Epoch 50/100\n",
      "16/16 [==============================] - 10s 642ms/step - loss: 927938891481088.0000 - val_loss: 44143626623647744.0000\n",
      "Epoch 51/100\n",
      "16/16 [==============================] - 10s 624ms/step - loss: 934937943343104.0000 - val_loss: 48560777149284352.0000\n",
      "Epoch 52/100\n",
      "16/16 [==============================] - 10s 650ms/step - loss: 1080587934760960.0000 - val_loss: 45963949727809536.0000\n",
      "Epoch 53/100\n",
      "16/16 [==============================] - 10s 637ms/step - loss: 1040782379188224.0000 - val_loss: 48093755290419200.0000\n",
      "Epoch 54/100\n",
      "16/16 [==============================] - 11s 659ms/step - loss: 976978224087040.0000 - val_loss: 50016234191716352.0000\n",
      "Epoch 55/100\n",
      "16/16 [==============================] - 10s 642ms/step - loss: 979070275813376.0000 - val_loss: 46828801522401280.0000\n",
      "Epoch 56/100\n",
      "16/16 [==============================] - 11s 667ms/step - loss: 1010540642041856.0000 - val_loss: 47563520102891520.0000\n",
      "Epoch 57/100\n",
      "16/16 [==============================] - 10s 644ms/step - loss: 946614415917056.0000 - val_loss: 49092356661575680.0000\n",
      "Epoch 58/100\n",
      "16/16 [==============================] - 10s 645ms/step - loss: 921813731246080.0000 - val_loss: 48277103149318144.0000\n",
      "Epoch 59/100\n",
      "16/16 [==============================] - 10s 648ms/step - loss: 896668107014144.0000 - val_loss: 50976167972306944.0000\n",
      "Epoch 60/100\n",
      "16/16 [==============================] - 10s 655ms/step - loss: 884749438550016.0000 - val_loss: 48620399885287424.0000\n",
      "Epoch 61/100\n",
      "16/16 [==============================] - 11s 657ms/step - loss: 907261912285184.0000 - val_loss: 49996777989865472.0000\n",
      "Epoch 62/100\n",
      "16/16 [==============================] - 10s 647ms/step - loss: 962371442966528.0000 - val_loss: 46719408705372160.0000\n",
      "Epoch 63/100\n",
      "16/16 [==============================] - 10s 652ms/step - loss: 969905352474624.0000 - val_loss: 52448031789809664.0000\n",
      "Epoch 64/100\n",
      "16/16 [==============================] - 11s 679ms/step - loss: 869915359707136.0000 - val_loss: 51205871413231616.0000\n",
      "Epoch 65/100\n",
      "16/16 [==============================] - 11s 660ms/step - loss: 869923614097408.0000 - val_loss: 53029578951622656.0000\n",
      "Epoch 66/100\n",
      "16/16 [==============================] - 11s 668ms/step - loss: 887581298393088.0000 - val_loss: 51572416807174144.0000\n",
      "Epoch 67/100\n",
      "16/16 [==============================] - 11s 672ms/step - loss: 827231572066304.0000 - val_loss: 49391136061521920.0000\n",
      "Epoch 68/100\n",
      "16/16 [==============================] - 11s 670ms/step - loss: 717161962143744.0000 - val_loss: 50790436406558720.0000\n",
      "Epoch 69/100\n",
      "16/16 [==============================] - 11s 662ms/step - loss: 747342630223872.0000 - val_loss: 48451654915194880.0000\n",
      "Epoch 70/100\n",
      "16/16 [==============================] - 11s 664ms/step - loss: 750545602084864.0000 - val_loss: 50199732374470656.0000\n",
      "Epoch 71/100\n",
      "16/16 [==============================] - 11s 669ms/step - loss: 751822683766784.0000 - val_loss: 48845533481009152.0000\n",
      "Epoch 72/100\n",
      "16/16 [==============================] - 11s 668ms/step - loss: 736116659453952.0000 - val_loss: 49088340867153920.0000\n",
      "Epoch 73/100\n",
      "16/16 [==============================] - 11s 672ms/step - loss: 727063136829440.0000 - val_loss: 49184058508312576.0000\n",
      "Epoch 74/100\n",
      "16/16 [==============================] - 11s 659ms/step - loss: 768460783091712.0000 - val_loss: 48759548235743232.0000\n",
      "Epoch 75/100\n",
      "16/16 [==============================] - 11s 673ms/step - loss: 927074059550720.0000 - val_loss: 46377353214951424.0000\n",
      "Epoch 76/100\n",
      "16/16 [==============================] - 11s 660ms/step - loss: 828800577306624.0000 - val_loss: 49017443841998848.0000\n",
      "Epoch 77/100\n",
      "16/16 [==============================] - 11s 664ms/step - loss: 927166401347584.0000 - val_loss: 48882349940670464.0000\n",
      "Epoch 78/100\n",
      "16/16 [==============================] - 11s 663ms/step - loss: 907990177677312.0000 - val_loss: 48949699322839040.0000\n",
      "Epoch 79/100\n",
      "16/16 [==============================] - 11s 673ms/step - loss: 919597997883392.0000 - val_loss: 45356688596795392.0000\n",
      "Epoch 80/100\n",
      "16/16 [==============================] - 11s 667ms/step - loss: 982992184934400.0000 - val_loss: 48694097229119488.0000\n",
      "Epoch 81/100\n",
      "16/16 [==============================] - 11s 660ms/step - loss: 1086077305618432.0000 - val_loss: 48642884039081984.0000\n",
      "Epoch 82/100\n",
      "16/16 [==============================] - 11s 670ms/step - loss: 1098874630438912.0000 - val_loss: 48361885803741184.0000\n",
      "Epoch 83/100\n",
      "16/16 [==============================] - 11s 676ms/step - loss: 1218919503233024.0000 - val_loss: 45665406551064576.0000\n",
      "Epoch 84/100\n",
      "16/16 [==============================] - 11s 671ms/step - loss: 1143077494325248.0000 - val_loss: 50023131909193728.0000\n",
      "Epoch 85/100\n",
      "16/16 [==============================] - 11s 662ms/step - loss: 1139510658203648.0000 - val_loss: 46277100088328192.0000\n",
      "Epoch 86/100\n",
      "16/16 [==============================] - 11s 663ms/step - loss: 1153724584034304.0000 - val_loss: 47817094972047360.0000\n",
      "Epoch 87/100\n",
      "16/16 [==============================] - 11s 658ms/step - loss: 1172150127951872.0000 - val_loss: 44476413574643712.0000\n",
      "Epoch 88/100\n",
      "16/16 [==============================] - 11s 680ms/step - loss: 1207051300634624.0000 - val_loss: 46210360591515648.0000\n",
      "Epoch 89/100\n",
      "16/16 [==============================] - 11s 665ms/step - loss: 1115079005175808.0000 - val_loss: 46505626708213760.0000\n",
      "Epoch 90/100\n",
      "16/16 [==============================] - 11s 682ms/step - loss: 1163551469207552.0000 - val_loss: 49229155664920576.0000\n",
      "Epoch 91/100\n",
      "16/16 [==============================] - 11s 664ms/step - loss: 1300753125736448.0000 - val_loss: 46386969646727168.0000\n",
      "Epoch 92/100\n",
      "16/16 [==============================] - 11s 668ms/step - loss: 1303600286400512.0000 - val_loss: 46414642121015296.0000\n",
      "Epoch 93/100\n",
      "16/16 [==============================] - 11s 679ms/step - loss: 1333031012925440.0000 - val_loss: 51361211790393344.0000\n",
      "Epoch 94/100\n",
      "16/16 [==============================] - 11s 682ms/step - loss: 1395730019254272.0000 - val_loss: 44603359923011584.0000\n",
      "Epoch 95/100\n",
      "16/16 [==============================] - 11s 674ms/step - loss: 1420253074554880.0000 - val_loss: 48115633853825024.0000\n",
      "Epoch 96/100\n",
      "16/16 [==============================] - 11s 680ms/step - loss: 1512675670491136.0000 - val_loss: 41351627298308096.0000\n",
      "Epoch 97/100\n",
      "16/16 [==============================] - 11s 700ms/step - loss: 1804825519980544.0000 - val_loss: 44254780377268224.0000\n",
      "Epoch 98/100\n",
      "16/16 [==============================] - 11s 695ms/step - loss: 1898830542929920.0000 - val_loss: 46652359970914304.0000\n",
      "Epoch 99/100\n",
      "16/16 [==============================] - 11s 671ms/step - loss: 1808066609676288.0000 - val_loss: 47941481519906816.0000\n",
      "Epoch 100/100\n",
      "16/16 [==============================] - 11s 668ms/step - loss: 1702415782903808.0000 - val_loss: 47916235702140928.0000\n"
     ]
    }
   ],
   "source": [
    "history = model.fit(\n",
    "    train_dataset, epochs=100, validation_data=test_dataset, validation_steps=len(test_data_in) // BATCH_SIZE\n",
    ")"
   ]
  },
  {
   "cell_type": "code",
   "execution_count": 15,
   "metadata": {},
   "outputs": [
    {
     "name": "stdout",
     "output_type": "stream",
     "text": [
      "141/141 [==============================] - 9s 61ms/step - loss: 48062565237915648.0000\n"
     ]
    }
   ],
   "source": [
    "res = model.evaluate(test_dataset)"
   ]
  },
  {
   "cell_type": "code",
   "execution_count": 16,
   "metadata": {},
   "outputs": [
    {
     "name": "stdout",
     "output_type": "stream",
     "text": [
      "532070496\n"
     ]
    }
   ],
   "source": [
    "sample_text = \"As a new threat to the galaxy rises, Rey, a desert scavenger, and Finn, an ex-stormtrooper, must join Han Solo and Chewbacca to search for the one hope of restoring peace.\"\n",
    "pred1 = model.predict(np.array([sample_text]))\n",
    "print(int(pred1[0]))"
   ]
  },
  {
   "cell_type": "code",
   "execution_count": 17,
   "metadata": {},
   "outputs": [
    {
     "name": "stdout",
     "output_type": "stream",
     "text": [
      "418226912\n"
     ]
    }
   ],
   "source": [
    "non_existant_film = \"Este is a friend of mine we meet up every tuesday night for dinner and a glass of wine. She thinks he did it but just cant prove it\"\n",
    "pred2 = model.predict(np.array([non_existant_film]))\n",
    "print(int(pred2[0]))"
   ]
  },
  {
   "cell_type": "code",
   "execution_count": 18,
   "metadata": {},
   "outputs": [
    {
     "data": {
      "image/png": "[encoded data removed]",
      "text/plain": [
       "<Figure size 432x288 with 1 Axes>"
      ]
     },
     "metadata": {
      "needs_background": "light"
     },
     "output_type": "display_data"
    }
   ],
   "source": [
    "test_predictions = model.predict(test_data_in)\n",
    "train_predictions = model.predict(train_data_in)\n",
    "plt.scatter(train_data_out, train_predictions, label='train', s=2)\n",
    "plt.scatter(test_data_out, test_predictions, label='test', s=2)\n",
    "plt.scatter(real_data['gross'], real_data['gross'], label='truths', s=1)\n",
    "plt.legend()\n",
    "plt.xlabel('Truth')\n",
    "plt.ylabel('Prediction')\n",
    "plt.show()\n",
    "plt.savefig(\"exp_13.pdf\", dpi=300)"
   ]
  },
  {
   "cell_type": "code",
   "execution_count": 19,
   "metadata": {},
   "outputs": [
    {
     "data": {
      "image/png": "[encoded data removed]",
      "text/plain": [
       "<Figure size 432x288 with 2 Axes>"
      ]
     },
     "metadata": {
      "needs_background": "light"
     },
     "output_type": "display_data"
    }
   ],
   "source": [
    "plot_graphs(history,'loss')\n",
    "plt.savefig(\"exp_13_2.pdf\", dpi=300)"
   ]
  },
  {
   "cell_type": "code",
   "execution_count": null,
   "metadata": {},
   "outputs": [],
   "source": [
    "import pickle as pkl\n",
    "pkl.dump(history, open('exp_13.pkl','wb'))"
   ]
  }
 ],
 "metadata": {
  "kernelspec": {
   "display_name": "Python3.8 | Tensorflow 2",
   "language": "python",
   "name": "tf2"
  },
  "language_info": {
   "codemirror_mode": {
    "name": "ipython",
    "version": 3
   },
   "file_extension": ".py",
   "mimetype": "text/x-python",
   "name": "python",
   "nbconvert_exporter": "python",
   "pygments_lexer": "ipython3",
   "version": "3.8.5"
  }
 },
 "nbformat": 4,
 "nbformat_minor": 2
}
