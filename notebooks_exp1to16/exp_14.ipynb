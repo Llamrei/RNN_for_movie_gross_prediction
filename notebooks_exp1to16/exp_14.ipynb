{
 "cells": [
  {
   "cell_type": "code",
   "execution_count": 1,
   "metadata": {},
   "outputs": [],
   "source": [
    "\"\"\"\n",
    "Follows https://www.tensorflow.org/tutorials/text/text_classification_rnn\n",
    "\"\"\"\n",
    "import pickle as pkl\n",
    "import numpy as np\n",
    "import random\n",
    "import re\n",
    "\n",
    "import tensorflow_datasets as tfds\n",
    "import tensorflow as tf\n",
    "\n",
    "import matplotlib.pyplot as plt"
   ]
  },
  {
   "cell_type": "code",
   "execution_count": 2,
   "metadata": {},
   "outputs": [
    {
     "data": {
      "text/plain": [
       "datetime.datetime(2020, 12, 17, 2, 5, 25, 549220)"
      ]
     },
     "execution_count": 2,
     "metadata": {},
     "output_type": "execute_result"
    }
   ],
   "source": [
    "from datetime import datetime\n",
    "datetime.now()"
   ]
  },
  {
   "cell_type": "code",
   "execution_count": 3,
   "metadata": {},
   "outputs": [],
   "source": [
    "def plot_graphs(history, metric):\n",
    "    fig, ax1 = plt.subplots()\n",
    "\n",
    "    color = 'tab:red'\n",
    "    ax1.set_xlabel('Epochs')\n",
    "    ax1.set_ylabel(metric, color=color)\n",
    "    ax1.plot(history.history[metric], color=color)\n",
    "    ax1.tick_params(axis='y', labelcolor=color)\n",
    "\n",
    "    ax2 = ax1.twinx()  # instantiate a second axes that shares the same x-axis\n",
    "\n",
    "    color = 'tab:blue'\n",
    "    ax2.set_ylabel(\"val_\" + metric, color=color)  # we already handled the x-label with ax1\n",
    "    ax2.plot(history.history[\"val_\" + metric], color=color)\n",
    "    ax2.tick_params(axis='y', labelcolor=color)\n",
    "\n",
    "    fig.tight_layout()  # otherwise the right y-label is slightly clipped\n",
    "    plt.legend([metric, \"val_\" + metric])"
   ]
  },
  {
   "cell_type": "code",
   "execution_count": 4,
   "metadata": {},
   "outputs": [],
   "source": [
    "def split_data_into_input_and_output(data):\n",
    "    \"\"\"Take given data of format from scraper [link] and return the inputs and outputs seperated.\n",
    "\n",
    "    Args:\n",
    "        data (list): A numpy array/list of named tuples which contains entries for 'gross',\n",
    "        'title', 'synopsis' and 'year'.\n",
    "    \"\"\"\n",
    "    data_in, data_out = list(zip(*[((x[\"synopsis\"]), x[\"gross\"]) for x in data]))\n",
    "    return np.array(data_in), np.array(data_out)"
   ]
  },
  {
   "cell_type": "code",
   "execution_count": 5,
   "metadata": {},
   "outputs": [],
   "source": [
    "def add_signal(data):\n",
    "    \"\"\"\n",
    "    If the given data has no signal we cant fit a NN to it. As such, here we append how much the film grossed\n",
    "    into the synopsis of each title.\n",
    "\n",
    "    Args:\n",
    "        data (list): A numpy array/list of named tuples which contains entries for 'gross',\n",
    "        'title', 'synopsis' and 'year'.\n",
    "    \"\"\"\n",
    "    for row in data:\n",
    "        row[\"synopsis\"] = row[\"synopsis\"] + f' The film grossed ${row[\"gross\"]}'"
   ]
  },
  {
   "cell_type": "code",
   "execution_count": 6,
   "metadata": {},
   "outputs": [],
   "source": [
    "real_data = pkl.load(open(\"complete10000_films_and_synopsis.pickle\", \"rb\"))\n",
    "np.random.shuffle(real_data[500:])\n",
    "data = real_data"
   ]
  },
  {
   "cell_type": "code",
   "execution_count": 7,
   "metadata": {},
   "outputs": [],
   "source": [
    "# Fraction of overall data\n",
    "training_fraction = 0.85\n",
    "\n",
    "train_end = int(len(data) * training_fraction)\n",
    "train_data_in, train_data_out = split_data_into_input_and_output(data[:train_end])\n",
    "test_data_in, test_data_out = split_data_into_input_and_output(data[train_end:])\n",
    "\n",
    "train_dataset = tf.data.Dataset.from_tensor_slices((train_data_in, train_data_out))\n",
    "test_dataset = tf.data.Dataset.from_tensor_slices((test_data_in, test_data_out))\n",
    "\n",
    "\n",
    "# How much it loads into memory for sampling\n",
    "BUFFER_SIZE = 10000\n",
    "# Batch for gradient averaging\n",
    "BATCH_SIZE = 64\n",
    "# prefetch parrallelising loading + execution (not huge so not necessary)\n",
    "\n",
    "train_dataset = train_dataset.shuffle(BUFFER_SIZE).batch(BATCH_SIZE).prefetch(5)\n",
    "test_dataset = test_dataset.batch(BATCH_SIZE).prefetch(5)"
   ]
  },
  {
   "cell_type": "code",
   "execution_count": 8,
   "metadata": {},
   "outputs": [],
   "source": [
    "sample, label = next(iter(train_dataset.take(1)))"
   ]
  },
  {
   "cell_type": "code",
   "execution_count": 9,
   "metadata": {},
   "outputs": [],
   "source": [
    "VOCAB_SIZE = 10000\n",
    "encoder = tf.keras.layers.experimental.preprocessing.TextVectorization(\n",
    "    max_tokens=VOCAB_SIZE, ngrams=1\n",
    ")\n"
   ]
  },
  {
   "cell_type": "code",
   "execution_count": 10,
   "metadata": {},
   "outputs": [],
   "source": [
    "encoder.adapt(train_dataset.map(lambda text, label: text))"
   ]
  },
  {
   "cell_type": "code",
   "execution_count": 11,
   "metadata": {},
   "outputs": [
    {
     "name": "stdout",
     "output_type": "stream",
     "text": [
      "[[   7    1   11  491  620  311    4 3069 4682 1774   28  535   88 3069\n",
      "     6    3   65    5   39    1 5879   67   12    6   11  978 5310    0\n",
      "     0    0    0    0    0    0    0    0    0    0    0    0    0    0\n",
      "     0    0    0    0    0    0    0    0    0    0    0    0    0    0\n",
      "     0    0    0    0    0    0    0    0    0    0    0    0    0    0\n",
      "     0    0    0    0    0    0    0    0    0    0    0    0    0    0\n",
      "     0    0    0    0    0    0    0    0    0    0    0    0    0    0\n",
      "     0    0    0    0    0    0    0    0    0    0    0    0    0    0\n",
      "     0    0    0    0    0    0    0    0    0    0    0    0    0    0\n",
      "     0    0    0    0    0    0    0    0    0    0    0    0    0    0\n",
      "     0    0    0    0    0    0    0    0    0    0    0    0    0    0\n",
      "     0    0    0    0    0    0    0    0    0    0    0    0    0    0\n",
      "     0    0    0    0    0    0    0    0    0    0    0    0    0]\n",
      " [  13    2 6983  501  235    2   33   51  381   30  213   51   82    7\n",
      "   859    5   96  233  150   27 4129 3176  129    3  501    0    0    0\n",
      "     0    0    0    0    0    0    0    0    0    0    0    0    0    0\n",
      "     0    0    0    0    0    0    0    0    0    0    0    0    0    0\n",
      "     0    0    0    0    0    0    0    0    0    0    0    0    0    0\n",
      "     0    0    0    0    0    0    0    0    0    0    0    0    0    0\n",
      "     0    0    0    0    0    0    0    0    0    0    0    0    0    0\n",
      "     0    0    0    0    0    0    0    0    0    0    0    0    0    0\n",
      "     0    0    0    0    0    0    0    0    0    0    0    0    0    0\n",
      "     0    0    0    0    0    0    0    0    0    0    0    0    0    0\n",
      "     0    0    0    0    0    0    0    0    0    0    0    0    0    0\n",
      "     0    0    0    0    0    0    0    0    0    0    0    0    0    0\n",
      "     0    0    0    0    0    0    0    0    0    0    0    0    0]\n",
      " [  45   63  331   91  293    1    0    0    0    0    0    0    0    0\n",
      "     0    0    0    0    0    0    0    0    0    0    0    0    0    0\n",
      "     0    0    0    0    0    0    0    0    0    0    0    0    0    0\n",
      "     0    0    0    0    0    0    0    0    0    0    0    0    0    0\n",
      "     0    0    0    0    0    0    0    0    0    0    0    0    0    0\n",
      "     0    0    0    0    0    0    0    0    0    0    0    0    0    0\n",
      "     0    0    0    0    0    0    0    0    0    0    0    0    0    0\n",
      "     0    0    0    0    0    0    0    0    0    0    0    0    0    0\n",
      "     0    0    0    0    0    0    0    0    0    0    0    0    0    0\n",
      "     0    0    0    0    0    0    0    0    0    0    0    0    0    0\n",
      "     0    0    0    0    0    0    0    0    0    0    0    0    0    0\n",
      "     0    0    0    0    0    0    0    0    0    0    0    0    0    0\n",
      "     0    0    0    0    0    0    0    0    0    0    0    0    0]]\n"
     ]
    }
   ],
   "source": [
    "encoded_sample = encoder(sample).numpy()[:3]\n",
    "print(encoded_sample)"
   ]
  },
  {
   "cell_type": "code",
   "execution_count": 12,
   "metadata": {},
   "outputs": [
    {
     "name": "stdout",
     "output_type": "stream",
     "text": [
      "Original:  b\"In 1934, an English widow moves to Widows' Peak, Ireland. She befriends other widows and the son of one. Hostility escalates between her and an Irish spinster.\"\n",
      "Round-trip:  in [UNK] an english widow moves to widows peak ireland she befriends other widows and the son of one [UNK] escalates between her and an irish spinster                                                                                                                                                          \n",
      "\n",
      "Original:  b'On a long-distance train trip, a man finds romance but also finds himself in danger of being killed, or at least pushed off the train.'\n",
      "Round-trip:  on a longdistance train trip a man finds romance but also finds himself in danger of being killed or at least pushed off the train                                                                                                                                                            \n",
      "\n",
      "Original:  b'World War II American Army Medic '\n",
      "Round-trip:  world war ii american army [UNK]                                                                                                                                                                               \n",
      "\n"
     ]
    }
   ],
   "source": [
    "vocab = np.array(encoder.get_vocabulary())\n",
    "\n",
    "for n in range(3):\n",
    "  print(\"Original: \", sample[n].numpy())\n",
    "  print(\"Round-trip: \", \" \".join(vocab[encoded_sample[n]]))\n",
    "  print()"
   ]
  },
  {
   "cell_type": "code",
   "execution_count": 13,
   "metadata": {},
   "outputs": [],
   "source": [
    "model = tf.keras.Sequential(\n",
    "    [\n",
    "        encoder,\n",
    "        tf.keras.layers.Embedding(\n",
    "            input_dim=len(encoder.get_vocabulary()), output_dim=64, mask_zero=True\n",
    "        ),\n",
    "        tf.keras.layers.Bidirectional(tf.keras.layers.LSTM(64)),\n",
    "        tf.keras.layers.Dense(64, activation=\"relu\"),\n",
    "        tf.keras.layers.Dense(64, activation=\"relu\"),\n",
    "        tf.keras.layers.Dense(1),\n",
    "    ]\n",
    ")\n",
    "\n",
    "model.compile(\n",
    "    loss=tf.keras.losses.MeanSquaredError(),\n",
    "    optimizer=tf.keras.optimizers.Adam(0.1),\n",
    ")"
   ]
  },
  {
   "cell_type": "code",
   "execution_count": 14,
   "metadata": {},
   "outputs": [
    {
     "name": "stdout",
     "output_type": "stream",
     "text": [
      "Epoch 1/100\n",
      "133/133 [==============================] - 30s 223ms/step - loss: 4014500025991168.0000 - val_loss: 873212485304320.0000\n",
      "Epoch 2/100\n",
      "133/133 [==============================] - 26s 196ms/step - loss: 3572793778110464.0000 - val_loss: 948467224543232.0000\n",
      "Epoch 3/100\n",
      "133/133 [==============================] - 27s 202ms/step - loss: 3456917171077120.0000 - val_loss: 970582279585792.0000\n",
      "Epoch 4/100\n",
      "133/133 [==============================] - 26s 196ms/step - loss: 3415305111994368.0000 - val_loss: 1086110860050432.0000\n",
      "Epoch 5/100\n",
      "133/133 [==============================] - 26s 192ms/step - loss: 3312086042017792.0000 - val_loss: 1159602515214336.0000\n",
      "Epoch 6/100\n",
      "133/133 [==============================] - 26s 196ms/step - loss: 3235170157068288.0000 - val_loss: 1131973527470080.0000\n",
      "Epoch 7/100\n",
      "133/133 [==============================] - 26s 198ms/step - loss: 3168205174472704.0000 - val_loss: 1323318212820992.0000\n",
      "Epoch 8/100\n",
      "133/133 [==============================] - 26s 198ms/step - loss: 3145455269576704.0000 - val_loss: 1076773668257792.0000\n",
      "Epoch 9/100\n",
      "133/133 [==============================] - 26s 193ms/step - loss: 3123772664053760.0000 - val_loss: 1342915880157184.0000\n",
      "Epoch 10/100\n",
      "133/133 [==============================] - 26s 199ms/step - loss: 3135636437467136.0000 - val_loss: 1297454188199936.0000\n",
      "Epoch 11/100\n",
      "133/133 [==============================] - 27s 201ms/step - loss: 3121657929531392.0000 - val_loss: 1138163380649984.0000\n",
      "Epoch 12/100\n",
      "133/133 [==============================] - 26s 194ms/step - loss: 3087006133387264.0000 - val_loss: 1232649574154240.0000\n",
      "Epoch 13/100\n",
      "133/133 [==============================] - 26s 194ms/step - loss: 3101928997257216.0000 - val_loss: 1244693199323136.0000\n",
      "Epoch 14/100\n",
      "133/133 [==============================] - 26s 197ms/step - loss: 3007939006693376.0000 - val_loss: 1401147852062720.0000\n",
      "Epoch 15/100\n",
      "133/133 [==============================] - 25s 190ms/step - loss: 2988252487221248.0000 - val_loss: 1420112414375936.0000\n",
      "Epoch 16/100\n",
      "133/133 [==============================] - 26s 198ms/step - loss: 3004452566990848.0000 - val_loss: 1503610873577472.0000\n",
      "Epoch 17/100\n",
      "133/133 [==============================] - 26s 198ms/step - loss: 3028420095115264.0000 - val_loss: 1430535092043776.0000\n",
      "Epoch 18/100\n",
      "133/133 [==============================] - 26s 192ms/step - loss: 2996260722180096.0000 - val_loss: 1277699351904256.0000\n",
      "Epoch 19/100\n",
      "133/133 [==============================] - 26s 194ms/step - loss: 2931976067612672.0000 - val_loss: 1367148890947584.0000\n",
      "Epoch 20/100\n",
      "133/133 [==============================] - 26s 196ms/step - loss: 2889660170764288.0000 - val_loss: 1504233912270848.0000\n",
      "Epoch 21/100\n",
      "133/133 [==============================] - 27s 202ms/step - loss: 2922907244167168.0000 - val_loss: 1392627979124736.0000\n",
      "Epoch 22/100\n",
      "133/133 [==============================] - 26s 197ms/step - loss: 2912548051484672.0000 - val_loss: 1417831384088576.0000\n",
      "Epoch 23/100\n",
      "133/133 [==============================] - 26s 196ms/step - loss: 2902297843597312.0000 - val_loss: 1440256079429632.0000\n",
      "Epoch 24/100\n",
      "133/133 [==============================] - 25s 190ms/step - loss: 2922500832886784.0000 - val_loss: 1328816710483968.0000\n",
      "Epoch 25/100\n",
      "133/133 [==============================] - 25s 187ms/step - loss: 2933230734934016.0000 - val_loss: 1467081371418624.0000\n",
      "Epoch 26/100\n",
      "133/133 [==============================] - 26s 199ms/step - loss: 2888170622418944.0000 - val_loss: 1524741575802880.0000\n",
      "Epoch 27/100\n",
      "133/133 [==============================] - 26s 195ms/step - loss: 2845798085689344.0000 - val_loss: 1649718815883264.0000\n",
      "Epoch 28/100\n",
      "133/133 [==============================] - 26s 195ms/step - loss: 2833925990776832.0000 - val_loss: 1456711038664704.0000\n",
      "Epoch 29/100\n",
      "133/133 [==============================] - 26s 197ms/step - loss: 2826612466778112.0000 - val_loss: 1439029463613440.0000\n",
      "Epoch 30/100\n",
      "133/133 [==============================] - 26s 197ms/step - loss: 2834851287793664.0000 - val_loss: 1559794280300544.0000\n",
      "Epoch 31/100\n",
      "133/133 [==============================] - 26s 199ms/step - loss: 2847476344160256.0000 - val_loss: 1455668569571328.0000\n",
      "Epoch 32/100\n",
      "133/133 [==============================] - 26s 192ms/step - loss: 2790842368524288.0000 - val_loss: 1625956372447232.0000\n",
      "Epoch 33/100\n",
      "133/133 [==============================] - 26s 199ms/step - loss: 2736707526983680.0000 - val_loss: 1748537826082816.0000\n",
      "Epoch 34/100\n",
      "133/133 [==============================] - 27s 200ms/step - loss: 2731187688701952.0000 - val_loss: 1481828275847168.0000\n",
      "Epoch 35/100\n",
      "133/133 [==============================] - 26s 195ms/step - loss: 2684447170232320.0000 - val_loss: 1515663088680960.0000\n",
      "Epoch 36/100\n",
      "133/133 [==============================] - 27s 200ms/step - loss: 2657039910174720.0000 - val_loss: 1637328237887488.0000\n",
      "Epoch 37/100\n",
      "133/133 [==============================] - 25s 190ms/step - loss: 2659477035679744.0000 - val_loss: 1420705388298240.0000\n",
      "Epoch 38/100\n",
      "133/133 [==============================] - 26s 193ms/step - loss: 2662646453108736.0000 - val_loss: 1457795383689216.0000\n",
      "Epoch 39/100\n",
      "133/133 [==============================] - 26s 194ms/step - loss: 2608159424249856.0000 - val_loss: 1678991836577792.0000\n",
      "Epoch 40/100\n",
      "133/133 [==============================] - 27s 204ms/step - loss: 2603530254811136.0000 - val_loss: 1481938737037312.0000\n",
      "Epoch 41/100\n",
      "133/133 [==============================] - 26s 192ms/step - loss: 2604506286129152.0000 - val_loss: 1580032166199296.0000\n",
      "Epoch 42/100\n",
      "133/133 [==============================] - 24s 181ms/step - loss: 2599983417131008.0000 - val_loss: 1889859161554944.0000\n",
      "Epoch 43/100\n",
      "133/133 [==============================] - 24s 177ms/step - loss: 2608150565879808.0000 - val_loss: 1563523251437568.0000\n",
      "Epoch 44/100\n",
      "133/133 [==============================] - 23s 172ms/step - loss: 2578071836164096.0000 - val_loss: 1894397331374080.0000\n",
      "Epoch 45/100\n",
      "133/133 [==============================] - 23s 174ms/step - loss: 2541589310210048.0000 - val_loss: 1835804045344768.0000\n",
      "Epoch 46/100\n",
      "133/133 [==============================] - 23s 171ms/step - loss: 2477449073917952.0000 - val_loss: 2015385217925120.0000\n",
      "Epoch 47/100\n",
      "133/133 [==============================] - 23s 174ms/step - loss: 2524320588890112.0000 - val_loss: 1572987480309760.0000\n",
      "Epoch 48/100\n",
      "133/133 [==============================] - 24s 177ms/step - loss: 2527124128792576.0000 - val_loss: 1543839953190912.0000\n",
      "Epoch 49/100\n",
      "133/133 [==============================] - 23s 169ms/step - loss: 2563832408965120.0000 - val_loss: 1468717082869760.0000\n",
      "Epoch 50/100\n",
      "133/133 [==============================] - 23s 174ms/step - loss: 2515536038592512.0000 - val_loss: 1695399282737152.0000\n",
      "Epoch 51/100\n",
      "133/133 [==============================] - 23s 174ms/step - loss: 2519366344114176.0000 - val_loss: 1996867197992960.0000\n",
      "Epoch 52/100\n",
      "133/133 [==============================] - 22s 169ms/step - loss: 2548266642178048.0000 - val_loss: 1396238301790208.0000\n",
      "Epoch 53/100\n",
      "133/133 [==============================] - 22s 168ms/step - loss: 2569496665522176.0000 - val_loss: 1623951428026368.0000\n",
      "Epoch 54/100\n",
      "133/133 [==============================] - 23s 170ms/step - loss: 2575910930743296.0000 - val_loss: 1392407190962176.0000\n",
      "Epoch 55/100\n",
      "133/133 [==============================] - 22s 167ms/step - loss: 2569816909021184.0000 - val_loss: 1751990174482432.0000\n",
      "Epoch 56/100\n",
      "133/133 [==============================] - 23s 171ms/step - loss: 2544123877785600.0000 - val_loss: 1530987800428544.0000\n",
      "Epoch 57/100\n",
      "133/133 [==============================] - 22s 164ms/step - loss: 2532339829702656.0000 - val_loss: 1717143091544064.0000\n",
      "Epoch 58/100\n",
      "133/133 [==============================] - 22s 169ms/step - loss: 2532017438720000.0000 - val_loss: 1914991296905216.0000\n",
      "Epoch 59/100\n",
      "133/133 [==============================] - 22s 169ms/step - loss: 2528673269809152.0000 - val_loss: 2011305535864832.0000\n",
      "Epoch 60/100\n",
      "133/133 [==============================] - 23s 171ms/step - loss: 2505119937593344.0000 - val_loss: 1891103359893504.0000\n",
      "Epoch 61/100\n",
      "133/133 [==============================] - 23s 173ms/step - loss: 2572104784412672.0000 - val_loss: 1840390130892800.0000\n",
      "Epoch 62/100\n",
      "133/133 [==============================] - 24s 178ms/step - loss: 2491389464018944.0000 - val_loss: 2277156226859008.0000\n",
      "Epoch 63/100\n",
      "133/133 [==============================] - 24s 179ms/step - loss: 2424200874688512.0000 - val_loss: 1726751872909312.0000\n",
      "Epoch 64/100\n",
      "133/133 [==============================] - 23s 176ms/step - loss: 2412880146202624.0000 - val_loss: 2128350105567232.0000\n",
      "Epoch 65/100\n",
      "133/133 [==============================] - 24s 177ms/step - loss: 2366165397536768.0000 - val_loss: 1946525886316544.0000\n",
      "Epoch 66/100\n",
      "133/133 [==============================] - 23s 176ms/step - loss: 2336905395961856.0000 - val_loss: 1721736559067136.0000\n",
      "Epoch 67/100\n",
      "133/133 [==============================] - 23s 175ms/step - loss: 2330894052360192.0000 - val_loss: 1931935345541120.0000\n",
      "Epoch 68/100\n",
      "133/133 [==============================] - 23s 175ms/step - loss: 2352431702736896.0000 - val_loss: 1711358844338176.0000\n",
      "Epoch 69/100\n",
      "133/133 [==============================] - 24s 181ms/step - loss: 2323988818690048.0000 - val_loss: 1880917844951040.0000\n",
      "Epoch 70/100\n",
      "133/133 [==============================] - 23s 172ms/step - loss: 2274509184827392.0000 - val_loss: 1742217110618112.0000\n",
      "Epoch 71/100\n",
      "133/133 [==============================] - 23s 173ms/step - loss: 2240338559238144.0000 - val_loss: 2146822088818688.0000\n",
      "Epoch 72/100\n",
      "133/133 [==============================] - 23s 173ms/step - loss: 2328439210115072.0000 - val_loss: 1688492035801088.0000\n",
      "Epoch 73/100\n",
      "133/133 [==============================] - 23s 175ms/step - loss: 2293132163022848.0000 - val_loss: 1634104864931840.0000\n",
      "Epoch 74/100\n",
      "133/133 [==============================] - 23s 172ms/step - loss: 2325994031546368.0000 - val_loss: 1717752171593728.0000\n",
      "Epoch 75/100\n",
      "133/133 [==============================] - 22s 169ms/step - loss: 2336226522693632.0000 - val_loss: 1724094227677184.0000\n",
      "Epoch 76/100\n",
      "133/133 [==============================] - 23s 175ms/step - loss: 2385793398079488.0000 - val_loss: 1893934414430208.0000\n",
      "Epoch 77/100\n",
      "133/133 [==============================] - 24s 179ms/step - loss: 2352264467447808.0000 - val_loss: 1696715287560192.0000\n",
      "Epoch 78/100\n",
      "133/133 [==============================] - 23s 176ms/step - loss: 2329046142681088.0000 - val_loss: 1769980450308096.0000\n",
      "Epoch 79/100\n",
      "133/133 [==============================] - 24s 180ms/step - loss: 2275457835728896.0000 - val_loss: 1768808192671744.0000\n",
      "Epoch 80/100\n",
      "133/133 [==============================] - 23s 175ms/step - loss: 2307477353791488.0000 - val_loss: 1794896763551744.0000\n",
      "Epoch 81/100\n",
      "133/133 [==============================] - 24s 181ms/step - loss: 2265301043380224.0000 - val_loss: 2015924504756224.0000\n",
      "Epoch 82/100\n",
      "133/133 [==============================] - 24s 177ms/step - loss: 2248372966653952.0000 - val_loss: 1912257013350400.0000\n",
      "Epoch 83/100\n",
      "133/133 [==============================] - 24s 183ms/step - loss: 2217659387084800.0000 - val_loss: 1936422915276800.0000\n",
      "Epoch 84/100\n",
      "133/133 [==============================] - 24s 179ms/step - loss: 2214688611893248.0000 - val_loss: 1868413718757376.0000\n",
      "Epoch 85/100\n",
      "133/133 [==============================] - 24s 177ms/step - loss: 2186157681016832.0000 - val_loss: 1926173378478080.0000\n",
      "Epoch 86/100\n",
      "133/133 [==============================] - 23s 171ms/step - loss: 2231598837661696.0000 - val_loss: 1880000600997888.0000\n",
      "Epoch 87/100\n",
      "133/133 [==============================] - 23s 175ms/step - loss: 2269054039490560.0000 - val_loss: 2009586475204608.0000\n",
      "Epoch 88/100\n",
      "133/133 [==============================] - 23s 174ms/step - loss: 2300618559455232.0000 - val_loss: 2089961956311040.0000\n",
      "Epoch 89/100\n",
      "133/133 [==============================] - 23s 174ms/step - loss: 2258768666558464.0000 - val_loss: 1797172290912256.0000\n",
      "Epoch 90/100\n",
      "133/133 [==============================] - 23s 175ms/step - loss: 2233281659535360.0000 - val_loss: 1790006809067520.0000\n",
      "Epoch 91/100\n",
      "133/133 [==============================] - 23s 173ms/step - loss: 2210410824466432.0000 - val_loss: 1911906570862592.0000\n",
      "Epoch 92/100\n",
      "133/133 [==============================] - 23s 173ms/step - loss: 2200030156947456.0000 - val_loss: 1946349255786496.0000\n",
      "Epoch 93/100\n",
      "133/133 [==============================] - 23s 169ms/step - loss: 2182626009939968.0000 - val_loss: 2268607631327232.0000\n",
      "Epoch 94/100\n",
      "133/133 [==============================] - 22s 168ms/step - loss: 2138426233061376.0000 - val_loss: 1945316047716352.0000\n",
      "Epoch 95/100\n",
      "133/133 [==============================] - 21s 160ms/step - loss: 2156918885842944.0000 - val_loss: 2003054769471488.0000\n",
      "Epoch 96/100\n",
      "133/133 [==============================] - 23s 170ms/step - loss: 2089082561757184.0000 - val_loss: 1795287202922496.0000\n",
      "Epoch 97/100\n",
      "133/133 [==============================] - 21s 160ms/step - loss: 2063938078375936.0000 - val_loss: 1818018585772032.0000\n",
      "Epoch 98/100\n",
      "133/133 [==============================] - 22s 166ms/step - loss: 2110671617523712.0000 - val_loss: 1707060118945792.0000\n",
      "Epoch 99/100\n",
      "133/133 [==============================] - 22s 165ms/step - loss: 2110956024889344.0000 - val_loss: 1740134991003648.0000\n",
      "Epoch 100/100\n",
      "133/133 [==============================] - 21s 161ms/step - loss: 2082782113169408.0000 - val_loss: 1671138757312512.0000\n"
     ]
    }
   ],
   "source": [
    "history = model.fit(\n",
    "    train_dataset, epochs=100, validation_data=test_dataset, validation_steps=len(test_data_in) // BATCH_SIZE\n",
    ")"
   ]
  },
  {
   "cell_type": "code",
   "execution_count": 15,
   "metadata": {},
   "outputs": [
    {
     "name": "stdout",
     "output_type": "stream",
     "text": [
      "24/24 [==============================] - 1s 46ms/step - loss: 1673792107577344.0000\n"
     ]
    }
   ],
   "source": [
    "res = model.evaluate(test_dataset)"
   ]
  },
  {
   "cell_type": "code",
   "execution_count": 16,
   "metadata": {},
   "outputs": [
    {
     "name": "stdout",
     "output_type": "stream",
     "text": [
      "675062016\n"
     ]
    }
   ],
   "source": [
    "sample_text = \"As a new threat to the galaxy rises, Rey, a desert scavenger, and Finn, an ex-stormtrooper, must join Han Solo and Chewbacca to search for the one hope of restoring peace.\"\n",
    "pred1 = model.predict(np.array([sample_text]))\n",
    "print(int(pred1[0]))"
   ]
  },
  {
   "cell_type": "code",
   "execution_count": 17,
   "metadata": {},
   "outputs": [
    {
     "name": "stdout",
     "output_type": "stream",
     "text": [
      "45881284\n"
     ]
    }
   ],
   "source": [
    "non_existant_film = \"Este is a friend of mine we meet up every tuesday night for dinner and a glass of wine. She thinks he did it but just cant prove it\"\n",
    "pred2 = model.predict(np.array([non_existant_film]))\n",
    "print(int(pred2[0]))"
   ]
  },
  {
   "cell_type": "code",
   "execution_count": 18,
   "metadata": {},
   "outputs": [
    {
     "data": {
      "image/png": "[encoded data removed]",
      "text/plain": [
       "<Figure size 432x288 with 1 Axes>"
      ]
     },
     "metadata": {
      "needs_background": "light"
     },
     "output_type": "display_data"
    }
   ],
   "source": [
    "test_predictions = model.predict(test_data_in)\n",
    "train_predictions = model.predict(train_data_in)\n",
    "plt.scatter(train_data_out, train_predictions, label='train', s=2)\n",
    "plt.scatter(test_data_out, test_predictions, label='test', s=2)\n",
    "plt.scatter(real_data['gross'], real_data['gross'], label='truths', s=1)\n",
    "plt.legend()\n",
    "plt.xlabel('Truth')\n",
    "plt.ylabel('Prediction')\n",
    "plt.show()\n",
    "plt.savefig(\"exp_14.pdf\", dpi=300)"
   ]
  },
  {
   "cell_type": "code",
   "execution_count": 19,
   "metadata": {},
   "outputs": [
    {
     "data": {
      "image/png": "[encoded data removed]",
      "text/plain": [
       "<Figure size 432x288 with 2 Axes>"
      ]
     },
     "metadata": {
      "needs_background": "light"
     },
     "output_type": "display_data"
    }
   ],
   "source": [
    "plot_graphs(history,'loss')\n",
    "plt.savefig(\"exp_14_2.pdf\", dpi=300)"
   ]
  },
  {
   "cell_type": "code",
   "execution_count": null,
   "metadata": {},
   "outputs": [],
   "source": [
    "import pickle as pkl\n",
    "pkl.dump(history, open('exp_14.pkl','wb'))"
   ]
  }
 ],
 "metadata": {
  "kernelspec": {
   "display_name": "Python3.8 | Tensorflow 2",
   "language": "python",
   "name": "tf2"
  },
  "language_info": {
   "codemirror_mode": {
    "name": "ipython",
    "version": 3
   },
   "file_extension": ".py",
   "mimetype": "text/x-python",
   "name": "python",
   "nbconvert_exporter": "python",
   "pygments_lexer": "ipython3",
   "version": "3.8.5"
  }
 },
 "nbformat": 4,
 "nbformat_minor": 2
}
