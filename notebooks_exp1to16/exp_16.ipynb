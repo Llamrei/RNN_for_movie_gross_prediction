{
 "cells": [
  {
   "cell_type": "code",
   "execution_count": 1,
   "metadata": {},
   "outputs": [],
   "source": [
    "\"\"\"\n",
    "Follows https://www.tensorflow.org/tutorials/text/text_classification_rnn\n",
    "\"\"\"\n",
    "import pickle as pkl\n",
    "import numpy as np\n",
    "import random\n",
    "import re\n",
    "\n",
    "import tensorflow_datasets as tfds\n",
    "import tensorflow as tf\n",
    "\n",
    "import matplotlib.pyplot as plt"
   ]
  },
  {
   "cell_type": "code",
   "execution_count": 2,
   "metadata": {},
   "outputs": [
    {
     "data": {
      "text/plain": [
       "datetime.datetime(2021, 1, 8, 16, 5, 28, 810718)"
      ]
     },
     "execution_count": 2,
     "metadata": {},
     "output_type": "execute_result"
    }
   ],
   "source": [
    "from datetime import datetime\n",
    "datetime.now()"
   ]
  },
  {
   "cell_type": "code",
   "execution_count": 3,
   "metadata": {},
   "outputs": [],
   "source": [
    "def plot_graphs(history, metric):\n",
    "    fig, ax1 = plt.subplots()\n",
    "\n",
    "    color = 'tab:red'\n",
    "    ax1.set_xlabel('Epochs')\n",
    "    ax1.set_ylabel(metric, color=color)\n",
    "    ax1.plot(history.history[metric], color=color)\n",
    "    ax1.tick_params(axis='y', labelcolor=color)\n",
    "\n",
    "    ax2 = ax1.twinx()  # instantiate a second axes that shares the same x-axis\n",
    "\n",
    "    color = 'tab:blue'\n",
    "    ax2.set_ylabel(\"val_\" + metric, color=color)  # we already handled the x-label with ax1\n",
    "    ax2.plot(history.history[\"val_\" + metric], color=color)\n",
    "    ax2.tick_params(axis='y', labelcolor=color)\n",
    "\n",
    "    fig.tight_layout()  # otherwise the right y-label is slightly clipped\n",
    "    plt.legend([metric, \"val_\" + metric])"
   ]
  },
  {
   "cell_type": "code",
   "execution_count": 4,
   "metadata": {},
   "outputs": [],
   "source": [
    "def split_data_into_input_and_output(data):\n",
    "    \"\"\"Take given data of format from scraper [link] and return the inputs and outputs seperated.\n",
    "\n",
    "    Args:\n",
    "        data (list): A numpy array/list of named tuples which contains entries for 'gross',\n",
    "        'title', 'synopsis' and 'year'.\n",
    "    \"\"\"\n",
    "    data_in, data_out = list(zip(*[((x[\"synopsis\"]), x[\"gross\"]) for x in data]))\n",
    "    return np.array(data_in), np.array(data_out)"
   ]
  },
  {
   "cell_type": "code",
   "execution_count": 5,
   "metadata": {},
   "outputs": [],
   "source": [
    "def add_signal(data):\n",
    "    \"\"\"\n",
    "    If the given data has no signal we cant fit a NN to it. As such, here we append how much the film grossed\n",
    "    into the synopsis of each title.\n",
    "\n",
    "    Args:\n",
    "        data (list): A numpy array/list of named tuples which contains entries for 'gross',\n",
    "        'title', 'synopsis' and 'year'.\n",
    "    \"\"\"\n",
    "    for row in data:\n",
    "        row[\"synopsis\"] = row[\"synopsis\"] + f' The film grossed ${row[\"gross\"]}'"
   ]
  },
  {
   "cell_type": "code",
   "execution_count": 6,
   "metadata": {},
   "outputs": [],
   "source": [
    "def standardize(batch):\n",
    "    '''\n",
    "    Designed to seperate digits in number\n",
    "    '''\n",
    "    DEFAULT_REGEX = r'[!\"#$%&()\\*\\+,-\\./:;<=>?@\\[\\\\\\]^_`{|}~\\']'\n",
    "    # Remove any pennies/cents\n",
    "    batch = tf.strings.regex_replace(batch, r'([\\.|,][0-9].*)', '')\n",
    "    # Normal punc strip\n",
    "    batch = tf.strings.regex_replace(batch, DEFAULT_REGEX, \"\")\n",
    "    # Spread out the values so we can get them frequent enough to appear in our vocab\n",
    "    batch = tf.strings.regex_replace(batch, r'([0-9])', r'\\1 ')\n",
    "    return batch"
   ]
  },
  {
   "cell_type": "code",
   "execution_count": 7,
   "metadata": {},
   "outputs": [],
   "source": [
    "real_data = pkl.load(open(\"complete10000_films_and_synopsis.pickle\", \"rb\"))\n",
    "add_signal(real_data)\n",
    "np.random.shuffle(real_data[500:])\n",
    "data = real_data"
   ]
  },
  {
   "cell_type": "code",
   "execution_count": 8,
   "metadata": {},
   "outputs": [],
   "source": [
    "# Fraction of overall data\n",
    "training_fraction = 0.85\n",
    "\n",
    "train_end = int(len(data) * training_fraction)\n",
    "train_data_in, train_data_out = split_data_into_input_and_output(data[:train_end])\n",
    "test_data_in, test_data_out = split_data_into_input_and_output(data[train_end:])\n",
    "\n",
    "train_dataset = tf.data.Dataset.from_tensor_slices((train_data_in, train_data_out))\n",
    "test_dataset = tf.data.Dataset.from_tensor_slices((test_data_in, test_data_out))\n",
    "\n",
    "\n",
    "# How much it loads into memory for sampling\n",
    "BUFFER_SIZE = 10000\n",
    "# Batch for gradient averaging\n",
    "BATCH_SIZE = 64\n",
    "# prefetch parrallelising loading + execution (not huge so not necessary)\n",
    "\n",
    "train_dataset = train_dataset.shuffle(BUFFER_SIZE).batch(BATCH_SIZE).prefetch(5)\n",
    "test_dataset = test_dataset.batch(BATCH_SIZE).prefetch(5)"
   ]
  },
  {
   "cell_type": "code",
   "execution_count": 9,
   "metadata": {},
   "outputs": [],
   "source": [
    "sample, label = next(iter(train_dataset.take(1)))"
   ]
  },
  {
   "cell_type": "code",
   "execution_count": 10,
   "metadata": {},
   "outputs": [],
   "source": [
    "VOCAB_SIZE = 10000\n",
    "encoder = tf.keras.layers.experimental.preprocessing.TextVectorization(\n",
    "    max_tokens=VOCAB_SIZE, ngrams=1, standardize=standardize\n",
    ")\n"
   ]
  },
  {
   "cell_type": "code",
   "execution_count": 11,
   "metadata": {},
   "outputs": [],
   "source": [
    "encoder.adapt(train_dataset.map(lambda text, label: text))"
   ]
  },
  {
   "cell_type": "code",
   "execution_count": 12,
   "metadata": {},
   "outputs": [
    {
     "name": "stdout",
     "output_type": "stream",
     "text": [
      "[[  22   72   13  110  442   26  469 8493 2273   20    2  359  146   46\n",
      "   368   27  178    4    6    7   10   12   19   16   10   14    5    0\n",
      "     0    0    0    0    0    0    0    0    0    0    0    0    0    0\n",
      "     0    0    0    0    0    0    0    0    0    0    0    0    0    0\n",
      "     0    0    0    0    0    0    0    0    0    0    0    0    0    0\n",
      "     0    0    0    0    0    0    0    0    0    0    0    0    0    0\n",
      "     0]\n",
      " [  22 7397  678   11 1690 2493   24    3 4549  615    8   98   21  245\n",
      "    28    2  222    4    6    7   17   14   17    5   18   14    0    0\n",
      "     0    0    0    0    0    0    0    0    0    0    0    0    0    0\n",
      "     0    0    0    0    0    0    0    0    0    0    0    0    0    0\n",
      "     0    0    0    0    0    0    0    0    0    0    0    0    0    0\n",
      "     0    0    0    0    0    0    0    0    0    0    0    0    0    0\n",
      "     0]\n",
      " [  56 2264  228    3  652  233  106   28    2  278   27    2 1651  582\n",
      "    32    3  195  817    4    6    7   10   18   12   18   10   15    5\n",
      "    19    0    0    0    0    0    0    0    0    0    0    0    0    0\n",
      "     0    0    0    0    0    0    0    0    0    0    0    0    0    0\n",
      "     0    0    0    0    0    0    0    0    0    0    0    0    0    0\n",
      "     0    0    0    0    0    0    0    0    0    0    0    0    0    0\n",
      "     0]]\n"
     ]
    }
   ],
   "source": [
    "encoded_sample = encoder(sample).numpy()[:3]\n",
    "print(encoded_sample)"
   ]
  },
  {
   "cell_type": "code",
   "execution_count": 13,
   "metadata": {},
   "outputs": [
    {
     "name": "stdout",
     "output_type": "stream",
     "text": [
      "Original:  b'A father and daughter form an unlikely songwriting duo in the summer before she leaves for college. The film grossed $2386251.0'\n",
      "Round-trip:  A father and daughter form an unlikely songwriting duo in the summer before she leaves for college The film grossed 2 3 8 6 2 5 1                                                          \n",
      "\n",
      "Original:  b'A banished hero of Rome allies with a sworn enemy to take his revenge on the city. The film grossed $757195.0'\n",
      "Round-trip:  A banished hero of Rome allies with a sworn enemy to take his revenge on the city The film grossed 7 5 7 1 9 5                                                           \n",
      "\n",
      "Original:  b'An ex-cop, now a private detective, takes on the search for the millions stolen by a drug lord. The film grossed $29392418.0'\n",
      "Round-trip:  An excop now a private detective takes on the search for the millions stolen by a drug lord The film grossed 2 9 3 9 2 4 1 8                                                        \n",
      "\n"
     ]
    }
   ],
   "source": [
    "vocab = np.array(encoder.get_vocabulary())\n",
    "\n",
    "for n in range(3):\n",
    "  print(\"Original: \", sample[n].numpy())\n",
    "  print(\"Round-trip: \", \" \".join(vocab[encoded_sample[n]]))\n",
    "  print()"
   ]
  },
  {
   "cell_type": "code",
   "execution_count": 14,
   "metadata": {},
   "outputs": [],
   "source": [
    "model = tf.keras.Sequential(\n",
    "    [\n",
    "        encoder,\n",
    "        tf.keras.layers.Embedding(\n",
    "            input_dim=len(encoder.get_vocabulary()), output_dim=64, mask_zero=True\n",
    "        ),\n",
    "        tf.keras.layers.Bidirectional(tf.keras.layers.LSTM(64)),\n",
    "        tf.keras.layers.Dense(64, activation=\"relu\"),\n",
    "        tf.keras.layers.Dense(64, activation=\"relu\"),\n",
    "        tf.keras.layers.Dense(1),\n",
    "    ]\n",
    ")\n",
    "\n",
    "model.compile(\n",
    "    loss=tf.keras.losses.MeanSquaredError(),\n",
    "    optimizer=tf.keras.optimizers.Adam(0.1),\n",
    ")"
   ]
  },
  {
   "cell_type": "code",
   "execution_count": 15,
   "metadata": {},
   "outputs": [
    {
     "name": "stdout",
     "output_type": "stream",
     "text": [
      "Epoch 1/100\n",
      "133/133 [==============================] - 42s 314ms/step - loss: 3979423833391104.0000 - val_loss: 860546760966144.0000\n",
      "Epoch 2/100\n",
      "133/133 [==============================] - 36s 271ms/step - loss: 3644224452952064.0000 - val_loss: 885285973917696.0000\n",
      "Epoch 3/100\n",
      "133/133 [==============================] - 36s 268ms/step - loss: 3576796687630336.0000 - val_loss: 881862952091648.0000\n",
      "Epoch 4/100\n",
      "133/133 [==============================] - 38s 288ms/step - loss: 3557541007065088.0000 - val_loss: 899629084311552.0000\n",
      "Epoch 5/100\n",
      "133/133 [==============================] - 37s 281ms/step - loss: 3505244143091712.0000 - val_loss: 954789886164992.0000\n",
      "Epoch 6/100\n",
      "133/133 [==============================] - 36s 274ms/step - loss: 3481347750363136.0000 - val_loss: 929581984907264.0000\n",
      "Epoch 7/100\n",
      "133/133 [==============================] - 36s 274ms/step - loss: 3457724088057856.0000 - val_loss: 1107122511151104.0000\n",
      "Epoch 8/100\n",
      "133/133 [==============================] - 36s 273ms/step - loss: 3425083947220992.0000 - val_loss: 1041605939167232.0000\n",
      "Epoch 9/100\n",
      "133/133 [==============================] - 36s 268ms/step - loss: 3419333791318016.0000 - val_loss: 1079775246417920.0000\n",
      "Epoch 10/100\n",
      "133/133 [==============================] - 37s 276ms/step - loss: 3440438186868736.0000 - val_loss: 960510178623488.0000\n",
      "Epoch 11/100\n",
      "133/133 [==============================] - 35s 262ms/step - loss: 3398872030248960.0000 - val_loss: 1132779236491264.0000\n",
      "Epoch 12/100\n",
      "133/133 [==============================] - 36s 273ms/step - loss: 3375586596618240.0000 - val_loss: 1114999011409920.0000\n",
      "Epoch 13/100\n",
      "133/133 [==============================] - 37s 278ms/step - loss: 3361070949335040.0000 - val_loss: 1209865041084416.0000\n",
      "Epoch 14/100\n",
      "133/133 [==============================] - 36s 270ms/step - loss: 3362583583129600.0000 - val_loss: 1132106268803072.0000\n",
      "Epoch 15/100\n",
      "133/133 [==============================] - 35s 265ms/step - loss: 3364199833010176.0000 - val_loss: 1084577489616896.0000\n",
      "Epoch 16/100\n",
      "133/133 [==============================] - 41s 305ms/step - loss: 3333458067718144.0000 - val_loss: 1164277721333760.0000\n",
      "Epoch 17/100\n",
      "133/133 [==============================] - 40s 300ms/step - loss: 3278714414563328.0000 - val_loss: 1084677213388800.0000\n",
      "Epoch 18/100\n",
      "133/133 [==============================] - 37s 281ms/step - loss: 3260751787589632.0000 - val_loss: 1358163685146624.0000\n",
      "Epoch 19/100\n",
      "133/133 [==============================] - 37s 278ms/step - loss: 3278078490968064.0000 - val_loss: 1114745339904000.0000\n",
      "Epoch 20/100\n",
      "133/133 [==============================] - 38s 283ms/step - loss: 3190848778928128.0000 - val_loss: 1277536008929280.0000\n",
      "Epoch 21/100\n",
      "133/133 [==============================] - 40s 302ms/step - loss: 3214762351525888.0000 - val_loss: 1175053928497152.0000\n",
      "Epoch 22/100\n",
      "133/133 [==============================] - 39s 296ms/step - loss: 3202562496921600.0000 - val_loss: 1175140230496256.0000\n",
      "Epoch 23/100\n",
      "133/133 [==============================] - 42s 312ms/step - loss: 3233336742903808.0000 - val_loss: 1165134298873856.0000\n",
      "Epoch 24/100\n",
      "133/133 [==============================] - 43s 325ms/step - loss: 3262749215817728.0000 - val_loss: 1200211028344832.0000\n",
      "Epoch 25/100\n",
      "133/133 [==============================] - 45s 337ms/step - loss: 3249572524589056.0000 - val_loss: 1131744015155200.0000\n",
      "Epoch 26/100\n",
      "133/133 [==============================] - 39s 295ms/step - loss: 3235813596856320.0000 - val_loss: 1190936985993216.0000\n",
      "Epoch 27/100\n",
      "133/133 [==============================] - 35s 263ms/step - loss: 3232639616024576.0000 - val_loss: 1270319524347904.0000\n",
      "Epoch 28/100\n",
      "133/133 [==============================] - 36s 273ms/step - loss: 3202623968641024.0000 - val_loss: 1126698636541952.0000\n",
      "Epoch 29/100\n",
      "133/133 [==============================] - 36s 269ms/step - loss: 3224371267108864.0000 - val_loss: 1271826655215616.0000\n",
      "Epoch 30/100\n",
      "133/133 [==============================] - 37s 277ms/step - loss: 3223685951389696.0000 - val_loss: 1182804599635968.0000\n",
      "Epoch 31/100\n",
      "133/133 [==============================] - 37s 275ms/step - loss: 3209004947865600.0000 - val_loss: 1198240980533248.0000\n",
      "Epoch 32/100\n",
      "133/133 [==============================] - 36s 268ms/step - loss: 3190003207241728.0000 - val_loss: 1230063198535680.0000\n",
      "Epoch 33/100\n",
      "133/133 [==============================] - 37s 281ms/step - loss: 3204693606006784.0000 - val_loss: 1194438189645824.0000\n",
      "Epoch 34/100\n",
      "133/133 [==============================] - 36s 274ms/step - loss: 3224544944848896.0000 - val_loss: 1275004796796928.0000\n",
      "Epoch 35/100\n",
      "133/133 [==============================] - 37s 277ms/step - loss: 3184251440726016.0000 - val_loss: 1246526479269888.0000\n",
      "Epoch 36/100\n",
      "133/133 [==============================] - 40s 304ms/step - loss: 3206847263670272.0000 - val_loss: 1303058449432576.0000\n",
      "Epoch 37/100\n",
      "133/133 [==============================] - 40s 301ms/step - loss: 3163008532480000.0000 - val_loss: 1176774197116928.0000\n",
      "Epoch 38/100\n",
      "133/133 [==============================] - 38s 288ms/step - loss: 3171233663287296.0000 - val_loss: 1275481135513600.0000\n",
      "Epoch 39/100\n",
      "133/133 [==============================] - 38s 289ms/step - loss: 3176270317748224.0000 - val_loss: 1398004070219776.0000\n",
      "Epoch 40/100\n",
      "133/133 [==============================] - 39s 294ms/step - loss: 3124212092895232.0000 - val_loss: 1343647769427968.0000\n",
      "Epoch 41/100\n",
      "133/133 [==============================] - 39s 294ms/step - loss: 3064106978377728.0000 - val_loss: 1328803154493440.0000\n",
      "Epoch 42/100\n",
      "133/133 [==============================] - 36s 271ms/step - loss: 3063721505062912.0000 - val_loss: 1391403913445376.0000\n",
      "Epoch 43/100\n",
      "133/133 [==============================] - 36s 270ms/step - loss: 3010738788499456.0000 - val_loss: 1516006417629184.0000\n",
      "Epoch 44/100\n",
      "133/133 [==============================] - 36s 268ms/step - loss: 3002033695096832.0000 - val_loss: 1314354616074240.0000\n",
      "Epoch 45/100\n",
      "133/133 [==============================] - 36s 267ms/step - loss: 3029212785016832.0000 - val_loss: 1229034285432832.0000\n",
      "Epoch 46/100\n",
      "133/133 [==============================] - 36s 271ms/step - loss: 3020465278812160.0000 - val_loss: 1482922418765824.0000\n",
      "Epoch 47/100\n",
      "133/133 [==============================] - 35s 266ms/step - loss: 3076872694923264.0000 - val_loss: 1331709102522368.0000\n",
      "Epoch 48/100\n",
      "133/133 [==============================] - 37s 276ms/step - loss: 3074754470739968.0000 - val_loss: 1255238820429824.0000\n",
      "Epoch 49/100\n",
      "133/133 [==============================] - 38s 284ms/step - loss: 3083643710865408.0000 - val_loss: 1228165628297216.0000\n",
      "Epoch 50/100\n",
      "133/133 [==============================] - 35s 264ms/step - loss: 3050347513774080.0000 - val_loss: 1325527436623872.0000\n",
      "Epoch 51/100\n",
      "133/133 [==============================] - 39s 291ms/step - loss: 3046045030285312.0000 - val_loss: 1250041775783936.0000\n",
      "Epoch 52/100\n",
      "133/133 [==============================] - 36s 269ms/step - loss: 3051131613741056.0000 - val_loss: 1298070650224640.0000\n",
      "Epoch 53/100\n",
      "133/133 [==============================] - 38s 289ms/step - loss: 3008365550632960.0000 - val_loss: 1433960865333248.0000\n",
      "Epoch 54/100\n",
      "133/133 [==============================] - 38s 286ms/step - loss: 3022603098783744.0000 - val_loss: 1328059856715776.0000\n",
      "Epoch 55/100\n",
      "133/133 [==============================] - 41s 308ms/step - loss: 3008784041508864.0000 - val_loss: 1290154622844928.0000\n",
      "Epoch 56/100\n",
      "133/133 [==============================] - 37s 278ms/step - loss: 3010934209511424.0000 - val_loss: 1291793287086080.0000\n",
      "Epoch 57/100\n",
      "133/133 [==============================] - 36s 270ms/step - loss: 2997543306788864.0000 - val_loss: 1364587748261888.0000\n",
      "Epoch 58/100\n",
      "133/133 [==============================] - 37s 276ms/step - loss: 3026824246329344.0000 - val_loss: 1358476949323776.0000\n",
      "Epoch 59/100\n",
      "133/133 [==============================] - 36s 274ms/step - loss: 3038648291295232.0000 - val_loss: 1305987080257536.0000\n",
      "Epoch 60/100\n",
      "133/133 [==============================] - 39s 293ms/step - loss: 2977883093991424.0000 - val_loss: 1369335431954432.0000\n",
      "Epoch 61/100\n",
      "133/133 [==============================] - 37s 279ms/step - loss: 2933593122799616.0000 - val_loss: 1330774276046848.0000\n",
      "Epoch 62/100\n",
      "133/133 [==============================] - 37s 282ms/step - loss: 2953746451529728.0000 - val_loss: 1282756407459840.0000\n",
      "Epoch 63/100\n",
      "133/133 [==============================] - 37s 281ms/step - loss: 2972647260422144.0000 - val_loss: 1371455803621376.0000\n",
      "Epoch 64/100\n",
      "133/133 [==============================] - 37s 278ms/step - loss: 2923068037005312.0000 - val_loss: 1258181946769408.0000\n",
      "Epoch 65/100\n",
      "133/133 [==============================] - 39s 292ms/step - loss: 2888568980635648.0000 - val_loss: 1348783879225344.0000\n",
      "Epoch 66/100\n",
      "133/133 [==============================] - 37s 279ms/step - loss: 2889063975616512.0000 - val_loss: 1377938922536960.0000\n",
      "Epoch 67/100\n",
      "133/133 [==============================] - 36s 273ms/step - loss: 2864773788073984.0000 - val_loss: 1372229300387840.0000\n",
      "Epoch 68/100\n",
      "133/133 [==============================] - 37s 278ms/step - loss: 2861624771739648.0000 - val_loss: 1647373361086464.0000\n",
      "Epoch 69/100\n",
      "133/133 [==============================] - 38s 282ms/step - loss: 2845349530042368.0000 - val_loss: 1379250766610432.0000\n",
      "Epoch 70/100\n",
      "133/133 [==============================] - 35s 261ms/step - loss: 2813931038965760.0000 - val_loss: 1450797539786752.0000\n",
      "Epoch 71/100\n",
      "133/133 [==============================] - 38s 284ms/step - loss: 2815633725063168.0000 - val_loss: 1477249706491904.0000\n",
      "Epoch 72/100\n",
      "133/133 [==============================] - 37s 275ms/step - loss: 2766944365182976.0000 - val_loss: 1363550111006720.0000\n",
      "Epoch 73/100\n",
      "133/133 [==============================] - 37s 277ms/step - loss: 2759863306289152.0000 - val_loss: 1498152372797440.0000\n",
      "Epoch 74/100\n",
      "133/133 [==============================] - 33s 250ms/step - loss: 2786252927533056.0000 - val_loss: 1458987237113856.0000\n",
      "Epoch 75/100\n",
      "133/133 [==============================] - 35s 264ms/step - loss: 2805375464112128.0000 - val_loss: 1469903567585280.0000\n",
      "Epoch 76/100\n",
      "133/133 [==============================] - 37s 278ms/step - loss: 2811775502254080.0000 - val_loss: 1642817474527232.0000\n",
      "Epoch 77/100\n",
      "133/133 [==============================] - 36s 271ms/step - loss: 2805345667776512.0000 - val_loss: 1554987406589952.0000\n",
      "Epoch 78/100\n",
      "133/133 [==============================] - 35s 264ms/step - loss: 2807487514279936.0000 - val_loss: 1615652477468672.0000\n",
      "Epoch 79/100\n",
      "133/133 [==============================] - 34s 258ms/step - loss: 2815891691536384.0000 - val_loss: 1712869733302272.0000\n",
      "Epoch 80/100\n",
      "133/133 [==============================] - 37s 275ms/step - loss: 2792080929718272.0000 - val_loss: 1584767099207680.0000\n",
      "Epoch 81/100\n",
      "133/133 [==============================] - 35s 267ms/step - loss: 2742848524910592.0000 - val_loss: 1812010060742656.0000\n",
      "Epoch 82/100\n",
      "133/133 [==============================] - 37s 278ms/step - loss: 2693597329620992.0000 - val_loss: 1813113867337728.0000\n",
      "Epoch 83/100\n",
      "133/133 [==============================] - 38s 282ms/step - loss: 2715291746304000.0000 - val_loss: 1516316997451776.0000\n",
      "Epoch 84/100\n",
      "133/133 [==============================] - 37s 275ms/step - loss: 2707307133665280.0000 - val_loss: 1567072907689984.0000\n",
      "Epoch 85/100\n",
      "133/133 [==============================] - 37s 279ms/step - loss: 2691163962212352.0000 - val_loss: 1553764951523328.0000\n",
      "Epoch 86/100\n",
      "133/133 [==============================] - 37s 275ms/step - loss: 2655806449254400.0000 - val_loss: 1603838230396928.0000\n",
      "Epoch 87/100\n",
      "133/133 [==============================] - 37s 279ms/step - loss: 2634393889800192.0000 - val_loss: 1533382915784704.0000\n",
      "Epoch 88/100\n",
      "133/133 [==============================] - 36s 274ms/step - loss: 2652143915892736.0000 - val_loss: 1419897531793408.0000\n",
      "Epoch 89/100\n",
      "133/133 [==============================] - 38s 286ms/step - loss: 2597042975145984.0000 - val_loss: 1417564827680768.0000\n",
      "Epoch 90/100\n",
      "133/133 [==============================] - 44s 330ms/step - loss: 2553280748060672.0000 - val_loss: 1536900762435584.0000\n",
      "Epoch 91/100\n",
      "133/133 [==============================] - 45s 338ms/step - loss: 2512822424567808.0000 - val_loss: 1705904370089984.0000\n",
      "Epoch 92/100\n",
      "133/133 [==============================] - 46s 348ms/step - loss: 2502663216300032.0000 - val_loss: 1460800250183680.0000\n",
      "Epoch 93/100\n",
      "133/133 [==============================] - 46s 345ms/step - loss: 2495725233504256.0000 - val_loss: 1593606141902848.0000\n",
      "Epoch 94/100\n",
      "133/133 [==============================] - 39s 294ms/step - loss: 2455204364550144.0000 - val_loss: 1534674895634432.0000\n",
      "Epoch 95/100\n",
      "133/133 [==============================] - 41s 311ms/step - loss: 2482635783798784.0000 - val_loss: 1616090161479680.0000\n",
      "Epoch 96/100\n",
      "133/133 [==============================] - 42s 316ms/step - loss: 2492634467663872.0000 - val_loss: 1831726242332672.0000\n",
      "Epoch 97/100\n",
      "133/133 [==============================] - 45s 336ms/step - loss: 2449976584044544.0000 - val_loss: 1778833854300160.0000\n",
      "Epoch 98/100\n",
      "133/133 [==============================] - 45s 341ms/step - loss: 2457311314444288.0000 - val_loss: 1826555638579200.0000\n",
      "Epoch 99/100\n",
      "133/133 [==============================] - 40s 301ms/step - loss: 2458687314591744.0000 - val_loss: 1620086360113152.0000\n",
      "Epoch 100/100\n",
      "133/133 [==============================] - 40s 299ms/step - loss: 2494909458153472.0000 - val_loss: 1851718778224640.0000\n"
     ]
    }
   ],
   "source": [
    "history = model.fit(\n",
    "    train_dataset, epochs=100, validation_data=test_dataset, validation_steps=len(test_data_in) // BATCH_SIZE\n",
    ")"
   ]
  },
  {
   "cell_type": "code",
   "execution_count": 16,
   "metadata": {},
   "outputs": [
    {
     "name": "stdout",
     "output_type": "stream",
     "text": [
      "24/24 [==============================] - 2s 75ms/step - loss: 1834619842330624.0000\n"
     ]
    }
   ],
   "source": [
    "res = model.evaluate(test_dataset)"
   ]
  },
  {
   "cell_type": "code",
   "execution_count": 17,
   "metadata": {},
   "outputs": [
    {
     "name": "stdout",
     "output_type": "stream",
     "text": [
      "31809708\n"
     ]
    }
   ],
   "source": [
    "sample_text = \"As a new threat to the galaxy rises, Rey, a desert scavenger, and Finn, an ex-stormtrooper, must join Han Solo and Chewbacca to search for the one hope of restoring peace.\"\n",
    "pred1 = model.predict(np.array([sample_text]))\n",
    "print(int(pred1[0]))"
   ]
  },
  {
   "cell_type": "code",
   "execution_count": 18,
   "metadata": {},
   "outputs": [
    {
     "name": "stdout",
     "output_type": "stream",
     "text": [
      "32149736\n"
     ]
    }
   ],
   "source": [
    "non_existant_film = \"Este is a friend of mine we meet up every tuesday night for dinner and a glass of wine. She thinks he did it but just cant prove it\"\n",
    "pred2 = model.predict(np.array([non_existant_film]))\n",
    "print(int(pred2[0]))"
   ]
  },
  {
   "cell_type": "code",
   "execution_count": 19,
   "metadata": {},
   "outputs": [
    {
     "data": {
      "image/png": "[encoded data removed]",
      "text/plain": [
       "<Figure size 432x288 with 1 Axes>"
      ]
     },
     "metadata": {
      "needs_background": "light"
     },
     "output_type": "display_data"
    },
    {
     "data": {
      "text/plain": [
       "<Figure size 432x288 with 0 Axes>"
      ]
     },
     "metadata": {},
     "output_type": "display_data"
    }
   ],
   "source": [
    "test_predictions = model.predict(test_data_in)\n",
    "train_predictions = model.predict(train_data_in)\n",
    "plt.scatter(train_data_out, train_predictions, label='train', s=2)\n",
    "plt.scatter(test_data_out, test_predictions, label='test', s=2)\n",
    "plt.scatter(real_data['gross'], real_data['gross'], label='truths', s=1)\n",
    "plt.legend()\n",
    "plt.xlabel('Truth')\n",
    "plt.ylabel('Prediction')\n",
    "plt.show()\n",
    "plt.savefig(\"exp_16.pdf\", dpi=300)"
   ]
  },
  {
   "cell_type": "code",
   "execution_count": 20,
   "metadata": {},
   "outputs": [
    {
     "data": {
      "image/png": "[encoded data removed]",
      "text/plain": [
       "<Figure size 432x288 with 2 Axes>"
      ]
     },
     "metadata": {
      "needs_background": "light"
     },
     "output_type": "display_data"
    }
   ],
   "source": [
    "plot_graphs(history,'loss')\n",
    "plt.savefig(\"exp_16_2.pdf\", dpi=300)"
   ]
  },
  {
   "cell_type": "code",
   "execution_count": 21,
   "metadata": {},
   "outputs": [
    {
     "ename": "TypeError",
     "evalue": "cannot pickle '_thread.RLock' object",
     "output_type": "error",
     "traceback": [
      "\u001b[0;31m---------------------------------------------------------------------------\u001b[0m",
      "\u001b[0;31mTypeError\u001b[0m                                 Traceback (most recent call last)",
      "\u001b[0;32m<ipython-input-21-8ee0b1aaad64>\u001b[0m in \u001b[0;36m<module>\u001b[0;34m\u001b[0m\n\u001b[1;32m      1\u001b[0m \u001b[0;32mimport\u001b[0m \u001b[0mpickle\u001b[0m \u001b[0;32mas\u001b[0m \u001b[0mpkl\u001b[0m\u001b[0;34m\u001b[0m\u001b[0;34m\u001b[0m\u001b[0m\n\u001b[0;32m----> 2\u001b[0;31m \u001b[0mpkl\u001b[0m\u001b[0;34m.\u001b[0m\u001b[0mdump\u001b[0m\u001b[0;34m(\u001b[0m\u001b[0mhistory\u001b[0m\u001b[0;34m,\u001b[0m \u001b[0mopen\u001b[0m\u001b[0;34m(\u001b[0m\u001b[0;34m'exp_16.pkl'\u001b[0m\u001b[0;34m,\u001b[0m\u001b[0;34m'wb'\u001b[0m\u001b[0;34m)\u001b[0m\u001b[0;34m)\u001b[0m\u001b[0;34m\u001b[0m\u001b[0;34m\u001b[0m\u001b[0m\n\u001b[0m",
      "\u001b[0;31mTypeError\u001b[0m: cannot pickle '_thread.RLock' object"
     ]
    }
   ],
   "source": [
    "import pickle as pkl\n",
    "pkl.dump(history, open('exp_16.pkl','wb'))"
   ]
  }
 ],
 "metadata": {
  "kernelspec": {
   "display_name": "Python3.8 | Tensorflow 2",
   "language": "python",
   "name": "tf2"
  },
  "language_info": {
   "codemirror_mode": {
    "name": "ipython",
    "version": 3
   },
   "file_extension": ".py",
   "mimetype": "text/x-python",
   "name": "python",
   "nbconvert_exporter": "python",
   "pygments_lexer": "ipython3",
   "version": "3.8.5"
  }
 },
 "nbformat": 4,
 "nbformat_minor": 2
}
