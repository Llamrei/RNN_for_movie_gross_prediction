{
 "cells": [
  {
   "cell_type": "code",
   "execution_count": 1,
   "metadata": {},
   "outputs": [],
   "source": [
    "\"\"\"\n",
    "Follows https://www.tensorflow.org/tutorials/text/text_classification_rnn\n",
    "\"\"\"\n",
    "import pickle as pkl\n",
    "import numpy as np\n",
    "import random\n",
    "import re\n",
    "\n",
    "import tensorflow_datasets as tfds\n",
    "import tensorflow as tf\n",
    "\n",
    "import matplotlib.pyplot as plt"
   ]
  },
  {
   "cell_type": "code",
   "execution_count": 2,
   "metadata": {},
   "outputs": [
    {
     "data": {
      "text/plain": [
       "datetime.datetime(2020, 12, 16, 16, 3, 12, 983587)"
      ]
     },
     "execution_count": 2,
     "metadata": {},
     "output_type": "execute_result"
    }
   ],
   "source": [
    "from datetime import datetime\n",
    "datetime.now()"
   ]
  },
  {
   "cell_type": "code",
   "execution_count": 3,
   "metadata": {},
   "outputs": [],
   "source": [
    "def plot_graphs(history, metric):\n",
    "    plt.plot(history.history[metric])\n",
    "    plt.plot(history.history[\"val_\" + metric], \"\")\n",
    "    plt.xlabel(\"Epochs\")\n",
    "    plt.ylabel(metric)\n",
    "    plt.legend([metric, \"val_\" + metric])\n"
   ]
  },
  {
   "cell_type": "code",
   "execution_count": 4,
   "metadata": {},
   "outputs": [],
   "source": [
    "def split_data_into_input_and_output(data):\n",
    "    \"\"\"Take given data of format from scraper [link] and return the inputs and outputs seperated.\n",
    "\n",
    "    Args:\n",
    "        data (list): A numpy array/list of named tuples which contains entries for 'gross',\n",
    "        'title', 'synopsis' and 'year'.\n",
    "    \"\"\"\n",
    "    data_in, data_out = list(zip(*[((x[\"synopsis\"]), x[\"gross\"]) for x in data]))\n",
    "    return np.array(data_in), np.array(data_out)"
   ]
  },
  {
   "cell_type": "code",
   "execution_count": 5,
   "metadata": {},
   "outputs": [],
   "source": [
    "def add_signal(data):\n",
    "    \"\"\"\n",
    "    If the given data has no signal we cant fit a NN to it. As such, here we append how much the film grossed\n",
    "    into the synopsis of each title.\n",
    "\n",
    "    Args:\n",
    "        data (list): A numpy array/list of named tuples which contains entries for 'gross',\n",
    "        'title', 'synopsis' and 'year'.\n",
    "    \"\"\"\n",
    "    for row in data:\n",
    "        row[\"synopsis\"] = row[\"synopsis\"] + f' The film grossed ${row[\"gross\"]}'"
   ]
  },
  {
   "cell_type": "code",
   "execution_count": 6,
   "metadata": {},
   "outputs": [],
   "source": [
    "real_data = pkl.load(open(\"complete10000_films_and_synopsis.pickle\", \"rb\"))\n",
    "# np.random.shuffle(real_data)\n",
    "data = real_data"
   ]
  },
  {
   "cell_type": "code",
   "execution_count": 7,
   "metadata": {},
   "outputs": [],
   "source": [
    "# Fraction of overall data\n",
    "training_fraction = 0.85\n",
    "\n",
    "train_end = int(len(data) * training_fraction)\n",
    "train_data_in, train_data_out = split_data_into_input_and_output(data[:train_end])\n",
    "test_data_in, test_data_out = split_data_into_input_and_output(data[train_end:])\n",
    "\n",
    "train_dataset = tf.data.Dataset.from_tensor_slices((train_data_in, train_data_out))\n",
    "test_dataset = tf.data.Dataset.from_tensor_slices((test_data_in, test_data_out))\n",
    "\n",
    "\n",
    "# How much it loads into memory for sampling\n",
    "BUFFER_SIZE = 10000\n",
    "# Batch for gradient averaging\n",
    "BATCH_SIZE = 64\n",
    "# prefetch parrallelising loading + execution (not huge so not necessary)\n",
    "\n",
    "train_dataset = train_dataset.shuffle(BUFFER_SIZE).batch(BATCH_SIZE).prefetch(5)\n",
    "test_dataset = test_dataset.batch(BATCH_SIZE).prefetch(5)"
   ]
  },
  {
   "cell_type": "code",
   "execution_count": 8,
   "metadata": {},
   "outputs": [],
   "source": [
    "sample, label = next(iter(train_dataset.take(1)))"
   ]
  },
  {
   "cell_type": "code",
   "execution_count": 9,
   "metadata": {},
   "outputs": [],
   "source": [
    "VOCAB_SIZE = 10000\n",
    "encoder = tf.keras.layers.experimental.preprocessing.TextVectorization(\n",
    "    max_tokens=VOCAB_SIZE, ngrams=1\n",
    ")\n"
   ]
  },
  {
   "cell_type": "code",
   "execution_count": 10,
   "metadata": {},
   "outputs": [],
   "source": [
    "encoder.adapt(train_dataset.map(lambda text, label: text))"
   ]
  },
  {
   "cell_type": "code",
   "execution_count": 11,
   "metadata": {},
   "outputs": [
    {
     "name": "stdout",
     "output_type": "stream",
     "text": [
      "[[  33  151  923    2  272 1452    6  911    2    1 1601  627  427    2\n",
      "   295  429   23  923 6006    4  911   49 1138    8  484  160  533  392\n",
      "     0    0    0    0    0    0    0    0    0    0    0    0    0    0\n",
      "     0    0    0    0    0    0    0    0    0    0    0    0    0    0\n",
      "     0    0    0    0    0    0    0    0    0    0    0    0    0    0\n",
      "     0    0    0    0    0    0    0    0    0    0    0    0    0    0\n",
      "     0    0    0    0    0    0    0    0    0    0    0    0    0    0\n",
      "     0    0    0    0    0    0    0    0    0    0    0    0    0    0\n",
      "     0    0    0    0    0    0    0    0    0    0    0    0    0    0\n",
      "     0    0    0    0    0    0    0    0    0    0    0    0    0    0\n",
      "     0    0    0    0    0    0    0    0    0    0    0    0    0    0\n",
      "     0    0    0    0    0    0    0    0    0    0    0    0    0    0\n",
      "     0    0    0    0    0    0    0    0    0    0    0    0    0]\n",
      " [   2  421   51    3 1088    5    8   81  984   93    3   62    5    3\n",
      "   915   15  131    0    0    0    0    0    0    0    0    0    0    0\n",
      "     0    0    0    0    0    0    0    0    0    0    0    0    0    0\n",
      "     0    0    0    0    0    0    0    0    0    0    0    0    0    0\n",
      "     0    0    0    0    0    0    0    0    0    0    0    0    0    0\n",
      "     0    0    0    0    0    0    0    0    0    0    0    0    0    0\n",
      "     0    0    0    0    0    0    0    0    0    0    0    0    0    0\n",
      "     0    0    0    0    0    0    0    0    0    0    0    0    0    0\n",
      "     0    0    0    0    0    0    0    0    0    0    0    0    0    0\n",
      "     0    0    0    0    0    0    0    0    0    0    0    0    0    0\n",
      "     0    0    0    0    0    0    0    0    0    0    0    0    0    0\n",
      "     0    0    0    0    0    0    0    0    0    0    0    0    0    0\n",
      "     0    0    0    0    0    0    0    0    0    0    0    0    0]\n",
      " [  12 7117 2193  163   68  744   10 1615   98    2  191   17   36 5659\n",
      "     4 2449    2    1 2411  688   96  254    7    2 1547    5  823    0\n",
      "     0    0    0    0    0    0    0    0    0    0    0    0    0    0\n",
      "     0    0    0    0    0    0    0    0    0    0    0    0    0    0\n",
      "     0    0    0    0    0    0    0    0    0    0    0    0    0    0\n",
      "     0    0    0    0    0    0    0    0    0    0    0    0    0    0\n",
      "     0    0    0    0    0    0    0    0    0    0    0    0    0    0\n",
      "     0    0    0    0    0    0    0    0    0    0    0    0    0    0\n",
      "     0    0    0    0    0    0    0    0    0    0    0    0    0    0\n",
      "     0    0    0    0    0    0    0    0    0    0    0    0    0    0\n",
      "     0    0    0    0    0    0    0    0    0    0    0    0    0    0\n",
      "     0    0    0    0    0    0    0    0    0    0    0    0    0    0\n",
      "     0    0    0    0    0    0    0    0    0    0    0    0    0]]\n"
     ]
    }
   ],
   "source": [
    "encoded_sample = encoder(sample).numpy()[:3]\n",
    "print(encoded_sample)"
   ]
  },
  {
   "cell_type": "code",
   "execution_count": 12,
   "metadata": {},
   "outputs": [
    {
     "name": "stdout",
     "output_type": "stream",
     "text": [
      "Original:  b\"Two men, Bill, a wealthy conservative, and Joe, a far-right factory worker, form a dangerous bond after Bill confesses to Joe about murdering his daughter's drug dealer boyfriend.\"\n",
      "Round-trip:  two men bill a wealthy conservative and joe a [UNK] factory worker form a dangerous bond after bill confesses to joe about murdering his daughters drug dealer boyfriend                                                                                                                                                         \n",
      "\n",
      "Original:  b'A dog finds the meaning of his own existence through the lives of the humans he meets.'\n",
      "Round-trip:  a dog finds the meaning of his own existence through the lives of the humans he meets                                                                                                                                                                    \n",
      "\n",
      "Original:  b'An Internal Affairs agent becomes obsessed with bringing down a cop who has managed to maintain a spotless reputation despite being involved in a web of corruption.'\n",
      "Round-trip:  an internal affairs agent becomes obsessed with bringing down a cop who has managed to maintain a [UNK] reputation despite being involved in a web of corruption                                                                                                                                                          \n",
      "\n"
     ]
    }
   ],
   "source": [
    "vocab = np.array(encoder.get_vocabulary())\n",
    "\n",
    "for n in range(3):\n",
    "  print(\"Original: \", sample[n].numpy())\n",
    "  print(\"Round-trip: \", \" \".join(vocab[encoded_sample[n]]))\n",
    "  print()"
   ]
  },
  {
   "cell_type": "code",
   "execution_count": 13,
   "metadata": {},
   "outputs": [],
   "source": [
    "model = tf.keras.Sequential(\n",
    "    [\n",
    "        encoder,\n",
    "        tf.keras.layers.Embedding(\n",
    "            input_dim=len(encoder.get_vocabulary()), output_dim=64, mask_zero=True\n",
    "        ),\n",
    "        tf.keras.layers.Bidirectional(tf.keras.layers.LSTM(64)),\n",
    "        tf.keras.layers.Dense(64, activation=\"relu\"),\n",
    "        tf.keras.layers.Dense(1),\n",
    "    ]\n",
    ")\n",
    "\n",
    "model.compile(\n",
    "    loss=tf.keras.losses.MeanSquaredError(),\n",
    "    optimizer=tf.keras.optimizers.Adam(1),\n",
    ")"
   ]
  },
  {
   "cell_type": "code",
   "execution_count": 14,
   "metadata": {},
   "outputs": [
    {
     "name": "stdout",
     "output_type": "stream",
     "text": [
      "Epoch 1/10\n",
      "133/133 [==============================] - 19s 140ms/step - loss: 3646780226928640.0000\n",
      "Epoch 2/10\n",
      "133/133 [==============================] - 18s 138ms/step - loss: 3403336111882240.0000\n",
      "Epoch 3/10\n",
      "133/133 [==============================] - 18s 139ms/step - loss: 3375853958332416.0000\n",
      "Epoch 4/10\n",
      "133/133 [==============================] - 18s 139ms/step - loss: 3336097861992448.0000\n",
      "Epoch 5/10\n",
      "133/133 [==============================] - 18s 138ms/step - loss: 3376916425867264.0000\n",
      "Epoch 6/10\n",
      "133/133 [==============================] - 19s 142ms/step - loss: 3334804539965440.0000\n",
      "Epoch 7/10\n",
      "133/133 [==============================] - 18s 135ms/step - loss: 3319502645231616.0000\n",
      "Epoch 8/10\n",
      "133/133 [==============================] - 18s 138ms/step - loss: 3322943450906624.0000\n",
      "Epoch 9/10\n",
      "133/133 [==============================] - 18s 135ms/step - loss: 3331673508806656.0000\n",
      "Epoch 10/10\n",
      "133/133 [==============================] - 18s 137ms/step - loss: 3314455790223360.0000\n"
     ]
    }
   ],
   "source": [
    "history = model.fit(\n",
    "    train_dataset, epochs=10\n",
    ")"
   ]
  },
  {
   "cell_type": "code",
   "execution_count": 15,
   "metadata": {},
   "outputs": [
    {
     "name": "stdout",
     "output_type": "stream",
     "text": [
      "24/24 [==============================] - 1s 44ms/step - loss: 3410378247634944.0000\n"
     ]
    }
   ],
   "source": [
    "res = model.evaluate(test_dataset)"
   ]
  },
  {
   "cell_type": "code",
   "execution_count": 16,
   "metadata": {},
   "outputs": [
    {
     "name": "stdout",
     "output_type": "stream",
     "text": [
      "31452744\n"
     ]
    }
   ],
   "source": [
    "sample_text = \"As a new threat to the galaxy rises, Rey, a desert scavenger, and Finn, an ex-stormtrooper, must join Han Solo and Chewbacca to search for the one hope of restoring peace.\"\n",
    "pred1 = model.predict(np.array([sample_text]))\n",
    "print(int(pred1[0]))"
   ]
  },
  {
   "cell_type": "code",
   "execution_count": 17,
   "metadata": {},
   "outputs": [
    {
     "name": "stdout",
     "output_type": "stream",
     "text": [
      "7758433\n"
     ]
    }
   ],
   "source": [
    "non_existant_film = \"Este is a friend of mine we meet up every tuesday night for dinner and a glass of wine. She thinks he did it but just cant prove it\"\n",
    "pred2 = model.predict(np.array([non_existant_film]))\n",
    "print(int(pred2[0]))"
   ]
  },
  {
   "cell_type": "code",
   "execution_count": 23,
   "metadata": {},
   "outputs": [
    {
     "data": {
      "image/png": "[encoded data removed]",
      "text/plain": [
       "<Figure size 432x288 with 1 Axes>"
      ]
     },
     "metadata": {
      "needs_background": "light"
     },
     "output_type": "display_data"
    }
   ],
   "source": [
    "test_predictions = model.predict(test_data_in)\n",
    "train_predictions = model.predict(train_data_in)\n",
    "plt.scatter(train_data_out, train_predictions, label='train', s=2)\n",
    "plt.scatter(test_data_out, test_predictions, label='test', s=2)\n",
    "plt.scatter(real_data['gross'], real_data['gross'], label='truths', s=1)\n",
    "plt.legend()\n",
    "plt.xlabel('Truth')\n",
    "plt.ylabel('Prediction')\n",
    "plt.show()"
   ]
  },
  {
   "cell_type": "code",
   "execution_count": null,
   "metadata": {},
   "outputs": [],
   "source": []
  }
 ],
 "metadata": {
  "kernelspec": {
   "display_name": "Python3.8 | Tensorflow 2",
   "language": "python",
   "name": "tf2"
  },
  "language_info": {
   "codemirror_mode": {
    "name": "ipython",
    "version": 3
   },
   "file_extension": ".py",
   "mimetype": "text/x-python",
   "name": "python",
   "nbconvert_exporter": "python",
   "pygments_lexer": "ipython3",
   "version": "3.8.5"
  }
 },
 "nbformat": 4,
 "nbformat_minor": 2
}
