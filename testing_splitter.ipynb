{
 "cells": [
  {
   "cell_type": "code",
   "execution_count": 14,
   "metadata": {},
   "outputs": [],
   "source": [
    "import pickle as pkl\n",
    "import numpy as np\n",
    "from pathlib import Path\n",
    "import matplotlib.pyplot as plt\n",
    "\n",
    "complete = Path('/rds/general/user/al3615/home/RNN_for_movie_gross_prediction/complete10000_films_and_synopsis.pickle')\n",
    "data = pkl.load(open(complete,'rb'))\n",
    "def data_split(data, valid_fraction=0.2, test_fraction=0.2, train_fraction=None):\n",
    "    \"\"\"\n",
    "    Returns `data` split into (test_set, validation_set, training_set) where the \n",
    "    \"\"\"\n",
    "    \n",
    "    if train_fraction is None:\n",
    "        train_fraction = 1 - test_fraction - valid_fraction\n",
    "    rng = np.random.default_rng()\n",
    "    rng.shuffle(data)\n",
    "    len_d = len(data)\n",
    "    test_idx = int(len_d*test_fraction)\n",
    "    valid_idx = test_idx + int(len_d*valid_fraction)\n",
    "    # Just checking method is consistent\n",
    "    train_idx = valid_idx + int(len_d*train_fraction)\n",
    "    assert train_idx == len_d\n",
    "    return (data[:test_idx], data[test_idx:valid_idx], data[valid_idx:])\n",
    "    "
   ]
  },
  {
   "cell_type": "code",
   "execution_count": 19,
   "metadata": {},
   "outputs": [
    {
     "name": "stdout",
     "output_type": "stream",
     "text": [
      "2000 2000 6000\n",
      "81.0 3989.0 3994.0\n"
     ]
    },
    {
     "data": {
      "image/png": "[encoded data removed]",
      "text/plain": [
       "<Figure size 432x288 with 1 Axes>"
      ]
     },
     "metadata": {
      "needs_background": "light"
     },
     "output_type": "display_data"
    },
    {
     "data": {
      "image/png": "[encoded data removed]",
      "text/plain": [
       "<Figure size 432x288 with 1 Axes>"
      ]
     },
     "metadata": {
      "needs_background": "light"
     },
     "output_type": "display_data"
    },
    {
     "data": {
      "image/png": "[encoded data removed]",
      "text/plain": [
       "<Figure size 432x288 with 1 Axes>"
      ]
     },
     "metadata": {
      "needs_background": "light"
     },
     "output_type": "display_data"
    }
   ],
   "source": [
    "test, validate, train = data_split(data)\n",
    "print(len(test), len(validate), len(train))\n",
    "plt.figure()\n",
    "n, bins, _ = plt.hist(test['gross'])\n",
    "plt.figure()\n",
    "n2, _, _ = plt.hist(validate['gross'], bins=bins)\n",
    "plt.figure()\n",
    "n3, _, _ = plt.hist(train['gross'], bins=bins)\n",
    "print(sum(abs(n - n2)), sum(abs(n-n3)), sum(abs(n2-n3)))"
   ]
  },
  {
   "cell_type": "code",
   "execution_count": 8,
   "metadata": {},
   "outputs": [],
   "source": [
    "pkl.dump(test, open(complete.parent / 'film_test_set.pickle','wb'))\n",
    "pkl.dump(train, open(complete.parent / 'film_train_set.pickle','wb'))\n",
    "pkl.dump(validate, open(complete.parent / 'film_validate_set.pickle','wb'))"
   ]
  },
  {
   "cell_type": "code",
   "execution_count": null,
   "metadata": {},
   "outputs": [],
   "source": []
  }
 ],
 "metadata": {
  "kernelspec": {
   "display_name": "Python [conda env:tf2-w-text]",
   "language": "python",
   "name": "conda-env-tf2-w-text-py"
  },
  "language_info": {
   "codemirror_mode": {
    "name": "ipython",
    "version": 3
   },
   "file_extension": ".py",
   "mimetype": "text/x-python",
   "name": "python",
   "nbconvert_exporter": "python",
   "pygments_lexer": "ipython3",
   "version": "3.8.5"
  }
 },
 "nbformat": 4,
 "nbformat_minor": 2
}
