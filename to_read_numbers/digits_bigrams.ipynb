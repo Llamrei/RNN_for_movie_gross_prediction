{
 "cells": [
  {
   "cell_type": "code",
   "execution_count": 1,
   "metadata": {},
   "outputs": [],
   "source": [
    "import tensorflow as tf\n",
    "import numpy as np\n",
    "import random"
   ]
  },
  {
   "cell_type": "code",
   "execution_count": 2,
   "metadata": {},
   "outputs": [
    {
     "data": {
      "text/plain": [
       "datetime.datetime(2020, 12, 18, 2, 13, 57, 2962)"
      ]
     },
     "execution_count": 2,
     "metadata": {},
     "output_type": "execute_result"
    }
   ],
   "source": [
    "from datetime import datetime\n",
    "datetime.now()"
   ]
  },
  {
   "cell_type": "code",
   "execution_count": 3,
   "metadata": {},
   "outputs": [],
   "source": [
    "data = np.array([(x,str(x)) for x in np.arange(10e5)],dtype=[('label','int32'),('input', 'U10')])\n",
    "np.random.shuffle(data)"
   ]
  },
  {
   "cell_type": "code",
   "execution_count": 4,
   "metadata": {},
   "outputs": [],
   "source": [
    "training_fraction = 0.85\n",
    "train_end = int(len(data) * training_fraction)\n",
    "\n",
    "labels, inputs = zip(*data)\n",
    "train_labels, train_inputs = np.array(labels[:train_end]), np.array(inputs[:train_end])\n",
    "test_labels, test_inputs = np.array(labels[train_end:]), np.array(inputs[train_end:])"
   ]
  },
  {
   "cell_type": "code",
   "execution_count": 5,
   "metadata": {},
   "outputs": [
    {
     "name": "stdout",
     "output_type": "stream",
     "text": [
      "(array([127612]),)\n",
      "(array([127612]),)\n"
     ]
    }
   ],
   "source": [
    "print(np.where(train_labels == 0.0))\n",
    "print(np.where(train_inputs == '0.0'))"
   ]
  },
  {
   "cell_type": "code",
   "execution_count": 6,
   "metadata": {},
   "outputs": [],
   "source": [
    "train_dataset = tf.data.Dataset.from_tensor_slices((train_inputs, train_labels))\n",
    "test_dataset = tf.data.Dataset.from_tensor_slices((test_inputs, test_labels))"
   ]
  },
  {
   "cell_type": "code",
   "execution_count": 7,
   "metadata": {},
   "outputs": [
    {
     "data": {
      "text/plain": [
       "<TakeDataset shapes: ((), ()), types: (tf.string, tf.int32)>"
      ]
     },
     "execution_count": 7,
     "metadata": {},
     "output_type": "execute_result"
    }
   ],
   "source": [
    "train_dataset.take(1)"
   ]
  },
  {
   "cell_type": "code",
   "execution_count": 8,
   "metadata": {},
   "outputs": [],
   "source": [
    "# How much it loads into memory for sampling\n",
    "BUFFER_SIZE = 100000\n",
    "# Batch for gradient averaging\n",
    "BATCH_SIZE = 64\n",
    "# prefetch parrallelising loading + execution (not huge so not necessary)\n",
    "\n",
    "train_dataset = train_dataset.shuffle(BUFFER_SIZE).batch(BATCH_SIZE).prefetch(BATCH_SIZE*2)\n",
    "test_dataset = test_dataset.batch(BATCH_SIZE).prefetch(BATCH_SIZE*2)"
   ]
  },
  {
   "cell_type": "code",
   "execution_count": 9,
   "metadata": {},
   "outputs": [
    {
     "name": "stdout",
     "output_type": "stream",
     "text": [
      "tf.Tensor(\n",
      "[b'635320.0' b'861467.0' b'556418.0' b'528254.0' b'280875.0' b'486079.0'\n",
      " b'886119.0' b'924523.0' b'238540.0' b'539371.0' b'328721.0' b'864181.0'\n",
      " b'463193.0' b'252465.0' b'92172.0' b'426401.0' b'184290.0' b'182992.0'\n",
      " b'60584.0' b'312699.0' b'93371.0' b'886704.0' b'161878.0' b'934094.0'\n",
      " b'949257.0' b'148043.0' b'497368.0' b'20916.0' b'553428.0' b'854921.0'\n",
      " b'544782.0' b'444468.0' b'788741.0' b'162833.0' b'906293.0' b'882122.0'\n",
      " b'164355.0' b'155497.0' b'441263.0' b'877413.0' b'955427.0' b'836715.0'\n",
      " b'730972.0' b'848987.0' b'398787.0' b'803066.0' b'652655.0' b'360773.0'\n",
      " b'682497.0' b'247572.0' b'171618.0' b'841396.0' b'658311.0' b'392022.0'\n",
      " b'555893.0' b'118304.0' b'951138.0' b'629005.0' b'20390.0' b'930356.0'\n",
      " b'368249.0' b'109488.0' b'541823.0' b'560843.0'], shape=(64,), dtype=string) tf.Tensor(\n",
      "[635320 861467 556418 528254 280875 486079 886119 924523 238540 539371\n",
      " 328721 864181 463193 252465  92172 426401 184290 182992  60584 312699\n",
      "  93371 886704 161878 934094 949257 148043 497368  20916 553428 854921\n",
      " 544782 444468 788741 162833 906293 882122 164355 155497 441263 877413\n",
      " 955427 836715 730972 848987 398787 803066 652655 360773 682497 247572\n",
      " 171618 841396 658311 392022 555893 118304 951138 629005  20390 930356\n",
      " 368249 109488 541823 560843], shape=(64,), dtype=int32)\n"
     ]
    }
   ],
   "source": [
    "sample, label = next(iter(train_dataset.take(1)))\n",
    "print(sample, label)"
   ]
  },
  {
   "cell_type": "code",
   "execution_count": 10,
   "metadata": {},
   "outputs": [],
   "source": [
    "def standardize(batch):\n",
    "    '''\n",
    "    Designed to seperate digits in number\n",
    "    '''\n",
    "    DEFAULT_REGEX = r'[!\"#$%&()\\*\\+,-\\./:;<=>?@\\[\\\\\\]^_`{|}~\\']'\n",
    "    # Remove any pennies/cents\n",
    "    batch = tf.strings.regex_replace(batch, r'([\\.|,][0-9].*)', '')\n",
    "    # Normal punc strip\n",
    "    batch = tf.strings.regex_replace(batch, DEFAULT_REGEX, \"\")\n",
    "    # Spread out the values so we can get them frequent enough to appear in our vocab\n",
    "    batch = tf.strings.regex_replace(batch, r'([0-9])', r'\\1 ')\n",
    "    return batch\n",
    "\n",
    "VOCAB_SIZE = 10000\n",
    "encoder = tf.keras.layers.experimental.preprocessing.TextVectorization(\n",
    "    max_tokens=VOCAB_SIZE, standardize=standardize, ngrams=(1,2)\n",
    ")\n"
   ]
  },
  {
   "cell_type": "code",
   "execution_count": 11,
   "metadata": {},
   "outputs": [],
   "source": [
    "encoder.adapt(train_dataset.map(lambda text, label: text))"
   ]
  },
  {
   "cell_type": "code",
   "execution_count": 12,
   "metadata": {},
   "outputs": [
    {
     "name": "stdout",
     "output_type": "stream",
     "text": [
      "[[ 6  7  3  7  9 11 64 16 48 88 69]\n",
      " [10  6  5  2  6  8 92 67 17 26 37]\n",
      " [ 3  3  6  2  5 10 79 15 81 60 98]]\n"
     ]
    }
   ],
   "source": [
    "encoded_sample = encoder(sample).numpy()[:3]\n",
    "print(encoded_sample)"
   ]
  },
  {
   "cell_type": "code",
   "execution_count": 13,
   "metadata": {},
   "outputs": [
    {
     "name": "stdout",
     "output_type": "stream",
     "text": [
      "Original:  b'635320.0'\n",
      "Round-trip:  6 3 5 3 2 0 6 3 3 5 5 3 3 2 2 0\n",
      "\n",
      "Original:  b'861467.0'\n",
      "Round-trip:  8 6 1 4 6 7 8 6 6 1 1 4 4 6 6 7\n",
      "\n",
      "Original:  b'556418.0'\n",
      "Round-trip:  5 5 6 4 1 8 5 5 5 6 6 4 4 1 1 8\n",
      "\n"
     ]
    }
   ],
   "source": [
    "vocab = np.array(encoder.get_vocabulary())\n",
    "for n in range(3):\n",
    "  print(\"Original: \", sample[n].numpy())\n",
    "  print(\"Round-trip: \", \" \".join(vocab[encoded_sample[n]]))\n",
    "  print()"
   ]
  },
  {
   "cell_type": "code",
   "execution_count": 14,
   "metadata": {},
   "outputs": [],
   "source": [
    "model = tf.keras.Sequential(\n",
    "    [\n",
    "        encoder,\n",
    "        tf.keras.layers.Embedding(\n",
    "            input_dim=len(encoder.get_vocabulary()), output_dim=64, mask_zero=True\n",
    "        ),\n",
    "        tf.keras.layers.Bidirectional(tf.keras.layers.LSTM(64)),\n",
    "        tf.keras.layers.Dense(64, activation=\"relu\"),\n",
    "        tf.keras.layers.Dense(64, activation=\"relu\"),\n",
    "        tf.keras.layers.Dense(1),\n",
    "    ]\n",
    ")\n",
    "\n",
    "model.compile(\n",
    "    loss=tf.keras.losses.MeanSquaredError(),\n",
    "    optimizer=tf.keras.optimizers.Adam(),\n",
    ")"
   ]
  },
  {
   "cell_type": "code",
   "execution_count": null,
   "metadata": {},
   "outputs": [
    {
     "name": "stdout",
     "output_type": "stream",
     "text": [
      "Epoch 1/100\n",
      " 6392/13282 [=============>................] - ETA: 2:58 - loss: 34063837184.0000"
     ]
    }
   ],
   "source": [
    "history = model.fit(\n",
    "    train_dataset, epochs=100, validation_steps=30, validation_data=test_dataset\n",
    ")"
   ]
  },
  {
   "cell_type": "code",
   "execution_count": null,
   "metadata": {},
   "outputs": [],
   "source": [
    "res = model.evaluate(test_dataset)"
   ]
  },
  {
   "cell_type": "code",
   "execution_count": null,
   "metadata": {},
   "outputs": [],
   "source": [
    "import matplotlib.pyplot as plt\n",
    "\n",
    "def plot_graphs(history, metric):\n",
    "    plt.plot(history.history[metric])\n",
    "    plt.plot(history.history[\"val_\" + metric], \"\")\n",
    "    plt.xlabel(\"Epochs\")\n",
    "    plt.ylabel(metric)\n",
    "    plt.legend([metric, \"val_\" + metric])"
   ]
  },
  {
   "cell_type": "code",
   "execution_count": null,
   "metadata": {},
   "outputs": [],
   "source": [
    "plot_graphs(history,'loss')"
   ]
  },
  {
   "cell_type": "code",
   "execution_count": null,
   "metadata": {},
   "outputs": [],
   "source": [
    "test_predictions = model.predict(test_inputs)\n",
    "train_predictions = model.predict(train_inputs)\n",
    "plt.scatter(train_labels, train_predictions, label='train', s=2)\n",
    "plt.scatter(test_labels, test_predictions, label='test', s=2)\n",
    "plt.legend()\n",
    "plt.xlabel('Truth')\n",
    "plt.ylabel('Prediction')\n",
    "plt.savefig('digits_bigrams.png')\n",
    "plt.show()"
   ]
  }
 ],
 "metadata": {
  "kernelspec": {
   "display_name": "Python3.8 | Tensorflow 2",
   "language": "python",
   "name": "tf2"
  },
  "language_info": {
   "codemirror_mode": {
    "name": "ipython",
    "version": 3
   },
   "file_extension": ".py",
   "mimetype": "text/x-python",
   "name": "python",
   "nbconvert_exporter": "python",
   "pygments_lexer": "ipython3",
   "version": "3.8.5"
  }
 },
 "nbformat": 4,
 "nbformat_minor": 2
}
