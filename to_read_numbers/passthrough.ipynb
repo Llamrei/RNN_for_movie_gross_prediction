{
 "cells": [
  {
   "cell_type": "code",
   "execution_count": 1,
   "metadata": {},
   "outputs": [],
   "source": [
    "import tensorflow as tf\n",
    "import numpy as np\n",
    "import random"
   ]
  },
  {
   "cell_type": "code",
   "execution_count": 2,
   "metadata": {},
   "outputs": [],
   "source": [
    "data = np.array([(x,x) for x in np.arange(10e5)],dtype=[('label','int32'),('input', 'int32')])\n",
    "np.random.shuffle(data)"
   ]
  },
  {
   "cell_type": "code",
   "execution_count": 3,
   "metadata": {},
   "outputs": [],
   "source": [
    "training_fraction = 0.85\n",
    "train_end = int(len(data) * training_fraction)\n",
    "\n",
    "labels, inputs = zip(*data)\n",
    "train_labels, train_inputs = np.array(labels[:train_end]), np.array(inputs[:train_end])\n",
    "test_labels, test_inputs = np.array(labels[train_end:]), np.array(inputs[train_end:])"
   ]
  },
  {
   "cell_type": "code",
   "execution_count": 4,
   "metadata": {},
   "outputs": [],
   "source": [
    "train_dataset = tf.data.Dataset.from_tensor_slices((train_inputs, train_labels))\n",
    "test_dataset = tf.data.Dataset.from_tensor_slices((test_inputs, test_labels))"
   ]
  },
  {
   "cell_type": "code",
   "execution_count": 5,
   "metadata": {},
   "outputs": [
    {
     "data": {
      "text/plain": [
       "<TakeDataset shapes: ((), ()), types: (tf.int32, tf.int32)>"
      ]
     },
     "execution_count": 5,
     "metadata": {},
     "output_type": "execute_result"
    }
   ],
   "source": [
    "train_dataset.take(1)"
   ]
  },
  {
   "cell_type": "code",
   "execution_count": 6,
   "metadata": {},
   "outputs": [],
   "source": [
    "# How much it loads into memory for sampling\n",
    "BUFFER_SIZE = 100000\n",
    "# Batch for gradient averaging\n",
    "BATCH_SIZE = 64\n",
    "# prefetch parrallelising loading + execution (not huge so not necessary)\n",
    "\n",
    "train_dataset = train_dataset.shuffle(BUFFER_SIZE).batch(BATCH_SIZE).prefetch(BATCH_SIZE*2)\n",
    "test_dataset = test_dataset.batch(BATCH_SIZE).prefetch(BATCH_SIZE*2)"
   ]
  },
  {
   "cell_type": "code",
   "execution_count": 7,
   "metadata": {},
   "outputs": [
    {
     "name": "stdout",
     "output_type": "stream",
     "text": [
      "tf.Tensor(\n",
      "[148169   2043 706398 893290 501723 142653 138937  59461 439160 415494\n",
      " 686416 493837 622210  57827 485866  72789 841402 105311 873995 669419\n",
      "  32997 790671 795046 941943 943020 659629 493527 213510 394333  11241\n",
      " 872020 989414 123002 898989 386961 475653 379802 436198 332336 871356\n",
      " 899361 832365  35764 521489 313912 195112 421665  96668 724660 609607\n",
      " 950451 485574 581799 643635 413537 373706 425740 766703 429613 854867\n",
      " 713091 389457 495364 742086], shape=(64,), dtype=int32) tf.Tensor(\n",
      "[148169   2043 706398 893290 501723 142653 138937  59461 439160 415494\n",
      " 686416 493837 622210  57827 485866  72789 841402 105311 873995 669419\n",
      "  32997 790671 795046 941943 943020 659629 493527 213510 394333  11241\n",
      " 872020 989414 123002 898989 386961 475653 379802 436198 332336 871356\n",
      " 899361 832365  35764 521489 313912 195112 421665  96668 724660 609607\n",
      " 950451 485574 581799 643635 413537 373706 425740 766703 429613 854867\n",
      " 713091 389457 495364 742086], shape=(64,), dtype=int32)\n"
     ]
    }
   ],
   "source": [
    "sample, label = next(iter(train_dataset.take(1)))\n",
    "print(sample, label)"
   ]
  },
  {
   "cell_type": "code",
   "execution_count": 8,
   "metadata": {},
   "outputs": [],
   "source": [
    "model = tf.keras.Sequential(\n",
    "    [\n",
    "        tf.keras.layers.Dense(64, activation=\"relu\"),\n",
    "        tf.keras.layers.Dense(64, activation=\"relu\"),\n",
    "        tf.keras.layers.Dense(1),\n",
    "    ]\n",
    ")\n",
    "\n",
    "model.compile(\n",
    "    loss=tf.keras.losses.MeanSquaredError(),\n",
    "    optimizer=tf.keras.optimizers.Adam(),\n",
    ")"
   ]
  },
  {
   "cell_type": "code",
   "execution_count": null,
   "metadata": {},
   "outputs": [
    {
     "name": "stdout",
     "output_type": "stream",
     "text": [
      "Epoch 1/100\n",
      "13282/13282 [==============================] - 17s 1ms/step - loss: 254086896.0000 - val_loss: 56.5688\n",
      "Epoch 2/100\n",
      "13282/13282 [==============================] - 24s 2ms/step - loss: 299908.2500 - val_loss: 0.0547\n",
      "Epoch 3/100\n",
      "13282/13282 [==============================] - 25s 2ms/step - loss: 247796.6094 - val_loss: 205.8928\n",
      "Epoch 4/100\n",
      "13282/13282 [==============================] - 24s 2ms/step - loss: 256325.1719 - val_loss: 840373.3750\n",
      "Epoch 5/100\n",
      "13282/13282 [==============================] - 25s 2ms/step - loss: 218372.8594 - val_loss: 0.0151\n",
      "Epoch 6/100\n",
      "13282/13282 [==============================] - 25s 2ms/step - loss: 210668.1719 - val_loss: 2181.7925\n",
      "Epoch 7/100\n",
      "13282/13282 [==============================] - 26s 2ms/step - loss: 203717.9062 - val_loss: 0.0266\n",
      "Epoch 8/100\n",
      "13282/13282 [==============================] - 27s 2ms/step - loss: 179233.2500 - val_loss: 760.0935\n",
      "Epoch 9/100\n",
      "13282/13282 [==============================] - 27s 2ms/step - loss: 198821.1250 - val_loss: 0.0633\n",
      "Epoch 10/100\n",
      "13282/13282 [==============================] - 26s 2ms/step - loss: 154472.3125 - val_loss: 122.2603\n",
      "Epoch 11/100\n",
      "13282/13282 [==============================] - 27s 2ms/step - loss: 209158.4062 - val_loss: 21689.1191\n",
      "Epoch 12/100\n",
      "13282/13282 [==============================] - 27s 2ms/step - loss: 177224.4688 - val_loss: 229970.9062\n",
      "Epoch 13/100\n",
      "13282/13282 [==============================] - 27s 2ms/step - loss: 177568.3906 - val_loss: 0.0268\n",
      "Epoch 14/100\n",
      "13282/13282 [==============================] - 27s 2ms/step - loss: 128310.3906 - val_loss: 6687.9995\n",
      "Epoch 15/100\n",
      "13282/13282 [==============================] - 27s 2ms/step - loss: 170419.8594 - val_loss: 0.0867\n",
      "Epoch 16/100\n",
      "13282/13282 [==============================] - 27s 2ms/step - loss: 130189.6797 - val_loss: 55891.9023\n",
      "Epoch 17/100\n",
      "13282/13282 [==============================] - 28s 2ms/step - loss: 135198.5000 - val_loss: 0.0202\n",
      "Epoch 18/100\n",
      "13282/13282 [==============================] - 28s 2ms/step - loss: 127176.5391 - val_loss: 0.0078\n",
      "Epoch 19/100\n",
      "13282/13282 [==============================] - 29s 2ms/step - loss: 148552.1250 - val_loss: 3.5471\n",
      "Epoch 20/100\n",
      "13282/13282 [==============================] - 30s 2ms/step - loss: 125783.2812 - val_loss: 3.3826\n",
      "Epoch 21/100\n",
      "13282/13282 [==============================] - 28s 2ms/step - loss: 115220.9453 - val_loss: 0.0098\n",
      "Epoch 22/100\n",
      "13278/13282 [============================>.] - ETA: 0s - loss: 115560.3906"
     ]
    }
   ],
   "source": [
    "history = model.fit(\n",
    "    train_dataset, epochs=100, validation_data=test_dataset, validation_steps=len(test_labels) // BATCH_SIZE\n",
    ")"
   ]
  },
  {
   "cell_type": "code",
   "execution_count": null,
   "metadata": {},
   "outputs": [],
   "source": [
    "res = model.evaluate(test_dataset)"
   ]
  },
  {
   "cell_type": "code",
   "execution_count": null,
   "metadata": {},
   "outputs": [],
   "source": [
    "import matplotlib.pyplot as plt\n",
    "\n",
    "def plot_graphs(history, metric):\n",
    "    plt.plot(history.history[metric])\n",
    "    plt.plot(history.history[\"val_\" + metric], \"\")\n",
    "    plt.xlabel(\"Epochs\")\n",
    "    plt.ylabel(metric)\n",
    "    plt.legend([metric, \"val_\" + metric])"
   ]
  },
  {
   "cell_type": "code",
   "execution_count": null,
   "metadata": {},
   "outputs": [],
   "source": [
    "plot_graphs(history,'loss')"
   ]
  },
  {
   "cell_type": "code",
   "execution_count": null,
   "metadata": {},
   "outputs": [],
   "source": [
    "test_predictions = model.predict(test_inputs)\n",
    "train_predictions = model.predict(train_inputs)\n",
    "plt.scatter(train_labels, train_predictions, label='train', s=2)\n",
    "plt.scatter(test_labels, test_predictions, label='test', s=2)\n",
    "plt.legend()\n",
    "plt.xlabel('Truth')\n",
    "plt.ylabel('Prediction')\n",
    "plt.savefig('passthrough.png')\n",
    "plt.show()"
   ]
  }
 ],
 "metadata": {
  "kernelspec": {
   "display_name": "Python3.8 | Tensorflow 2",
   "language": "python",
   "name": "tf2"
  },
  "language_info": {
   "codemirror_mode": {
    "name": "ipython",
    "version": 3
   },
   "file_extension": ".py",
   "mimetype": "text/x-python",
   "name": "python",
   "nbconvert_exporter": "python",
   "pygments_lexer": "ipython3",
   "version": "3.8.5"
  }
 },
 "nbformat": 4,
 "nbformat_minor": 2
}
