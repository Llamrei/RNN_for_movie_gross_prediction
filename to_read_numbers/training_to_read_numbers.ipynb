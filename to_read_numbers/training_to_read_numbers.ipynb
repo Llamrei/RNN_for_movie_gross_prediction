{
 "cells": [
  {
   "cell_type": "code",
   "execution_count": 1,
   "metadata": {},
   "outputs": [],
   "source": [
    "import tensorflow as tf\n",
    "import numpy as np\n",
    "import random"
   ]
  },
  {
   "cell_type": "code",
   "execution_count": 28,
   "metadata": {},
   "outputs": [],
   "source": [
    "data = np.array([(x,str(x)) for x in np.arange(10e5)],dtype=[('label','int32'),('input', 'U10')])"
   ]
  },
  {
   "cell_type": "code",
   "execution_count": 29,
   "metadata": {},
   "outputs": [],
   "source": [
    "training_fraction = 0.85\n",
    "train_end = int(len(data) * training_fraction)\n",
    "\n",
    "labels, inputs = zip(*data)\n",
    "train_labels, train_inputs = np.array(labels[:train_end]), np.array(inputs[:train_end])\n",
    "test_labels, test_inputs = np.array(labels[train_end:]), np.array(inputs[train_end:])"
   ]
  },
  {
   "cell_type": "code",
   "execution_count": 30,
   "metadata": {},
   "outputs": [
    {
     "name": "stdout",
     "output_type": "stream",
     "text": [
      "(array([0]),)\n",
      "(array([0]),)\n",
      "(array([], dtype=int64),)\n"
     ]
    },
    {
     "name": "stderr",
     "output_type": "stream",
     "text": [
      "<ipython-input-30-416eb805b2e6>:3: FutureWarning: elementwise == comparison failed and returning scalar instead; this will raise an error or perform elementwise comparison in the future.\n",
      "  print(np.where(data == (0.0,'0.0')))\n"
     ]
    }
   ],
   "source": [
    "print(np.where(train_labels == 0.0))\n",
    "print(np.where(train_inputs == '0.0'))\n",
    "print(np.where(data == (0.0,'0.0')))"
   ]
  },
  {
   "cell_type": "code",
   "execution_count": 31,
   "metadata": {},
   "outputs": [],
   "source": [
    "train_dataset = tf.data.Dataset.from_tensor_slices((train_inputs, train_labels))\n",
    "test_dataset = tf.data.Dataset.from_tensor_slices((test_inputs, test_labels))"
   ]
  },
  {
   "cell_type": "code",
   "execution_count": 32,
   "metadata": {},
   "outputs": [
    {
     "data": {
      "text/plain": [
       "<TakeDataset shapes: ((), ()), types: (tf.string, tf.int32)>"
      ]
     },
     "execution_count": 32,
     "metadata": {},
     "output_type": "execute_result"
    }
   ],
   "source": [
    "train_dataset.take(1)"
   ]
  },
  {
   "cell_type": "code",
   "execution_count": 33,
   "metadata": {},
   "outputs": [],
   "source": [
    "# How much it loads into memory for sampling\n",
    "BUFFER_SIZE = 100000\n",
    "# Batch for gradient averaging\n",
    "BATCH_SIZE = 64\n",
    "# prefetch parrallelising loading + execution (not huge so not necessary)\n",
    "\n",
    "train_dataset = train_dataset.shuffle(BUFFER_SIZE).batch(BATCH_SIZE).prefetch(BATCH_SIZE*2)\n",
    "test_dataset = test_dataset.batch(BATCH_SIZE).prefetch(BATCH_SIZE*2)"
   ]
  },
  {
   "cell_type": "code",
   "execution_count": 34,
   "metadata": {},
   "outputs": [
    {
     "name": "stdout",
     "output_type": "stream",
     "text": [
      "tf.Tensor(\n",
      "[b'79355.0' b'46193.0' b'49303.0' b'63600.0' b'27182.0' b'12455.0'\n",
      " b'1300.0' b'20993.0' b'67096.0' b'73306.0' b'43535.0' b'27926.0'\n",
      " b'94576.0' b'65195.0' b'29584.0' b'15386.0' b'58952.0' b'51546.0'\n",
      " b'93976.0' b'89059.0' b'97591.0' b'40263.0' b'50895.0' b'80269.0'\n",
      " b'76194.0' b'41752.0' b'43663.0' b'75615.0' b'94185.0' b'9782.0'\n",
      " b'90570.0' b'8051.0' b'80433.0' b'16938.0' b'17964.0' b'41786.0'\n",
      " b'30596.0' b'89461.0' b'34655.0' b'82285.0' b'97534.0' b'16609.0'\n",
      " b'51878.0' b'56155.0' b'39104.0' b'96685.0' b'20444.0' b'7612.0'\n",
      " b'91508.0' b'23128.0' b'72313.0' b'43525.0' b'57920.0' b'99315.0'\n",
      " b'6761.0' b'98183.0' b'25447.0' b'26263.0' b'41064.0' b'93616.0'\n",
      " b'59610.0' b'36805.0' b'65623.0' b'60591.0'], shape=(64,), dtype=string) tf.Tensor(\n",
      "[79355 46193 49303 63600 27182 12455  1300 20993 67096 73306 43535 27926\n",
      " 94576 65195 29584 15386 58952 51546 93976 89059 97591 40263 50895 80269\n",
      " 76194 41752 43663 75615 94185  9782 90570  8051 80433 16938 17964 41786\n",
      " 30596 89461 34655 82285 97534 16609 51878 56155 39104 96685 20444  7612\n",
      " 91508 23128 72313 43525 57920 99315  6761 98183 25447 26263 41064 93616\n",
      " 59610 36805 65623 60591], shape=(64,), dtype=int32)\n"
     ]
    }
   ],
   "source": [
    "sample, label = next(iter(train_dataset.take(1)))\n",
    "print(sample, label)"
   ]
  },
  {
   "cell_type": "code",
   "execution_count": 43,
   "metadata": {},
   "outputs": [],
   "source": [
    "def standardize(batch):\n",
    "    '''\n",
    "    Designed to seperate digits in number\n",
    "    '''\n",
    "    DEFAULT_REGEX = r'[!\"#$%&()\\*\\+,-\\./:;<=>?@\\[\\\\\\]^_`{|}~\\']'\n",
    "    # Remove any pennies/cents\n",
    "    batch = tf.strings.regex_replace(batch, r'([\\.|,][0-9].*)', '')\n",
    "    # Normal punc strip\n",
    "    batch = tf.strings.regex_replace(batch, DEFAULT_REGEX, \"\")\n",
    "    # Spread out the values so we can get them frequent enough to appear in our vocab\n",
    "    batch = tf.strings.regex_replace(batch, r'([0-9])', r'\\1 ')\n",
    "    return batch\n",
    "\n",
    "VOCAB_SIZE = 10000\n",
    "encoder = tf.keras.layers.experimental.preprocessing.TextVectorization(\n",
    "    max_tokens=VOCAB_SIZE, standardize=standardize, ngrams=(1,)\n",
    ")\n"
   ]
  },
  {
   "cell_type": "code",
   "execution_count": 44,
   "metadata": {},
   "outputs": [],
   "source": [
    "encoder.adapt(train_dataset.map(lambda text, label: text))"
   ]
  },
  {
   "cell_type": "code",
   "execution_count": 45,
   "metadata": {},
   "outputs": [
    {
     "name": "stdout",
     "output_type": "stream",
     "text": [
      "[[ 6 10  3  8  8]\n",
      " [ 2  7  5 10  3]\n",
      " [ 2 10  3 11  3]]\n"
     ]
    }
   ],
   "source": [
    "encoded_sample = encoder(sample).numpy()[:3]\n",
    "print(encoded_sample)"
   ]
  },
  {
   "cell_type": "code",
   "execution_count": 46,
   "metadata": {},
   "outputs": [
    {
     "name": "stdout",
     "output_type": "stream",
     "text": [
      "Original:  b'79355.0'\n",
      "Round-trip:  7 9 3 5 5\n",
      "\n",
      "Original:  b'46193.0'\n",
      "Round-trip:  4 6 1 9 3\n",
      "\n",
      "Original:  b'49303.0'\n",
      "Round-trip:  4 9 3 0 3\n",
      "\n"
     ]
    }
   ],
   "source": [
    "vocab = np.array(encoder.get_vocabulary())\n",
    "for n in range(3):\n",
    "  print(\"Original: \", sample[n].numpy())\n",
    "  print(\"Round-trip: \", \" \".join(vocab[encoded_sample[n]]))\n",
    "  print()"
   ]
  },
  {
   "cell_type": "code",
   "execution_count": 59,
   "metadata": {},
   "outputs": [],
   "source": [
    "model = tf.keras.Sequential(\n",
    "    [\n",
    "        encoder,\n",
    "        tf.keras.layers.Embedding(\n",
    "            input_dim=len(encoder.get_vocabulary()), output_dim=64, mask_zero=True\n",
    "        ),\n",
    "        tf.keras.layers.Bidirectional(tf.keras.layers.LSTM(64)),\n",
    "        tf.keras.layers.Dense(64, activation=\"relu\"),\n",
    "        tf.keras.layers.Dense(1),\n",
    "    ]\n",
    ")\n",
    "\n",
    "model.compile(\n",
    "    loss=tf.keras.losses.MeanSquaredError(),\n",
    "    optimizer=tf.keras.optimizers.Adam(),\n",
    ")"
   ]
  },
  {
   "cell_type": "code",
   "execution_count": 67,
   "metadata": {},
   "outputs": [
    {
     "name": "stdout",
     "output_type": "stream",
     "text": [
      "13282/13282 [==============================] - 139s 10ms/step - loss: 7352290.0000 - val_loss: 19422340.0000\n"
     ]
    }
   ],
   "source": [
    "history = model.fit(\n",
    "    train_dataset, epochs=1, validation_steps=30, validation_data=test_dataset\n",
    ")"
   ]
  },
  {
   "cell_type": "code",
   "execution_count": 68,
   "metadata": {},
   "outputs": [
    {
     "name": "stdout",
     "output_type": "stream",
     "text": [
      "2344/2344 [==============================] - 9s 4ms/step - loss: 17154484224.0000\n"
     ]
    }
   ],
   "source": [
    "res = model.evaluate(test_dataset)"
   ]
  },
  {
   "cell_type": "code",
   "execution_count": null,
   "metadata": {},
   "outputs": [
    {
     "name": "stdout",
     "output_type": "stream",
     "text": [
      "Epoch 1/50\n",
      "13282/13282 [==============================] - 145s 11ms/step - loss: 47187673088.0000 - val_loss: 70932611072.0000\n",
      "Epoch 2/50\n",
      "13282/13282 [==============================] - 140s 11ms/step - loss: 1471384448.0000 - val_loss: 76223144.0000\n",
      "Epoch 3/50\n",
      "11118/13282 [========================>.....] - ETA: 22s - loss: 36046752.0000"
     ]
    }
   ],
   "source": [
    "long_model = tf.keras.Sequential(\n",
    "    [\n",
    "        encoder,\n",
    "        tf.keras.layers.Embedding(\n",
    "            input_dim=len(encoder.get_vocabulary()), output_dim=64, mask_zero=True\n",
    "        ),\n",
    "        tf.keras.layers.Bidirectional(tf.keras.layers.LSTM(64)),\n",
    "        tf.keras.layers.Dense(64, activation=\"relu\"),\n",
    "        tf.keras.layers.Dense(1),\n",
    "    ]\n",
    ")\n",
    "\n",
    "long_model.compile(\n",
    "    loss=tf.keras.losses.MeanSquaredError(),\n",
    "    optimizer=tf.keras.optimizers.Adam(),\n",
    ")\n",
    "\n",
    "history = long_model.fit(\n",
    "    train_dataset, epochs=50, validation_steps=30, validation_data=test_dataset\n",
    ")\n",
    "\n",
    "long_res = long_model.evaluate(test_dataset)"
   ]
  },
  {
   "cell_type": "code",
   "execution_count": null,
   "metadata": {},
   "outputs": [],
   "source": [
    "sample_text = '9001234761'\n",
    "predictions = model.predict(np.array([sample_text]))\n",
    "predictions"
   ]
  },
  {
   "cell_type": "code",
   "execution_count": 70,
   "metadata": {},
   "outputs": [
    {
     "data": {
      "text/plain": [
       "array([[238.6538]], dtype=float32)"
      ]
     },
     "execution_count": 70,
     "metadata": {},
     "output_type": "execute_result"
    }
   ],
   "source": [
    "sample_text = 'asd'\n",
    "predictions = model.predict(np.array([sample_text]))\n",
    "predictions"
   ]
  },
  {
   "cell_type": "code",
   "execution_count": 71,
   "metadata": {},
   "outputs": [],
   "source": [
    "import matplotlib.pyplot as plt\n",
    "\n",
    "def plot_graphs(history, metric):\n",
    "    plt.plot(history.history[metric])\n",
    "    plt.plot(history.history[\"val_\" + metric], \"\")\n",
    "    plt.xlabel(\"Epochs\")\n",
    "    plt.ylabel(metric)\n",
    "    plt.legend([metric, \"val_\" + metric])"
   ]
  },
  {
   "cell_type": "code",
   "execution_count": 72,
   "metadata": {},
   "outputs": [
    {
     "data": {
      "image/png": "[encoded data removed]",
      "text/plain": [
       "<Figure size 432x288 with 1 Axes>"
      ]
     },
     "metadata": {
      "needs_background": "light"
     },
     "output_type": "display_data"
    }
   ],
   "source": [
    "plot_graphs(history,'loss')"
   ]
  },
  {
   "cell_type": "code",
   "execution_count": null,
   "metadata": {},
   "outputs": [],
   "source": []
  }
 ],
 "metadata": {
  "kernelspec": {
   "display_name": "Python3.8 | Tensorflow 2",
   "language": "python",
   "name": "tf2"
  },
  "language_info": {
   "codemirror_mode": {
    "name": "ipython",
    "version": 3
   },
   "file_extension": ".py",
   "mimetype": "text/x-python",
   "name": "python",
   "nbconvert_exporter": "python",
   "pygments_lexer": "ipython3",
   "version": "3.8.5"
  }
 },
 "nbformat": 4,
 "nbformat_minor": 2
}
